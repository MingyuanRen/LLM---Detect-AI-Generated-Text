{
 "cells": [
  {
   "cell_type": "code",
   "execution_count": 1,
   "id": "be2d2429",
   "metadata": {
    "execution": {
     "iopub.execute_input": "2023-11-17T17:06:00.951091Z",
     "iopub.status.busy": "2023-11-17T17:06:00.950437Z",
     "iopub.status.idle": "2023-11-17T17:07:01.283142Z",
     "shell.execute_reply": "2023-11-17T17:07:01.281896Z"
    },
    "papermill": {
     "duration": 60.343323,
     "end_time": "2023-11-17T17:07:01.285928",
     "exception": false,
     "start_time": "2023-11-17T17:06:00.942605",
     "status": "completed"
    },
    "tags": []
   },
   "outputs": [],
   "source": [
    "!pip install -q -U peft --no-index --find-links ../input/llm-detect-pip/\n",
    "!pip install -q -U accelerate --no-index --find-links ../input/llm-detect-pip/\n",
    "!pip install -q -U bitsandbytes --no-index --find-links ../input/llm-detect-pip/\n",
    "!pip install -q -U transformers --no-index --find-links ../input/llm-detect-pip/\n"
   ]
  },
  {
   "cell_type": "code",
   "execution_count": 2,
   "id": "961fb3a0",
   "metadata": {
    "execution": {
     "iopub.execute_input": "2023-11-17T17:07:01.298445Z",
     "iopub.status.busy": "2023-11-17T17:07:01.298100Z",
     "iopub.status.idle": "2023-11-17T17:07:01.302725Z",
     "shell.execute_reply": "2023-11-17T17:07:01.301935Z"
    },
    "papermill": {
     "duration": 0.013047,
     "end_time": "2023-11-17T17:07:01.304669",
     "exception": false,
     "start_time": "2023-11-17T17:07:01.291622",
     "status": "completed"
    },
    "tags": []
   },
   "outputs": [],
   "source": [
    "from __future__ import annotations\n",
    "\n",
    "EXP = \"exp001\"\n",
    "TARGET_MODEL = \"/kaggle/input/llama2-7b-hf/Llama2-7b-hf\"\n",
    "\n",
    "DEBUG = False"
   ]
  },
  {
   "cell_type": "code",
   "execution_count": 3,
   "id": "d674bd35",
   "metadata": {
    "execution": {
     "iopub.execute_input": "2023-11-17T17:07:01.316379Z",
     "iopub.status.busy": "2023-11-17T17:07:01.316104Z",
     "iopub.status.idle": "2023-11-17T17:07:01.320535Z",
     "shell.execute_reply": "2023-11-17T17:07:01.319725Z"
    },
    "papermill": {
     "duration": 0.012507,
     "end_time": "2023-11-17T17:07:01.322411",
     "exception": false,
     "start_time": "2023-11-17T17:07:01.309904",
     "status": "completed"
    },
    "tags": []
   },
   "outputs": [],
   "source": [
    "# %% Directory settings\n",
    "\n",
    "# ====================================================\n",
    "# Directory settings\n",
    "# ====================================================\n",
    "from pathlib import Path\n",
    "\n",
    "OUTPUT_DIR = Path(\"/kaggle/input/llm-detect-ai-generated-text-llama-2-13b\")\n",
    "#OUTPUT_DIR.mkdir(exist_ok=True, parents=True)\n",
    "\n",
    "INPUT_DIR = Path(\"../input/\")"
   ]
  },
  {
   "cell_type": "code",
   "execution_count": 4,
   "id": "87e4d4fb",
   "metadata": {
    "execution": {
     "iopub.execute_input": "2023-11-17T17:07:01.333906Z",
     "iopub.status.busy": "2023-11-17T17:07:01.333624Z",
     "iopub.status.idle": "2023-11-17T17:07:02.033653Z",
     "shell.execute_reply": "2023-11-17T17:07:02.032739Z"
    },
    "papermill": {
     "duration": 0.708326,
     "end_time": "2023-11-17T17:07:02.035987",
     "exception": false,
     "start_time": "2023-11-17T17:07:01.327661",
     "status": "completed"
    },
    "tags": []
   },
   "outputs": [
    {
     "name": "stdout",
     "output_type": "stream",
     "text": [
      "test_df.shape: (3, 3)\n"
     ]
    }
   ],
   "source": [
    "import pandas as pd\n",
    "test_df = pd.read_csv(INPUT_DIR / \"llm-detect-ai-generated-text/test_essays.csv\", sep=',')\n",
    "print(f'test_df.shape: {test_df.shape}')\n"
   ]
  },
  {
   "cell_type": "code",
   "execution_count": 5,
   "id": "3e7a7533",
   "metadata": {
    "execution": {
     "iopub.execute_input": "2023-11-17T17:07:02.047805Z",
     "iopub.status.busy": "2023-11-17T17:07:02.047518Z",
     "iopub.status.idle": "2023-11-17T17:07:02.063908Z",
     "shell.execute_reply": "2023-11-17T17:07:02.063042Z"
    },
    "papermill": {
     "duration": 0.024638,
     "end_time": "2023-11-17T17:07:02.065985",
     "exception": false,
     "start_time": "2023-11-17T17:07:02.041347",
     "status": "completed"
    },
    "tags": []
   },
   "outputs": [
    {
     "data": {
      "text/html": [
       "<div>\n",
       "<style scoped>\n",
       "    .dataframe tbody tr th:only-of-type {\n",
       "        vertical-align: middle;\n",
       "    }\n",
       "\n",
       "    .dataframe tbody tr th {\n",
       "        vertical-align: top;\n",
       "    }\n",
       "\n",
       "    .dataframe thead th {\n",
       "        text-align: right;\n",
       "    }\n",
       "</style>\n",
       "<table border=\"1\" class=\"dataframe\">\n",
       "  <thead>\n",
       "    <tr style=\"text-align: right;\">\n",
       "      <th></th>\n",
       "      <th>id</th>\n",
       "      <th>prompt_id</th>\n",
       "      <th>text</th>\n",
       "    </tr>\n",
       "  </thead>\n",
       "  <tbody>\n",
       "    <tr>\n",
       "      <th>0</th>\n",
       "      <td>0000aaaa</td>\n",
       "      <td>2</td>\n",
       "      <td>Aaa bbb ccc.</td>\n",
       "    </tr>\n",
       "    <tr>\n",
       "      <th>1</th>\n",
       "      <td>1111bbbb</td>\n",
       "      <td>3</td>\n",
       "      <td>Bbb ccc ddd.</td>\n",
       "    </tr>\n",
       "    <tr>\n",
       "      <th>2</th>\n",
       "      <td>2222cccc</td>\n",
       "      <td>4</td>\n",
       "      <td>CCC ddd eee.</td>\n",
       "    </tr>\n",
       "  </tbody>\n",
       "</table>\n",
       "</div>"
      ],
      "text/plain": [
       "         id  prompt_id          text\n",
       "0  0000aaaa          2  Aaa bbb ccc.\n",
       "1  1111bbbb          3  Bbb ccc ddd.\n",
       "2  2222cccc          4  CCC ddd eee."
      ]
     },
     "execution_count": 5,
     "metadata": {},
     "output_type": "execute_result"
    }
   ],
   "source": [
    "test_df.head(3)"
   ]
  },
  {
   "cell_type": "code",
   "execution_count": 6,
   "id": "e925728e",
   "metadata": {
    "execution": {
     "iopub.execute_input": "2023-11-17T17:07:02.078297Z",
     "iopub.status.busy": "2023-11-17T17:07:02.078021Z",
     "iopub.status.idle": "2023-11-17T17:07:07.567847Z",
     "shell.execute_reply": "2023-11-17T17:07:07.566914Z"
    },
    "papermill": {
     "duration": 5.498698,
     "end_time": "2023-11-17T17:07:07.570364",
     "exception": false,
     "start_time": "2023-11-17T17:07:02.071666",
     "status": "completed"
    },
    "tags": []
   },
   "outputs": [],
   "source": [
    "from transformers import AutoTokenizer, LlamaForSequenceClassification\n",
    "\n",
    "tokenizer = AutoTokenizer.from_pretrained(TARGET_MODEL, use_fast=False)\n",
    "tokenizer.pad_token = tokenizer.eos_token"
   ]
  },
  {
   "cell_type": "code",
   "execution_count": 7,
   "id": "a5de2f4a",
   "metadata": {
    "execution": {
     "iopub.execute_input": "2023-11-17T17:07:07.583719Z",
     "iopub.status.busy": "2023-11-17T17:07:07.582904Z",
     "iopub.status.idle": "2023-11-17T17:07:08.000259Z",
     "shell.execute_reply": "2023-11-17T17:07:07.999247Z"
    },
    "papermill": {
     "duration": 0.426437,
     "end_time": "2023-11-17T17:07:08.002672",
     "exception": false,
     "start_time": "2023-11-17T17:07:07.576235",
     "status": "completed"
    },
    "tags": []
   },
   "outputs": [],
   "source": [
    "# datasets\n",
    "from datasets import Dataset\n",
    "\n",
    "# from pandas\n",
    "test_ds = Dataset.from_pandas(test_df)\n"
   ]
  },
  {
   "cell_type": "code",
   "execution_count": 8,
   "id": "2358830a",
   "metadata": {
    "execution": {
     "iopub.execute_input": "2023-11-17T17:07:08.015953Z",
     "iopub.status.busy": "2023-11-17T17:07:08.014978Z",
     "iopub.status.idle": "2023-11-17T17:07:08.019952Z",
     "shell.execute_reply": "2023-11-17T17:07:08.019052Z"
    },
    "papermill": {
     "duration": 0.013389,
     "end_time": "2023-11-17T17:07:08.021850",
     "exception": false,
     "start_time": "2023-11-17T17:07:08.008461",
     "status": "completed"
    },
    "tags": []
   },
   "outputs": [],
   "source": [
    "def preprocess_function(examples, max_length=1024):\n",
    "    return tokenizer(examples[\"text\"], truncation=True, max_length=max_length)"
   ]
  },
  {
   "cell_type": "code",
   "execution_count": 9,
   "id": "13f72970",
   "metadata": {
    "execution": {
     "iopub.execute_input": "2023-11-17T17:07:08.034555Z",
     "iopub.status.busy": "2023-11-17T17:07:08.033992Z",
     "iopub.status.idle": "2023-11-17T17:07:08.109664Z",
     "shell.execute_reply": "2023-11-17T17:07:08.108973Z"
    },
    "papermill": {
     "duration": 0.084049,
     "end_time": "2023-11-17T17:07:08.111530",
     "exception": false,
     "start_time": "2023-11-17T17:07:08.027481",
     "status": "completed"
    },
    "tags": []
   },
   "outputs": [
    {
     "data": {
      "application/vnd.jupyter.widget-view+json": {
       "model_id": "a5ef3bdda48f431db2cf970911e07c96",
       "version_major": 2,
       "version_minor": 0
      },
      "text/plain": [
       "  0%|          | 0/1 [00:00<?, ?ba/s]"
      ]
     },
     "metadata": {},
     "output_type": "display_data"
    }
   ],
   "source": [
    "test_tokenized_ds = test_ds.map(preprocess_function, batched=True)\n"
   ]
  },
  {
   "cell_type": "code",
   "execution_count": 10,
   "id": "27bf78e8",
   "metadata": {
    "execution": {
     "iopub.execute_input": "2023-11-17T17:07:08.126355Z",
     "iopub.status.busy": "2023-11-17T17:07:08.126027Z",
     "iopub.status.idle": "2023-11-17T17:07:16.136177Z",
     "shell.execute_reply": "2023-11-17T17:07:16.135280Z"
    },
    "papermill": {
     "duration": 8.020056,
     "end_time": "2023-11-17T17:07:16.138462",
     "exception": false,
     "start_time": "2023-11-17T17:07:08.118406",
     "status": "completed"
    },
    "tags": []
   },
   "outputs": [
    {
     "name": "stderr",
     "output_type": "stream",
     "text": [
      "/opt/conda/lib/python3.10/site-packages/scipy/__init__.py:146: UserWarning: A NumPy version >=1.16.5 and <1.23.0 is required for this version of SciPy (detected version 1.23.5\n",
      "  warnings.warn(f\"A NumPy version >={np_minversion} and <{np_maxversion}\"\n"
     ]
    }
   ],
   "source": [
    "from transformers import DataCollatorWithPadding\n",
    "\n",
    "data_collator = DataCollatorWithPadding(tokenizer=tokenizer, padding=\"longest\")"
   ]
  },
  {
   "cell_type": "code",
   "execution_count": 11,
   "id": "041b117e",
   "metadata": {
    "execution": {
     "iopub.execute_input": "2023-11-17T17:07:16.152028Z",
     "iopub.status.busy": "2023-11-17T17:07:16.151404Z",
     "iopub.status.idle": "2023-11-17T17:07:16.258149Z",
     "shell.execute_reply": "2023-11-17T17:07:16.257379Z"
    },
    "papermill": {
     "duration": 0.116005,
     "end_time": "2023-11-17T17:07:16.260450",
     "exception": false,
     "start_time": "2023-11-17T17:07:16.144445",
     "status": "completed"
    },
    "tags": []
   },
   "outputs": [],
   "source": [
    "# load model / tokenizer with 4bit bnb\n",
    "\n",
    "from peft import get_peft_config, PeftModel, PeftConfig, get_peft_model, LoraConfig, TaskType # type: ignore\n",
    "from transformers import BitsAndBytesConfig\n",
    "import torch\n",
    "\n",
    "\n",
    "bnb_config = BitsAndBytesConfig(\n",
    "    load_in_4bit=True,\n",
    "    bnb_4bit_quant_type=\"nf4\",\n",
    "    bnb_4bit_use_double_quant=True,\n",
    "    bnb_4bit_compute_dtype=torch.bfloat16\n",
    ")"
   ]
  },
  {
   "cell_type": "code",
   "execution_count": 12,
   "id": "8a2cbb9b",
   "metadata": {
    "execution": {
     "iopub.execute_input": "2023-11-17T17:07:16.273536Z",
     "iopub.status.busy": "2023-11-17T17:07:16.273254Z",
     "iopub.status.idle": "2023-11-17T17:09:25.294743Z",
     "shell.execute_reply": "2023-11-17T17:09:25.293735Z"
    },
    "papermill": {
     "duration": 129.030739,
     "end_time": "2023-11-17T17:09:25.297132",
     "exception": false,
     "start_time": "2023-11-17T17:07:16.266393",
     "status": "completed"
    },
    "tags": []
   },
   "outputs": [
    {
     "data": {
      "application/vnd.jupyter.widget-view+json": {
       "model_id": "1637530390204aabb255f62b842c259c",
       "version_major": 2,
       "version_minor": 0
      },
      "text/plain": [
       "Loading checkpoint shards:   0%|          | 0/2 [00:00<?, ?it/s]"
      ]
     },
     "metadata": {},
     "output_type": "display_data"
    },
    {
     "name": "stderr",
     "output_type": "stream",
     "text": [
      "Some weights of LlamaForSequenceClassification were not initialized from the model checkpoint at /kaggle/input/llama2-7b-hf/Llama2-7b-hf and are newly initialized: ['score.weight']\n",
      "You should probably TRAIN this model on a down-stream task to be able to use it for predictions and inference.\n"
     ]
    }
   ],
   "source": [
    "from transformers import AutoTokenizer, LlamaForSequenceClassification\n",
    "\n",
    "base_model = LlamaForSequenceClassification.from_pretrained(\n",
    "    TARGET_MODEL,\n",
    "    num_labels=2,\n",
    "    quantization_config=bnb_config,\n",
    "    device_map={\"\":0}\n",
    ")\n",
    "base_model.config.pretraining_tp = 1 # 1 is 7b\n",
    "base_model.config.pad_token_id = tokenizer.pad_token_id\n"
   ]
  },
  {
   "cell_type": "code",
   "execution_count": 13,
   "id": "330d0e49",
   "metadata": {
    "execution": {
     "iopub.execute_input": "2023-11-17T17:09:25.310732Z",
     "iopub.status.busy": "2023-11-17T17:09:25.310352Z",
     "iopub.status.idle": "2023-11-17T17:09:36.615986Z",
     "shell.execute_reply": "2023-11-17T17:09:36.614905Z"
    },
    "papermill": {
     "duration": 11.315074,
     "end_time": "2023-11-17T17:09:36.618436",
     "exception": false,
     "start_time": "2023-11-17T17:09:25.303362",
     "status": "completed"
    },
    "tags": []
   },
   "outputs": [],
   "source": [
    "model = PeftModel.from_pretrained(base_model, str(OUTPUT_DIR))\n"
   ]
  },
  {
   "cell_type": "code",
   "execution_count": 14,
   "id": "1463ab1f",
   "metadata": {
    "execution": {
     "iopub.execute_input": "2023-11-17T17:09:36.632212Z",
     "iopub.status.busy": "2023-11-17T17:09:36.631888Z",
     "iopub.status.idle": "2023-11-17T17:09:37.307372Z",
     "shell.execute_reply": "2023-11-17T17:09:37.306568Z"
    },
    "papermill": {
     "duration": 0.685092,
     "end_time": "2023-11-17T17:09:37.309758",
     "exception": false,
     "start_time": "2023-11-17T17:09:36.624666",
     "status": "completed"
    },
    "tags": []
   },
   "outputs": [],
   "source": [
    "from transformers import TrainingArguments, Trainer\n",
    "\n",
    "trainer = Trainer(\n",
    "    model=model,\n",
    "    tokenizer=tokenizer,\n",
    "    data_collator=data_collator,\n",
    ")"
   ]
  },
  {
   "cell_type": "code",
   "execution_count": 15,
   "id": "bee8d896",
   "metadata": {
    "execution": {
     "iopub.execute_input": "2023-11-17T17:09:37.323162Z",
     "iopub.status.busy": "2023-11-17T17:09:37.322875Z",
     "iopub.status.idle": "2023-11-17T17:09:39.574706Z",
     "shell.execute_reply": "2023-11-17T17:09:39.573816Z"
    },
    "papermill": {
     "duration": 2.260637,
     "end_time": "2023-11-17T17:09:39.576637",
     "exception": false,
     "start_time": "2023-11-17T17:09:37.316000",
     "status": "completed"
    },
    "tags": []
   },
   "outputs": [
    {
     "data": {
      "text/html": [],
      "text/plain": [
       "<IPython.core.display.HTML object>"
      ]
     },
     "metadata": {},
     "output_type": "display_data"
    }
   ],
   "source": [
    "pred_output = trainer.predict(test_tokenized_ds)\n",
    "logits = pred_output.predictions"
   ]
  },
  {
   "cell_type": "code",
   "execution_count": 16,
   "id": "f3b625fe",
   "metadata": {
    "execution": {
     "iopub.execute_input": "2023-11-17T17:09:39.590120Z",
     "iopub.status.busy": "2023-11-17T17:09:39.589782Z",
     "iopub.status.idle": "2023-11-17T17:09:39.597080Z",
     "shell.execute_reply": "2023-11-17T17:09:39.596237Z"
    },
    "papermill": {
     "duration": 0.016127,
     "end_time": "2023-11-17T17:09:39.598971",
     "exception": false,
     "start_time": "2023-11-17T17:09:39.582844",
     "status": "completed"
    },
    "tags": []
   },
   "outputs": [
    {
     "data": {
      "text/plain": [
       "array([0.02179, 0.02263, 0.02434], dtype=float16)"
      ]
     },
     "execution_count": 16,
     "metadata": {},
     "output_type": "execute_result"
    }
   ],
   "source": [
    "from scipy.special import expit as sigmoid\n",
    "import numpy as np\n",
    "def sigmoid(x):\n",
    "    return 1 / (1 + np.exp(-x))  \n",
    "probs = sigmoid(logits[:, 1])\n",
    "probs"
   ]
  },
  {
   "cell_type": "code",
   "execution_count": 17,
   "id": "3e10c32d",
   "metadata": {
    "execution": {
     "iopub.execute_input": "2023-11-17T17:09:39.612908Z",
     "iopub.status.busy": "2023-11-17T17:09:39.612176Z",
     "iopub.status.idle": "2023-11-17T17:09:39.628358Z",
     "shell.execute_reply": "2023-11-17T17:09:39.627567Z"
    },
    "papermill": {
     "duration": 0.025207,
     "end_time": "2023-11-17T17:09:39.630208",
     "exception": false,
     "start_time": "2023-11-17T17:09:39.605001",
     "status": "completed"
    },
    "tags": []
   },
   "outputs": [
    {
     "data": {
      "text/html": [
       "<div>\n",
       "<style scoped>\n",
       "    .dataframe tbody tr th:only-of-type {\n",
       "        vertical-align: middle;\n",
       "    }\n",
       "\n",
       "    .dataframe tbody tr th {\n",
       "        vertical-align: top;\n",
       "    }\n",
       "\n",
       "    .dataframe thead th {\n",
       "        text-align: right;\n",
       "    }\n",
       "</style>\n",
       "<table border=\"1\" class=\"dataframe\">\n",
       "  <thead>\n",
       "    <tr style=\"text-align: right;\">\n",
       "      <th></th>\n",
       "      <th>id</th>\n",
       "      <th>generated</th>\n",
       "    </tr>\n",
       "  </thead>\n",
       "  <tbody>\n",
       "    <tr>\n",
       "      <th>0</th>\n",
       "      <td>0000aaaa</td>\n",
       "      <td>0.021790</td>\n",
       "    </tr>\n",
       "    <tr>\n",
       "      <th>1</th>\n",
       "      <td>1111bbbb</td>\n",
       "      <td>0.022629</td>\n",
       "    </tr>\n",
       "    <tr>\n",
       "      <th>2</th>\n",
       "      <td>2222cccc</td>\n",
       "      <td>0.024338</td>\n",
       "    </tr>\n",
       "  </tbody>\n",
       "</table>\n",
       "</div>"
      ],
      "text/plain": [
       "         id  generated\n",
       "0  0000aaaa   0.021790\n",
       "1  1111bbbb   0.022629\n",
       "2  2222cccc   0.024338"
      ]
     },
     "execution_count": 17,
     "metadata": {},
     "output_type": "execute_result"
    }
   ],
   "source": [
    "sub = pd.DataFrame()\n",
    "sub['id'] = test_df['id']\n",
    "sub['generated'] = probs\n",
    "sub.to_csv('submission.csv', index=False)\n",
    "sub.head()"
   ]
  }
 ],
 "metadata": {
  "kaggle": {
   "accelerator": "gpu",
   "dataSources": [
    {
     "databundleVersionId": 6888007,
     "sourceId": 61542,
     "sourceType": "competition"
    },
    {
     "datasetId": 3601853,
     "sourceId": 6266221,
     "sourceType": "datasetVersion"
    },
    {
     "datasetId": 3796024,
     "sourceId": 6571530,
     "sourceType": "datasetVersion"
    },
    {
     "datasetId": 3939470,
     "sourceId": 6853624,
     "sourceType": "datasetVersion"
    },
    {
     "datasetId": 3948269,
     "sourceId": 6990678,
     "sourceType": "datasetVersion"
    },
    {
     "sourceId": 148861315,
     "sourceType": "kernelVersion"
    }
   ],
   "dockerImageVersionId": 30559,
   "isGpuEnabled": true,
   "isInternetEnabled": false,
   "language": "python",
   "sourceType": "notebook"
  },
  "kernelspec": {
   "display_name": "Python 3",
   "language": "python",
   "name": "python3"
  },
  "language_info": {
   "codemirror_mode": {
    "name": "ipython",
    "version": 3
   },
   "file_extension": ".py",
   "mimetype": "text/x-python",
   "name": "python",
   "nbconvert_exporter": "python",
   "pygments_lexer": "ipython3",
   "version": "3.10.12"
  },
  "papermill": {
   "default_parameters": {},
   "duration": 225.608,
   "end_time": "2023-11-17T17:09:43.159846",
   "environment_variables": {},
   "exception": null,
   "input_path": "__notebook__.ipynb",
   "output_path": "__notebook__.ipynb",
   "parameters": {},
   "start_time": "2023-11-17T17:05:57.551846",
   "version": "2.4.0"
  },
  "widgets": {
   "application/vnd.jupyter.widget-state+json": {
    "state": {
     "0311d5640d1c4dd199d0b7fa97b8dc44": {
      "model_module": "@jupyter-widgets/base",
      "model_module_version": "1.2.0",
      "model_name": "LayoutModel",
      "state": {
       "_model_module": "@jupyter-widgets/base",
       "_model_module_version": "1.2.0",
       "_model_name": "LayoutModel",
       "_view_count": null,
       "_view_module": "@jupyter-widgets/base",
       "_view_module_version": "1.2.0",
       "_view_name": "LayoutView",
       "align_content": null,
       "align_items": null,
       "align_self": null,
       "border": null,
       "bottom": null,
       "display": null,
       "flex": null,
       "flex_flow": null,
       "grid_area": null,
       "grid_auto_columns": null,
       "grid_auto_flow": null,
       "grid_auto_rows": null,
       "grid_column": null,
       "grid_gap": null,
       "grid_row": null,
       "grid_template_areas": null,
       "grid_template_columns": null,
       "grid_template_rows": null,
       "height": null,
       "justify_content": null,
       "justify_items": null,
       "left": null,
       "margin": null,
       "max_height": null,
       "max_width": null,
       "min_height": null,
       "min_width": null,
       "object_fit": null,
       "object_position": null,
       "order": null,
       "overflow": null,
       "overflow_x": null,
       "overflow_y": null,
       "padding": null,
       "right": null,
       "top": null,
       "visibility": null,
       "width": null
      }
     },
     "1637530390204aabb255f62b842c259c": {
      "model_module": "@jupyter-widgets/controls",
      "model_module_version": "1.5.0",
      "model_name": "HBoxModel",
      "state": {
       "_dom_classes": [],
       "_model_module": "@jupyter-widgets/controls",
       "_model_module_version": "1.5.0",
       "_model_name": "HBoxModel",
       "_view_count": null,
       "_view_module": "@jupyter-widgets/controls",
       "_view_module_version": "1.5.0",
       "_view_name": "HBoxView",
       "box_style": "",
       "children": [
        "IPY_MODEL_19fc4ddd49314390a06109ee4e349b07",
        "IPY_MODEL_3d3e795ddd604a6ead714ec7fdb2071d",
        "IPY_MODEL_7cefcf7106d644b8bf738fb969248ebb"
       ],
       "layout": "IPY_MODEL_86639d4b6e674efe9c3c876861904f7c"
      }
     },
     "19eda76a0c024773a5b3031887f1c126": {
      "model_module": "@jupyter-widgets/base",
      "model_module_version": "1.2.0",
      "model_name": "LayoutModel",
      "state": {
       "_model_module": "@jupyter-widgets/base",
       "_model_module_version": "1.2.0",
       "_model_name": "LayoutModel",
       "_view_count": null,
       "_view_module": "@jupyter-widgets/base",
       "_view_module_version": "1.2.0",
       "_view_name": "LayoutView",
       "align_content": null,
       "align_items": null,
       "align_self": null,
       "border": null,
       "bottom": null,
       "display": null,
       "flex": null,
       "flex_flow": null,
       "grid_area": null,
       "grid_auto_columns": null,
       "grid_auto_flow": null,
       "grid_auto_rows": null,
       "grid_column": null,
       "grid_gap": null,
       "grid_row": null,
       "grid_template_areas": null,
       "grid_template_columns": null,
       "grid_template_rows": null,
       "height": null,
       "justify_content": null,
       "justify_items": null,
       "left": null,
       "margin": null,
       "max_height": null,
       "max_width": null,
       "min_height": null,
       "min_width": null,
       "object_fit": null,
       "object_position": null,
       "order": null,
       "overflow": null,
       "overflow_x": null,
       "overflow_y": null,
       "padding": null,
       "right": null,
       "top": null,
       "visibility": null,
       "width": null
      }
     },
     "19fc4ddd49314390a06109ee4e349b07": {
      "model_module": "@jupyter-widgets/controls",
      "model_module_version": "1.5.0",
      "model_name": "HTMLModel",
      "state": {
       "_dom_classes": [],
       "_model_module": "@jupyter-widgets/controls",
       "_model_module_version": "1.5.0",
       "_model_name": "HTMLModel",
       "_view_count": null,
       "_view_module": "@jupyter-widgets/controls",
       "_view_module_version": "1.5.0",
       "_view_name": "HTMLView",
       "description": "",
       "description_tooltip": null,
       "layout": "IPY_MODEL_0311d5640d1c4dd199d0b7fa97b8dc44",
       "placeholder": "​",
       "style": "IPY_MODEL_76d1a6cf4db24758b1ccbc389ce06558",
       "value": "Loading checkpoint shards: 100%"
      }
     },
     "274eec02f45042268810bcccf3fadc92": {
      "model_module": "@jupyter-widgets/controls",
      "model_module_version": "1.5.0",
      "model_name": "HTMLModel",
      "state": {
       "_dom_classes": [],
       "_model_module": "@jupyter-widgets/controls",
       "_model_module_version": "1.5.0",
       "_model_name": "HTMLModel",
       "_view_count": null,
       "_view_module": "@jupyter-widgets/controls",
       "_view_module_version": "1.5.0",
       "_view_name": "HTMLView",
       "description": "",
       "description_tooltip": null,
       "layout": "IPY_MODEL_767e610338f7471e8463bddce0f92f89",
       "placeholder": "​",
       "style": "IPY_MODEL_a21bb1e47c1b4cb58ee66b3dc5f0859e",
       "value": " 1/1 [00:00&lt;00:00, 16.05ba/s]"
      }
     },
     "2a4f1abd99a94ca5a055698f3ccc189a": {
      "model_module": "@jupyter-widgets/base",
      "model_module_version": "1.2.0",
      "model_name": "LayoutModel",
      "state": {
       "_model_module": "@jupyter-widgets/base",
       "_model_module_version": "1.2.0",
       "_model_name": "LayoutModel",
       "_view_count": null,
       "_view_module": "@jupyter-widgets/base",
       "_view_module_version": "1.2.0",
       "_view_name": "LayoutView",
       "align_content": null,
       "align_items": null,
       "align_self": null,
       "border": null,
       "bottom": null,
       "display": null,
       "flex": null,
       "flex_flow": null,
       "grid_area": null,
       "grid_auto_columns": null,
       "grid_auto_flow": null,
       "grid_auto_rows": null,
       "grid_column": null,
       "grid_gap": null,
       "grid_row": null,
       "grid_template_areas": null,
       "grid_template_columns": null,
       "grid_template_rows": null,
       "height": null,
       "justify_content": null,
       "justify_items": null,
       "left": null,
       "margin": null,
       "max_height": null,
       "max_width": null,
       "min_height": null,
       "min_width": null,
       "object_fit": null,
       "object_position": null,
       "order": null,
       "overflow": null,
       "overflow_x": null,
       "overflow_y": null,
       "padding": null,
       "right": null,
       "top": null,
       "visibility": null,
       "width": null
      }
     },
     "2def72ff1d38433583171eb278dc0a18": {
      "model_module": "@jupyter-widgets/controls",
      "model_module_version": "1.5.0",
      "model_name": "ProgressStyleModel",
      "state": {
       "_model_module": "@jupyter-widgets/controls",
       "_model_module_version": "1.5.0",
       "_model_name": "ProgressStyleModel",
       "_view_count": null,
       "_view_module": "@jupyter-widgets/base",
       "_view_module_version": "1.2.0",
       "_view_name": "StyleView",
       "bar_color": null,
       "description_width": ""
      }
     },
     "3d3e795ddd604a6ead714ec7fdb2071d": {
      "model_module": "@jupyter-widgets/controls",
      "model_module_version": "1.5.0",
      "model_name": "FloatProgressModel",
      "state": {
       "_dom_classes": [],
       "_model_module": "@jupyter-widgets/controls",
       "_model_module_version": "1.5.0",
       "_model_name": "FloatProgressModel",
       "_view_count": null,
       "_view_module": "@jupyter-widgets/controls",
       "_view_module_version": "1.5.0",
       "_view_name": "ProgressView",
       "bar_style": "success",
       "description": "",
       "description_tooltip": null,
       "layout": "IPY_MODEL_88d819770d6841e2b075808f6e72a683",
       "max": 2.0,
       "min": 0.0,
       "orientation": "horizontal",
       "style": "IPY_MODEL_efdba7f631b148669db1f7ec9a0cfbc1",
       "value": 2.0
      }
     },
     "6e1a894553784f5cba5d934610717c16": {
      "model_module": "@jupyter-widgets/controls",
      "model_module_version": "1.5.0",
      "model_name": "HTMLModel",
      "state": {
       "_dom_classes": [],
       "_model_module": "@jupyter-widgets/controls",
       "_model_module_version": "1.5.0",
       "_model_name": "HTMLModel",
       "_view_count": null,
       "_view_module": "@jupyter-widgets/controls",
       "_view_module_version": "1.5.0",
       "_view_name": "HTMLView",
       "description": "",
       "description_tooltip": null,
       "layout": "IPY_MODEL_19eda76a0c024773a5b3031887f1c126",
       "placeholder": "​",
       "style": "IPY_MODEL_8e0de2448444479dbdf0717d4069d81b",
       "value": "100%"
      }
     },
     "732fbc0ddfa3459497315a51b897f93a": {
      "model_module": "@jupyter-widgets/controls",
      "model_module_version": "1.5.0",
      "model_name": "DescriptionStyleModel",
      "state": {
       "_model_module": "@jupyter-widgets/controls",
       "_model_module_version": "1.5.0",
       "_model_name": "DescriptionStyleModel",
       "_view_count": null,
       "_view_module": "@jupyter-widgets/base",
       "_view_module_version": "1.2.0",
       "_view_name": "StyleView",
       "description_width": ""
      }
     },
     "7675477ea7a948c88e35da989e03ed7d": {
      "model_module": "@jupyter-widgets/base",
      "model_module_version": "1.2.0",
      "model_name": "LayoutModel",
      "state": {
       "_model_module": "@jupyter-widgets/base",
       "_model_module_version": "1.2.0",
       "_model_name": "LayoutModel",
       "_view_count": null,
       "_view_module": "@jupyter-widgets/base",
       "_view_module_version": "1.2.0",
       "_view_name": "LayoutView",
       "align_content": null,
       "align_items": null,
       "align_self": null,
       "border": null,
       "bottom": null,
       "display": null,
       "flex": null,
       "flex_flow": null,
       "grid_area": null,
       "grid_auto_columns": null,
       "grid_auto_flow": null,
       "grid_auto_rows": null,
       "grid_column": null,
       "grid_gap": null,
       "grid_row": null,
       "grid_template_areas": null,
       "grid_template_columns": null,
       "grid_template_rows": null,
       "height": null,
       "justify_content": null,
       "justify_items": null,
       "left": null,
       "margin": null,
       "max_height": null,
       "max_width": null,
       "min_height": null,
       "min_width": null,
       "object_fit": null,
       "object_position": null,
       "order": null,
       "overflow": null,
       "overflow_x": null,
       "overflow_y": null,
       "padding": null,
       "right": null,
       "top": null,
       "visibility": null,
       "width": null
      }
     },
     "767e610338f7471e8463bddce0f92f89": {
      "model_module": "@jupyter-widgets/base",
      "model_module_version": "1.2.0",
      "model_name": "LayoutModel",
      "state": {
       "_model_module": "@jupyter-widgets/base",
       "_model_module_version": "1.2.0",
       "_model_name": "LayoutModel",
       "_view_count": null,
       "_view_module": "@jupyter-widgets/base",
       "_view_module_version": "1.2.0",
       "_view_name": "LayoutView",
       "align_content": null,
       "align_items": null,
       "align_self": null,
       "border": null,
       "bottom": null,
       "display": null,
       "flex": null,
       "flex_flow": null,
       "grid_area": null,
       "grid_auto_columns": null,
       "grid_auto_flow": null,
       "grid_auto_rows": null,
       "grid_column": null,
       "grid_gap": null,
       "grid_row": null,
       "grid_template_areas": null,
       "grid_template_columns": null,
       "grid_template_rows": null,
       "height": null,
       "justify_content": null,
       "justify_items": null,
       "left": null,
       "margin": null,
       "max_height": null,
       "max_width": null,
       "min_height": null,
       "min_width": null,
       "object_fit": null,
       "object_position": null,
       "order": null,
       "overflow": null,
       "overflow_x": null,
       "overflow_y": null,
       "padding": null,
       "right": null,
       "top": null,
       "visibility": null,
       "width": null
      }
     },
     "76d1a6cf4db24758b1ccbc389ce06558": {
      "model_module": "@jupyter-widgets/controls",
      "model_module_version": "1.5.0",
      "model_name": "DescriptionStyleModel",
      "state": {
       "_model_module": "@jupyter-widgets/controls",
       "_model_module_version": "1.5.0",
       "_model_name": "DescriptionStyleModel",
       "_view_count": null,
       "_view_module": "@jupyter-widgets/base",
       "_view_module_version": "1.2.0",
       "_view_name": "StyleView",
       "description_width": ""
      }
     },
     "7cefcf7106d644b8bf738fb969248ebb": {
      "model_module": "@jupyter-widgets/controls",
      "model_module_version": "1.5.0",
      "model_name": "HTMLModel",
      "state": {
       "_dom_classes": [],
       "_model_module": "@jupyter-widgets/controls",
       "_model_module_version": "1.5.0",
       "_model_name": "HTMLModel",
       "_view_count": null,
       "_view_module": "@jupyter-widgets/controls",
       "_view_module_version": "1.5.0",
       "_view_name": "HTMLView",
       "description": "",
       "description_tooltip": null,
       "layout": "IPY_MODEL_7675477ea7a948c88e35da989e03ed7d",
       "placeholder": "​",
       "style": "IPY_MODEL_732fbc0ddfa3459497315a51b897f93a",
       "value": " 2/2 [02:07&lt;00:00, 58.42s/it]"
      }
     },
     "86639d4b6e674efe9c3c876861904f7c": {
      "model_module": "@jupyter-widgets/base",
      "model_module_version": "1.2.0",
      "model_name": "LayoutModel",
      "state": {
       "_model_module": "@jupyter-widgets/base",
       "_model_module_version": "1.2.0",
       "_model_name": "LayoutModel",
       "_view_count": null,
       "_view_module": "@jupyter-widgets/base",
       "_view_module_version": "1.2.0",
       "_view_name": "LayoutView",
       "align_content": null,
       "align_items": null,
       "align_self": null,
       "border": null,
       "bottom": null,
       "display": null,
       "flex": null,
       "flex_flow": null,
       "grid_area": null,
       "grid_auto_columns": null,
       "grid_auto_flow": null,
       "grid_auto_rows": null,
       "grid_column": null,
       "grid_gap": null,
       "grid_row": null,
       "grid_template_areas": null,
       "grid_template_columns": null,
       "grid_template_rows": null,
       "height": null,
       "justify_content": null,
       "justify_items": null,
       "left": null,
       "margin": null,
       "max_height": null,
       "max_width": null,
       "min_height": null,
       "min_width": null,
       "object_fit": null,
       "object_position": null,
       "order": null,
       "overflow": null,
       "overflow_x": null,
       "overflow_y": null,
       "padding": null,
       "right": null,
       "top": null,
       "visibility": null,
       "width": null
      }
     },
     "88d819770d6841e2b075808f6e72a683": {
      "model_module": "@jupyter-widgets/base",
      "model_module_version": "1.2.0",
      "model_name": "LayoutModel",
      "state": {
       "_model_module": "@jupyter-widgets/base",
       "_model_module_version": "1.2.0",
       "_model_name": "LayoutModel",
       "_view_count": null,
       "_view_module": "@jupyter-widgets/base",
       "_view_module_version": "1.2.0",
       "_view_name": "LayoutView",
       "align_content": null,
       "align_items": null,
       "align_self": null,
       "border": null,
       "bottom": null,
       "display": null,
       "flex": null,
       "flex_flow": null,
       "grid_area": null,
       "grid_auto_columns": null,
       "grid_auto_flow": null,
       "grid_auto_rows": null,
       "grid_column": null,
       "grid_gap": null,
       "grid_row": null,
       "grid_template_areas": null,
       "grid_template_columns": null,
       "grid_template_rows": null,
       "height": null,
       "justify_content": null,
       "justify_items": null,
       "left": null,
       "margin": null,
       "max_height": null,
       "max_width": null,
       "min_height": null,
       "min_width": null,
       "object_fit": null,
       "object_position": null,
       "order": null,
       "overflow": null,
       "overflow_x": null,
       "overflow_y": null,
       "padding": null,
       "right": null,
       "top": null,
       "visibility": null,
       "width": null
      }
     },
     "8e0de2448444479dbdf0717d4069d81b": {
      "model_module": "@jupyter-widgets/controls",
      "model_module_version": "1.5.0",
      "model_name": "DescriptionStyleModel",
      "state": {
       "_model_module": "@jupyter-widgets/controls",
       "_model_module_version": "1.5.0",
       "_model_name": "DescriptionStyleModel",
       "_view_count": null,
       "_view_module": "@jupyter-widgets/base",
       "_view_module_version": "1.2.0",
       "_view_name": "StyleView",
       "description_width": ""
      }
     },
     "a21bb1e47c1b4cb58ee66b3dc5f0859e": {
      "model_module": "@jupyter-widgets/controls",
      "model_module_version": "1.5.0",
      "model_name": "DescriptionStyleModel",
      "state": {
       "_model_module": "@jupyter-widgets/controls",
       "_model_module_version": "1.5.0",
       "_model_name": "DescriptionStyleModel",
       "_view_count": null,
       "_view_module": "@jupyter-widgets/base",
       "_view_module_version": "1.2.0",
       "_view_name": "StyleView",
       "description_width": ""
      }
     },
     "a5ef3bdda48f431db2cf970911e07c96": {
      "model_module": "@jupyter-widgets/controls",
      "model_module_version": "1.5.0",
      "model_name": "HBoxModel",
      "state": {
       "_dom_classes": [],
       "_model_module": "@jupyter-widgets/controls",
       "_model_module_version": "1.5.0",
       "_model_name": "HBoxModel",
       "_view_count": null,
       "_view_module": "@jupyter-widgets/controls",
       "_view_module_version": "1.5.0",
       "_view_name": "HBoxView",
       "box_style": "",
       "children": [
        "IPY_MODEL_6e1a894553784f5cba5d934610717c16",
        "IPY_MODEL_e8a514a8f76d40c48dfcc993e6b367f5",
        "IPY_MODEL_274eec02f45042268810bcccf3fadc92"
       ],
       "layout": "IPY_MODEL_c0d658e99bbc4e1fa45178c3652b7a2e"
      }
     },
     "c0d658e99bbc4e1fa45178c3652b7a2e": {
      "model_module": "@jupyter-widgets/base",
      "model_module_version": "1.2.0",
      "model_name": "LayoutModel",
      "state": {
       "_model_module": "@jupyter-widgets/base",
       "_model_module_version": "1.2.0",
       "_model_name": "LayoutModel",
       "_view_count": null,
       "_view_module": "@jupyter-widgets/base",
       "_view_module_version": "1.2.0",
       "_view_name": "LayoutView",
       "align_content": null,
       "align_items": null,
       "align_self": null,
       "border": null,
       "bottom": null,
       "display": null,
       "flex": null,
       "flex_flow": null,
       "grid_area": null,
       "grid_auto_columns": null,
       "grid_auto_flow": null,
       "grid_auto_rows": null,
       "grid_column": null,
       "grid_gap": null,
       "grid_row": null,
       "grid_template_areas": null,
       "grid_template_columns": null,
       "grid_template_rows": null,
       "height": null,
       "justify_content": null,
       "justify_items": null,
       "left": null,
       "margin": null,
       "max_height": null,
       "max_width": null,
       "min_height": null,
       "min_width": null,
       "object_fit": null,
       "object_position": null,
       "order": null,
       "overflow": null,
       "overflow_x": null,
       "overflow_y": null,
       "padding": null,
       "right": null,
       "top": null,
       "visibility": null,
       "width": null
      }
     },
     "e8a514a8f76d40c48dfcc993e6b367f5": {
      "model_module": "@jupyter-widgets/controls",
      "model_module_version": "1.5.0",
      "model_name": "FloatProgressModel",
      "state": {
       "_dom_classes": [],
       "_model_module": "@jupyter-widgets/controls",
       "_model_module_version": "1.5.0",
       "_model_name": "FloatProgressModel",
       "_view_count": null,
       "_view_module": "@jupyter-widgets/controls",
       "_view_module_version": "1.5.0",
       "_view_name": "ProgressView",
       "bar_style": "success",
       "description": "",
       "description_tooltip": null,
       "layout": "IPY_MODEL_2a4f1abd99a94ca5a055698f3ccc189a",
       "max": 1.0,
       "min": 0.0,
       "orientation": "horizontal",
       "style": "IPY_MODEL_2def72ff1d38433583171eb278dc0a18",
       "value": 1.0
      }
     },
     "efdba7f631b148669db1f7ec9a0cfbc1": {
      "model_module": "@jupyter-widgets/controls",
      "model_module_version": "1.5.0",
      "model_name": "ProgressStyleModel",
      "state": {
       "_model_module": "@jupyter-widgets/controls",
       "_model_module_version": "1.5.0",
       "_model_name": "ProgressStyleModel",
       "_view_count": null,
       "_view_module": "@jupyter-widgets/base",
       "_view_module_version": "1.2.0",
       "_view_name": "StyleView",
       "bar_color": null,
       "description_width": ""
      }
     }
    },
    "version_major": 2,
    "version_minor": 0
   }
  }
 },
 "nbformat": 4,
 "nbformat_minor": 5
}
