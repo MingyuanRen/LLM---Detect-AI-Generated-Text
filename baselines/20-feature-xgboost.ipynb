{
 "cells": [
  {
   "cell_type": "markdown",
   "id": "9a5a4bd3",
   "metadata": {
    "papermill": {
     "duration": 0.008995,
     "end_time": "2023-11-12T17:29:01.058241",
     "exception": false,
     "start_time": "2023-11-12T17:29:01.049246",
     "status": "completed"
    },
    "tags": []
   },
   "source": [
    "The following is an implementation of the paper https://www.sciencedirect.com/science/article/pii/S2666386423005015#bib7 as discussed in [this post](https://www.kaggle.com/competitions/llm-detect-ai-generated-text/discussion/454702).  20 different features are extracted and a XGBoost model is trained.  Because we're using AUROC, rather than combining votes per paragraph, we average prediction probs per paragraph.\n",
    "\n",
    "I've implemented the 20 features each as a separate function to make it more flexible to add/remove custom features in the future."
   ]
  },
  {
   "cell_type": "code",
   "execution_count": 1,
   "id": "5fa28a60",
   "metadata": {
    "execution": {
     "iopub.execute_input": "2023-11-12T17:29:01.078110Z",
     "iopub.status.busy": "2023-11-12T17:29:01.077418Z",
     "iopub.status.idle": "2023-11-12T17:29:03.444097Z",
     "shell.execute_reply": "2023-11-12T17:29:03.443156Z"
    },
    "papermill": {
     "duration": 2.379816,
     "end_time": "2023-11-12T17:29:03.446871",
     "exception": false,
     "start_time": "2023-11-12T17:29:01.067055",
     "status": "completed"
    },
    "tags": []
   },
   "outputs": [],
   "source": [
    "import re, statistics\n",
    "import pandas as pd\n",
    "from tqdm import tqdm\n",
    "import xgboost as xgb\n",
    "from sklearn.metrics import accuracy_score\n",
    "import xgboost as xgb\n",
    "from sklearn.model_selection import train_test_split\n",
    "from sklearn.metrics import accuracy_score, roc_auc_score\n",
    "import matplotlib.pyplot as plt"
   ]
  },
  {
   "cell_type": "code",
   "execution_count": 2,
   "id": "cb602fb3",
   "metadata": {
    "execution": {
     "iopub.execute_input": "2023-11-12T17:29:03.465510Z",
     "iopub.status.busy": "2023-11-12T17:29:03.464750Z",
     "iopub.status.idle": "2023-11-12T17:29:04.386013Z",
     "shell.execute_reply": "2023-11-12T17:29:04.384887Z"
    },
    "papermill": {
     "duration": 0.933718,
     "end_time": "2023-11-12T17:29:04.388648",
     "exception": false,
     "start_time": "2023-11-12T17:29:03.454930",
     "status": "completed"
    },
    "tags": []
   },
   "outputs": [
    {
     "data": {
      "text/html": [
       "<div>\n",
       "<style scoped>\n",
       "    .dataframe tbody tr th:only-of-type {\n",
       "        vertical-align: middle;\n",
       "    }\n",
       "\n",
       "    .dataframe tbody tr th {\n",
       "        vertical-align: top;\n",
       "    }\n",
       "\n",
       "    .dataframe thead th {\n",
       "        text-align: right;\n",
       "    }\n",
       "</style>\n",
       "<table border=\"1\" class=\"dataframe\">\n",
       "  <thead>\n",
       "    <tr style=\"text-align: right;\">\n",
       "      <th></th>\n",
       "      <th>text</th>\n",
       "      <th>label</th>\n",
       "    </tr>\n",
       "  </thead>\n",
       "  <tbody>\n",
       "    <tr>\n",
       "      <th>0</th>\n",
       "      <td>Cars. Cars have been around since they became ...</td>\n",
       "      <td>0</td>\n",
       "    </tr>\n",
       "    <tr>\n",
       "      <th>1</th>\n",
       "      <td>Transportation is a large necessity in most co...</td>\n",
       "      <td>0</td>\n",
       "    </tr>\n",
       "    <tr>\n",
       "      <th>2</th>\n",
       "      <td>\"America's love affair with it's vehicles seem...</td>\n",
       "      <td>0</td>\n",
       "    </tr>\n",
       "    <tr>\n",
       "      <th>3</th>\n",
       "      <td>How often do you ride in a car? Do you drive a...</td>\n",
       "      <td>0</td>\n",
       "    </tr>\n",
       "    <tr>\n",
       "      <th>4</th>\n",
       "      <td>Cars are a wonderful thing. They are perhaps o...</td>\n",
       "      <td>0</td>\n",
       "    </tr>\n",
       "  </tbody>\n",
       "</table>\n",
       "</div>"
      ],
      "text/plain": [
       "                                                text  label\n",
       "0  Cars. Cars have been around since they became ...      0\n",
       "1  Transportation is a large necessity in most co...      0\n",
       "2  \"America's love affair with it's vehicles seem...      0\n",
       "3  How often do you ride in a car? Do you drive a...      0\n",
       "4  Cars are a wonderful thing. They are perhaps o...      0"
      ]
     },
     "execution_count": 2,
     "metadata": {},
     "output_type": "execute_result"
    }
   ],
   "source": [
    "df = pd.read_csv('/kaggle/input/llm-7-prompt-training-dataset/train_essays_RDizzl3_seven_v1.csv')\n",
    "df.head()"
   ]
  },
  {
   "cell_type": "code",
   "execution_count": 3,
   "id": "81959c35",
   "metadata": {
    "execution": {
     "iopub.execute_input": "2023-11-12T17:29:04.406508Z",
     "iopub.status.busy": "2023-11-12T17:29:04.406122Z",
     "iopub.status.idle": "2023-11-12T17:29:04.505735Z",
     "shell.execute_reply": "2023-11-12T17:29:04.504429Z"
    },
    "papermill": {
     "duration": 0.111691,
     "end_time": "2023-11-12T17:29:04.508447",
     "exception": false,
     "start_time": "2023-11-12T17:29:04.396756",
     "status": "completed"
    },
    "tags": []
   },
   "outputs": [],
   "source": [
    "#For now just downsample human generated texts so we start with a balanced dataset.\n",
    "\n",
    "df_label_0 = df[df['label'] == 0]\n",
    "df_label_1 = df[df['label'] == 1]\n",
    "\n",
    "df_label_0_downsampled = df_label_0.sample(len(df_label_1), random_state=42)\n",
    "balanced_df = pd.concat([df_label_0_downsampled, df_label_1])\n",
    "\n",
    "df_train = balanced_df.sample(frac=1, random_state=42).reset_index(drop=True)"
   ]
  },
  {
   "cell_type": "code",
   "execution_count": 4,
   "id": "120e5e12",
   "metadata": {
    "execution": {
     "iopub.execute_input": "2023-11-12T17:29:04.526158Z",
     "iopub.status.busy": "2023-11-12T17:29:04.525743Z",
     "iopub.status.idle": "2023-11-12T17:29:04.539899Z",
     "shell.execute_reply": "2023-11-12T17:29:04.538764Z"
    },
    "papermill": {
     "duration": 0.026042,
     "end_time": "2023-11-12T17:29:04.542350",
     "exception": false,
     "start_time": "2023-11-12T17:29:04.516308",
     "status": "completed"
    },
    "tags": []
   },
   "outputs": [
    {
     "data": {
      "text/plain": [
       "label\n",
       "1    1621\n",
       "0    1621\n",
       "Name: count, dtype: int64"
      ]
     },
     "execution_count": 4,
     "metadata": {},
     "output_type": "execute_result"
    }
   ],
   "source": [
    "df_train['label'].value_counts()"
   ]
  },
  {
   "cell_type": "code",
   "execution_count": 5,
   "id": "6dd4ef77",
   "metadata": {
    "execution": {
     "iopub.execute_input": "2023-11-12T17:29:04.561016Z",
     "iopub.status.busy": "2023-11-12T17:29:04.559636Z",
     "iopub.status.idle": "2023-11-12T17:29:04.569280Z",
     "shell.execute_reply": "2023-11-12T17:29:04.567232Z"
    },
    "papermill": {
     "duration": 0.021595,
     "end_time": "2023-11-12T17:29:04.571811",
     "exception": false,
     "start_time": "2023-11-12T17:29:04.550216",
     "status": "completed"
    },
    "tags": []
   },
   "outputs": [
    {
     "name": "stdout",
     "output_type": "stream",
     "text": [
      "While the Facial Action Coding System technology described in the article aims to provide insight into students' emotional states, its use to analyze facial expressions in the classroom raises some valid concerns. On one hand, this technology could help teachers understand how their lessons are being received on an individual level and allow them to adjust their teaching approaches if students seem disengaged or confused. Identifying strong negative emotions like frustration early on may help teachers address issues before they escalate. However, there are also risks to closely monitoring students' facial expressions without their consent. Continuously analyzing facial cues could infringe on students' privacy and feel oppressive or distracting over time. It may also lead teachers to make assumptions without understanding the full context of students' lives outside the classroom. Rather than gaining a nuanced perspective, this technology risks reducing complex human emotions and experiences to simple data points. Before widespread adoption, more research is needed on how this technology specifically impacts student well-being, autonomy, and the student-teacher relationship. While the goals of helping teachers and improving education are reasonable, new technologies must be carefully evaluated to avoid unintended negative consequences, especially those that involve monitoring individuals without choice or transparency. On balance, the concerns outweigh the potential benefits, suggesting this type of classroom facial expression analysis would not presently be advisable or valuable.\n"
     ]
    }
   ],
   "source": [
    "#texts and labels will be the list that hold our relevant data\n",
    "\n",
    "text = df_train.iloc[0]['text']\n",
    "texts = df_train['text'].tolist()\n",
    "labels = df_train['label'].tolist()\n",
    "print(text)"
   ]
  },
  {
   "cell_type": "code",
   "execution_count": 6,
   "id": "62c42982",
   "metadata": {
    "execution": {
     "iopub.execute_input": "2023-11-12T17:29:04.591751Z",
     "iopub.status.busy": "2023-11-12T17:29:04.590441Z",
     "iopub.status.idle": "2023-11-12T17:29:04.600011Z",
     "shell.execute_reply": "2023-11-12T17:29:04.598402Z"
    },
    "papermill": {
     "duration": 0.022377,
     "end_time": "2023-11-12T17:29:04.602707",
     "exception": false,
     "start_time": "2023-11-12T17:29:04.580330",
     "status": "completed"
    },
    "tags": []
   },
   "outputs": [
    {
     "name": "stdout",
     "output_type": "stream",
     "text": [
      "[10]\n"
     ]
    }
   ],
   "source": [
    "def count_sentences_per_paragraph(text):\n",
    "    paragraphs = text.split('\\n\\n')\n",
    "    paragraphs = [p for p in paragraphs if p.strip()]\n",
    "    \n",
    "    # Count sentences in each paragraph\n",
    "    sentence_counts = []\n",
    "    for paragraph in paragraphs:\n",
    "        sentences = re.split(r'[.?!]+', paragraph)\n",
    "        sentences = [s for s in sentences if s.strip()]\n",
    "        sentence_counts.append(len(sentences))\n",
    "    \n",
    "    return sentence_counts\n",
    "\n",
    "sentence_counts = count_sentences_per_paragraph(text)\n",
    "print(sentence_counts)"
   ]
  },
  {
   "cell_type": "code",
   "execution_count": 7,
   "id": "af84a466",
   "metadata": {
    "execution": {
     "iopub.execute_input": "2023-11-12T17:29:04.621672Z",
     "iopub.status.busy": "2023-11-12T17:29:04.621247Z",
     "iopub.status.idle": "2023-11-12T17:29:04.629039Z",
     "shell.execute_reply": "2023-11-12T17:29:04.627674Z"
    },
    "papermill": {
     "duration": 0.020562,
     "end_time": "2023-11-12T17:29:04.631744",
     "exception": false,
     "start_time": "2023-11-12T17:29:04.611182",
     "status": "completed"
    },
    "tags": []
   },
   "outputs": [
    {
     "name": "stdout",
     "output_type": "stream",
     "text": [
      "[224]\n"
     ]
    }
   ],
   "source": [
    "def count_words_per_paragraph(text):\n",
    "    paragraphs = text.split('\\n\\n')\n",
    "    paragraphs = [p for p in paragraphs if p.strip()]\n",
    "    \n",
    "    word_counts = []\n",
    "    for paragraph in paragraphs:\n",
    "        words = paragraph.split()\n",
    "        word_counts.append(len(words))\n",
    "    \n",
    "    return word_counts\n",
    "\n",
    "word_counts = count_words_per_paragraph(text)\n",
    "print(word_counts)"
   ]
  },
  {
   "cell_type": "code",
   "execution_count": 8,
   "id": "0ff268ed",
   "metadata": {
    "execution": {
     "iopub.execute_input": "2023-11-12T17:29:04.651504Z",
     "iopub.status.busy": "2023-11-12T17:29:04.650673Z",
     "iopub.status.idle": "2023-11-12T17:29:04.657049Z",
     "shell.execute_reply": "2023-11-12T17:29:04.656269Z"
    },
    "papermill": {
     "duration": 0.019427,
     "end_time": "2023-11-12T17:29:04.659928",
     "exception": false,
     "start_time": "2023-11-12T17:29:04.640501",
     "status": "completed"
    },
    "tags": []
   },
   "outputs": [
    {
     "name": "stdout",
     "output_type": "stream",
     "text": [
      "[0]\n"
     ]
    }
   ],
   "source": [
    "def detect_parentheses_per_paragraph(text):\n",
    "    paragraphs = text.split('\\n\\n')\n",
    "    \n",
    "    parentheses_presence = []\n",
    "    for paragraph in paragraphs:\n",
    "        if '(' in paragraph or ')' in paragraph:\n",
    "            parentheses_presence.append(1)\n",
    "        else:\n",
    "            parentheses_presence.append(0)\n",
    "    \n",
    "    return parentheses_presence\n",
    "\n",
    "parentheses_presence = detect_parentheses_per_paragraph(text)\n",
    "print(parentheses_presence)"
   ]
  },
  {
   "cell_type": "code",
   "execution_count": 9,
   "id": "fb64c2d2",
   "metadata": {
    "execution": {
     "iopub.execute_input": "2023-11-12T17:29:04.679339Z",
     "iopub.status.busy": "2023-11-12T17:29:04.678877Z",
     "iopub.status.idle": "2023-11-12T17:29:04.685853Z",
     "shell.execute_reply": "2023-11-12T17:29:04.684499Z"
    },
    "papermill": {
     "duration": 0.019787,
     "end_time": "2023-11-12T17:29:04.688356",
     "exception": false,
     "start_time": "2023-11-12T17:29:04.668569",
     "status": "completed"
    },
    "tags": []
   },
   "outputs": [
    {
     "name": "stdout",
     "output_type": "stream",
     "text": [
      "[1]\n"
     ]
    }
   ],
   "source": [
    "def detect_dash_per_paragraph(text):\n",
    "    paragraphs = text.split('\\n\\n')\n",
    "    \n",
    "    dash_presence = []\n",
    "    for paragraph in paragraphs:\n",
    "        if '-' in paragraph:\n",
    "            dash_presence.append(1)\n",
    "        else:\n",
    "            dash_presence.append(0)\n",
    "    \n",
    "    return dash_presence\n",
    "\n",
    "dash_presence = detect_dash_per_paragraph(text)\n",
    "print(dash_presence)"
   ]
  },
  {
   "cell_type": "code",
   "execution_count": 10,
   "id": "145b79e0",
   "metadata": {
    "execution": {
     "iopub.execute_input": "2023-11-12T17:29:04.708181Z",
     "iopub.status.busy": "2023-11-12T17:29:04.707673Z",
     "iopub.status.idle": "2023-11-12T17:29:04.715871Z",
     "shell.execute_reply": "2023-11-12T17:29:04.714600Z"
    },
    "papermill": {
     "duration": 0.023033,
     "end_time": "2023-11-12T17:29:04.719716",
     "exception": false,
     "start_time": "2023-11-12T17:29:04.696683",
     "status": "completed"
    },
    "tags": []
   },
   "outputs": [
    {
     "name": "stdout",
     "output_type": "stream",
     "text": [
      "[0]\n"
     ]
    }
   ],
   "source": [
    "def detect_semicolon_colon_per_paragraph(text):\n",
    "    paragraphs = text.split('\\n\\n')\n",
    "    \n",
    "    punctuation_presence = []\n",
    "    for paragraph in paragraphs:\n",
    "        if ';' in paragraph or ':' in paragraph:\n",
    "            punctuation_presence.append(1)\n",
    "        else:\n",
    "            punctuation_presence.append(0)\n",
    "    \n",
    "    return punctuation_presence\n",
    "\n",
    "semicolon_colon_presence = detect_semicolon_colon_per_paragraph(text)\n",
    "print(semicolon_colon_presence)"
   ]
  },
  {
   "cell_type": "code",
   "execution_count": 11,
   "id": "d49cbb80",
   "metadata": {
    "execution": {
     "iopub.execute_input": "2023-11-12T17:29:04.745790Z",
     "iopub.status.busy": "2023-11-12T17:29:04.744638Z",
     "iopub.status.idle": "2023-11-12T17:29:04.755758Z",
     "shell.execute_reply": "2023-11-12T17:29:04.754433Z"
    },
    "papermill": {
     "duration": 0.028797,
     "end_time": "2023-11-12T17:29:04.760751",
     "exception": false,
     "start_time": "2023-11-12T17:29:04.731954",
     "status": "completed"
    },
    "tags": []
   },
   "outputs": [
    {
     "name": "stdout",
     "output_type": "stream",
     "text": [
      "[0]\n"
     ]
    }
   ],
   "source": [
    "def detect_question_mark_per_paragraph(text):\n",
    "    paragraphs = text.split('\\n\\n')\n",
    "    \n",
    "    question_mark_presence = []\n",
    "    for paragraph in paragraphs:\n",
    "        if '?' in paragraph:\n",
    "            question_mark_presence.append(1)\n",
    "        else:\n",
    "            question_mark_presence.append(0)\n",
    "    \n",
    "    return question_mark_presence\n",
    "\n",
    "question_mark_presence = detect_question_mark_per_paragraph(text)\n",
    "print(question_mark_presence)"
   ]
  },
  {
   "cell_type": "code",
   "execution_count": 12,
   "id": "b124d0c2",
   "metadata": {
    "execution": {
     "iopub.execute_input": "2023-11-12T17:29:04.786742Z",
     "iopub.status.busy": "2023-11-12T17:29:04.785755Z",
     "iopub.status.idle": "2023-11-12T17:29:04.793763Z",
     "shell.execute_reply": "2023-11-12T17:29:04.792188Z"
    },
    "papermill": {
     "duration": 0.023669,
     "end_time": "2023-11-12T17:29:04.796256",
     "exception": false,
     "start_time": "2023-11-12T17:29:04.772587",
     "status": "completed"
    },
    "tags": []
   },
   "outputs": [
    {
     "name": "stdout",
     "output_type": "stream",
     "text": [
      "[1]\n"
     ]
    }
   ],
   "source": [
    "def detect_apostrophe_per_paragraph(text):\n",
    "    paragraphs = text.split('\\n\\n')\n",
    "    \n",
    "    apostrophe_presence = []\n",
    "    for paragraph in paragraphs:\n",
    "        if \"'\" in paragraph:\n",
    "            apostrophe_presence.append(1)\n",
    "        else:\n",
    "            apostrophe_presence.append(0)\n",
    "    \n",
    "    return apostrophe_presence\n",
    "\n",
    "apostrophe_presence = detect_apostrophe_per_paragraph(text)\n",
    "print(apostrophe_presence)"
   ]
  },
  {
   "cell_type": "code",
   "execution_count": 13,
   "id": "ab3eb8c3",
   "metadata": {
    "execution": {
     "iopub.execute_input": "2023-11-12T17:29:04.819727Z",
     "iopub.status.busy": "2023-11-12T17:29:04.818941Z",
     "iopub.status.idle": "2023-11-12T17:29:04.828493Z",
     "shell.execute_reply": "2023-11-12T17:29:04.827641Z"
    },
    "papermill": {
     "duration": 0.02712,
     "end_time": "2023-11-12T17:29:04.832392",
     "exception": false,
     "start_time": "2023-11-12T17:29:04.805272",
     "status": "completed"
    },
    "tags": []
   },
   "outputs": [
    {
     "name": "stdout",
     "output_type": "stream",
     "text": [
      "[7.290785661062569]\n"
     ]
    }
   ],
   "source": [
    "def std_dev_sentence_length_per_paragraph(text):\n",
    "    paragraphs = text.split('\\n\\n')\n",
    "    \n",
    "    std_devs = []\n",
    "    for paragraph in paragraphs:\n",
    "        sentences = re.split(r'[.?!]+', paragraph)\n",
    "        sentence_lengths = [len(sentence.split()) for sentence in sentences if sentence.strip()]\n",
    "        \n",
    "        if len(sentence_lengths) > 1:\n",
    "            std_dev = statistics.stdev(sentence_lengths)\n",
    "        else:\n",
    "            std_dev = 0  # if not enough sentences\n",
    "        std_devs.append(std_dev)\n",
    "    \n",
    "    return std_devs\n",
    "\n",
    "std_devs = std_dev_sentence_length_per_paragraph(text)\n",
    "print(std_devs)"
   ]
  },
  {
   "cell_type": "code",
   "execution_count": 14,
   "id": "5325b1bb",
   "metadata": {
    "execution": {
     "iopub.execute_input": "2023-11-12T17:29:04.860511Z",
     "iopub.status.busy": "2023-11-12T17:29:04.860022Z",
     "iopub.status.idle": "2023-11-12T17:29:04.869650Z",
     "shell.execute_reply": "2023-11-12T17:29:04.867967Z"
    },
    "papermill": {
     "duration": 0.02848,
     "end_time": "2023-11-12T17:29:04.872263",
     "exception": false,
     "start_time": "2023-11-12T17:29:04.843783",
     "status": "completed"
    },
    "tags": []
   },
   "outputs": [
    {
     "name": "stdout",
     "output_type": "stream",
     "text": [
      "[5.222222222222222]\n"
     ]
    }
   ],
   "source": [
    "def mean_diff_in_sentence_length_per_paragraph(text):\n",
    "    paragraphs = text.split('\\n\\n')\n",
    "    \n",
    "    mean_diffs = []\n",
    "    for paragraph in paragraphs:\n",
    "        sentences = re.split(r'[.?!]+', paragraph)\n",
    "        sentence_lengths = [len(sentence.split()) for sentence in sentences if sentence.strip()]\n",
    "        differences = [abs(sentence_lengths[i] - sentence_lengths[i+1]) for i in range(len(sentence_lengths) - 1)]\n",
    "        \n",
    "        if differences:\n",
    "            mean_diff = statistics.mean(differences)\n",
    "        else:\n",
    "            mean_diff = 0  # handle where no consecutive sentences or only empty sentences are present\n",
    "        mean_diffs.append(mean_diff)\n",
    "    \n",
    "    return mean_diffs\n",
    "\n",
    "mean_diffs = mean_diff_in_sentence_length_per_paragraph(text)\n",
    "print(mean_diffs)"
   ]
  },
  {
   "cell_type": "code",
   "execution_count": 15,
   "id": "2bfa3002",
   "metadata": {
    "execution": {
     "iopub.execute_input": "2023-11-12T17:29:04.897349Z",
     "iopub.status.busy": "2023-11-12T17:29:04.896114Z",
     "iopub.status.idle": "2023-11-12T17:29:04.904921Z",
     "shell.execute_reply": "2023-11-12T17:29:04.903572Z"
    },
    "papermill": {
     "duration": 0.023889,
     "end_time": "2023-11-12T17:29:04.907192",
     "exception": false,
     "start_time": "2023-11-12T17:29:04.883303",
     "status": "completed"
    },
    "tags": []
   },
   "outputs": [
    {
     "name": "stdout",
     "output_type": "stream",
     "text": [
      "[0]\n"
     ]
    }
   ],
   "source": [
    "def detect_short_sentences_per_paragraph(text):\n",
    "    paragraphs = text.split('\\n\\n')\n",
    "    \n",
    "    short_sentence_presence = []\n",
    "    for paragraph in paragraphs:\n",
    "        sentences = re.split(r'[.?!]+', paragraph)\n",
    "        has_short_sentence = any(len(sentence.split()) < 11 for sentence in sentences if sentence.strip())  #hard coded to 11 words\n",
    "        short_sentence_presence.append(1 if has_short_sentence else 0)\n",
    "    \n",
    "    return short_sentence_presence\n",
    "\n",
    "short_sentence_presence = detect_short_sentences_per_paragraph(text)\n",
    "print(short_sentence_presence)"
   ]
  },
  {
   "cell_type": "code",
   "execution_count": 16,
   "id": "083c41b5",
   "metadata": {
    "execution": {
     "iopub.execute_input": "2023-11-12T17:29:04.928856Z",
     "iopub.status.busy": "2023-11-12T17:29:04.927665Z",
     "iopub.status.idle": "2023-11-12T17:29:04.936200Z",
     "shell.execute_reply": "2023-11-12T17:29:04.934995Z"
    },
    "papermill": {
     "duration": 0.021911,
     "end_time": "2023-11-12T17:29:04.938661",
     "exception": false,
     "start_time": "2023-11-12T17:29:04.916750",
     "status": "completed"
    },
    "tags": []
   },
   "outputs": [
    {
     "name": "stdout",
     "output_type": "stream",
     "text": [
      "[0]\n"
     ]
    }
   ],
   "source": [
    "def detect_long_sentences_per_paragraph(text):\n",
    "    paragraphs = text.split('\\n\\n')\n",
    "    \n",
    "    long_sentence_presence = []\n",
    "    for paragraph in paragraphs:\n",
    "        sentences = re.split(r'[.?!]+', paragraph)\n",
    "        has_long_sentence = any(len(sentence.split()) > 34 for sentence in sentences if sentence.strip())  #hard coded to 34 words\n",
    "        long_sentence_presence.append(1 if has_long_sentence else 0)\n",
    "    \n",
    "    return long_sentence_presence\n",
    "\n",
    "long_sentence_presence = detect_long_sentences_per_paragraph(text)\n",
    "print(long_sentence_presence)"
   ]
  },
  {
   "cell_type": "code",
   "execution_count": 17,
   "id": "2f01dc4c",
   "metadata": {
    "execution": {
     "iopub.execute_input": "2023-11-12T17:29:04.958769Z",
     "iopub.status.busy": "2023-11-12T17:29:04.958388Z",
     "iopub.status.idle": "2023-11-12T17:29:04.966558Z",
     "shell.execute_reply": "2023-11-12T17:29:04.965157Z"
    },
    "papermill": {
     "duration": 0.021091,
     "end_time": "2023-11-12T17:29:04.968858",
     "exception": false,
     "start_time": "2023-11-12T17:29:04.947767",
     "status": "completed"
    },
    "tags": []
   },
   "outputs": [
    {
     "name": "stdout",
     "output_type": "stream",
     "text": [
      "[0]\n"
     ]
    }
   ],
   "source": [
    "def detect_numbers_per_paragraph(text):\n",
    "    paragraphs = text.split('\\n\\n')\n",
    "    \n",
    "    number_presence = []\n",
    "    for paragraph in paragraphs:\n",
    "        has_number = any(char.isdigit() for char in paragraph)\n",
    "        number_presence.append(1 if has_number else 0)\n",
    "    \n",
    "    return number_presence\n",
    "\n",
    "number_presence = detect_numbers_per_paragraph(text)\n",
    "print(number_presence)"
   ]
  },
  {
   "cell_type": "code",
   "execution_count": 18,
   "id": "02b39d29",
   "metadata": {
    "execution": {
     "iopub.execute_input": "2023-11-12T17:29:04.990719Z",
     "iopub.status.busy": "2023-11-12T17:29:04.989349Z",
     "iopub.status.idle": "2023-11-12T17:29:04.998354Z",
     "shell.execute_reply": "2023-11-12T17:29:04.997111Z"
    },
    "papermill": {
     "duration": 0.022155,
     "end_time": "2023-11-12T17:29:05.000754",
     "exception": false,
     "start_time": "2023-11-12T17:29:04.978599",
     "status": "completed"
    },
    "tags": []
   },
   "outputs": [
    {
     "name": "stdout",
     "output_type": "stream",
     "text": [
      "[0]\n"
     ]
    }
   ],
   "source": [
    "def detect_capital_letters_vs_periods(text):\n",
    "    paragraphs = text.split('\\n\\n')\n",
    "    \n",
    "    capital_vs_period_presence = []\n",
    "    for paragraph in paragraphs:\n",
    "        capital_letters = sum(1 for char in paragraph if char.isupper())\n",
    "        periods = paragraph.count('.')\n",
    "\n",
    "        if capital_letters >= 2 * periods:\n",
    "            capital_vs_period_presence.append(1)\n",
    "        else:\n",
    "            capital_vs_period_presence.append(0)\n",
    "    \n",
    "    return capital_vs_period_presence\n",
    "\n",
    "capital_vs_period_presence = detect_capital_letters_vs_periods(text)\n",
    "print(capital_vs_period_presence)"
   ]
  },
  {
   "cell_type": "code",
   "execution_count": 19,
   "id": "7ac274f5",
   "metadata": {
    "execution": {
     "iopub.execute_input": "2023-11-12T17:29:05.022644Z",
     "iopub.status.busy": "2023-11-12T17:29:05.022183Z",
     "iopub.status.idle": "2023-11-12T17:29:05.034214Z",
     "shell.execute_reply": "2023-11-12T17:29:05.033043Z"
    },
    "papermill": {
     "duration": 0.026761,
     "end_time": "2023-11-12T17:29:05.036970",
     "exception": false,
     "start_time": "2023-11-12T17:29:05.010209",
     "status": "completed"
    },
    "tags": []
   },
   "outputs": [],
   "source": [
    "def detect_word_alhough(text):\n",
    "    paragraphs = text.split('\\n\\n')\n",
    "    presence = [1 if 'although' in paragraph.lower() else 0 for paragraph in paragraphs]\n",
    "    return presence\n",
    "\n",
    "def detect_word_however(text):\n",
    "    paragraphs = text.split('\\n\\n')\n",
    "    presence = [1 if 'however' in paragraph.lower() else 0 for paragraph in paragraphs]\n",
    "    return presence\n",
    "\n",
    "def detect_word_but(text):\n",
    "    paragraphs = text.split('\\n\\n')\n",
    "    presence = [1 if ' but ' in paragraph.lower() else 0 for paragraph in paragraphs]\n",
    "    return presence\n",
    "\n",
    "def detect_word_because(text):\n",
    "    paragraphs = text.split('\\n\\n')\n",
    "    presence = [1 if 'because' in paragraph.lower() else 0 for paragraph in paragraphs]\n",
    "    return presence\n",
    "\n",
    "def detect_word_this(text):\n",
    "    paragraphs = text.split('\\n\\n')\n",
    "    presence = [1 if 'this' in paragraph.lower() else 0 for paragraph in paragraphs]\n",
    "    return presence\n",
    "\n",
    "def detect_word_others_researchers(text):\n",
    "    paragraphs = text.split('\\n\\n')\n",
    "    presence = [1 if 'others' in paragraph.lower() or 'researchers' in paragraph.lower() else 0 for paragraph in paragraphs]\n",
    "    return presence\n",
    "\n",
    "def detect_word_et(text):\n",
    "    paragraphs = text.split('\\n\\n')\n",
    "    presence = [1 if ' et ' in paragraph.lower() else 0 for paragraph in paragraphs]\n",
    "    return presence"
   ]
  },
  {
   "cell_type": "code",
   "execution_count": 20,
   "id": "b91e035d",
   "metadata": {
    "execution": {
     "iopub.execute_input": "2023-11-12T17:29:05.058679Z",
     "iopub.status.busy": "2023-11-12T17:29:05.058231Z",
     "iopub.status.idle": "2023-11-12T17:29:09.209896Z",
     "shell.execute_reply": "2023-11-12T17:29:09.208369Z"
    },
    "papermill": {
     "duration": 4.165879,
     "end_time": "2023-11-12T17:29:09.212594",
     "exception": false,
     "start_time": "2023-11-12T17:29:05.046715",
     "status": "completed"
    },
    "tags": []
   },
   "outputs": [
    {
     "name": "stderr",
     "output_type": "stream",
     "text": [
      "100%|██████████| 3242/3242 [00:04<00:00, 783.45it/s]\n"
     ]
    }
   ],
   "source": [
    "#Loop through all text in texts\n",
    "results = []\n",
    "for text in tqdm(texts):\n",
    "    result = {\n",
    "        'sentences_per_paragraph': count_sentences_per_paragraph(text),\n",
    "        'words_per_paragraph': count_words_per_paragraph(text),\n",
    "        'parentheses_presence': detect_parentheses_per_paragraph(text),\n",
    "        'dash_presence': detect_dash_per_paragraph(text),\n",
    "        'semicolon_colon_presence': detect_semicolon_colon_per_paragraph(text),\n",
    "        'question_mark_presence': detect_question_mark_per_paragraph(text),\n",
    "        'apostrophe_presence': detect_apostrophe_per_paragraph(text),\n",
    "        'std_dev_sentence_length': std_dev_sentence_length_per_paragraph(text),\n",
    "        'mean_diff_consecutive_sentences': mean_diff_in_sentence_length_per_paragraph(text),\n",
    "        'short_sentence_presence': detect_short_sentences_per_paragraph(text),\n",
    "        'long_sentence_presence': detect_long_sentences_per_paragraph(text),\n",
    "        'numbers_sentence_presence': detect_numbers_per_paragraph(text),\n",
    "        'capital_vs_period_presence': detect_capital_letters_vs_periods(text),\n",
    "        'word_alhough_presence': detect_word_alhough(text),\n",
    "        'word_however_presence': detect_word_however(text),\n",
    "        'word_but_presence': detect_word_but(text),\n",
    "        'word_because_presence': detect_word_because(text),\n",
    "        'word_this_presence': detect_word_this(text),\n",
    "        'word_others_researchers_presence': detect_word_others_researchers(text),\n",
    "        'word_et_presence': detect_word_et(text),\n",
    "    }\n",
    "    results.append(result)"
   ]
  },
  {
   "cell_type": "code",
   "execution_count": 21,
   "id": "87de3a3d",
   "metadata": {
    "execution": {
     "iopub.execute_input": "2023-11-12T17:29:09.240126Z",
     "iopub.status.busy": "2023-11-12T17:29:09.238955Z",
     "iopub.status.idle": "2023-11-12T17:29:09.548477Z",
     "shell.execute_reply": "2023-11-12T17:29:09.547068Z"
    },
    "papermill": {
     "duration": 0.326288,
     "end_time": "2023-11-12T17:29:09.551355",
     "exception": false,
     "start_time": "2023-11-12T17:29:09.225067",
     "status": "completed"
    },
    "tags": []
   },
   "outputs": [],
   "source": [
    "rows = []\n",
    "\n",
    "# iterate over both results and their corresponding labels\n",
    "for text_id, (result, label) in enumerate(zip(results, labels)):\n",
    "    # flatten the results for each paragraph into individual rows\n",
    "    for i in range(len(result['sentences_per_paragraph'])):\n",
    "        row = {key: value[i] if isinstance(value, list) and len(value) > i else value for key, value in result.items()}\n",
    "        row['text_id'] = text_id\n",
    "        row['label'] = label\n",
    "        rows.append(row)\n",
    "\n",
    "#dataframe with all of our data (by paragraph)\n",
    "df_features = pd.DataFrame(rows)"
   ]
  },
  {
   "cell_type": "code",
   "execution_count": 22,
   "id": "386f3c35",
   "metadata": {
    "execution": {
     "iopub.execute_input": "2023-11-12T17:29:09.578408Z",
     "iopub.status.busy": "2023-11-12T17:29:09.578003Z",
     "iopub.status.idle": "2023-11-12T17:29:09.599398Z",
     "shell.execute_reply": "2023-11-12T17:29:09.598295Z"
    },
    "papermill": {
     "duration": 0.037346,
     "end_time": "2023-11-12T17:29:09.601651",
     "exception": false,
     "start_time": "2023-11-12T17:29:09.564305",
     "status": "completed"
    },
    "tags": []
   },
   "outputs": [
    {
     "data": {
      "text/html": [
       "<div>\n",
       "<style scoped>\n",
       "    .dataframe tbody tr th:only-of-type {\n",
       "        vertical-align: middle;\n",
       "    }\n",
       "\n",
       "    .dataframe tbody tr th {\n",
       "        vertical-align: top;\n",
       "    }\n",
       "\n",
       "    .dataframe thead th {\n",
       "        text-align: right;\n",
       "    }\n",
       "</style>\n",
       "<table border=\"1\" class=\"dataframe\">\n",
       "  <thead>\n",
       "    <tr style=\"text-align: right;\">\n",
       "      <th></th>\n",
       "      <th>sentences_per_paragraph</th>\n",
       "      <th>words_per_paragraph</th>\n",
       "      <th>parentheses_presence</th>\n",
       "      <th>dash_presence</th>\n",
       "      <th>semicolon_colon_presence</th>\n",
       "      <th>question_mark_presence</th>\n",
       "      <th>apostrophe_presence</th>\n",
       "      <th>std_dev_sentence_length</th>\n",
       "      <th>mean_diff_consecutive_sentences</th>\n",
       "      <th>short_sentence_presence</th>\n",
       "      <th>...</th>\n",
       "      <th>capital_vs_period_presence</th>\n",
       "      <th>word_alhough_presence</th>\n",
       "      <th>word_however_presence</th>\n",
       "      <th>word_but_presence</th>\n",
       "      <th>word_because_presence</th>\n",
       "      <th>word_this_presence</th>\n",
       "      <th>word_others_researchers_presence</th>\n",
       "      <th>word_et_presence</th>\n",
       "      <th>text_id</th>\n",
       "      <th>label</th>\n",
       "    </tr>\n",
       "  </thead>\n",
       "  <tbody>\n",
       "    <tr>\n",
       "      <th>0</th>\n",
       "      <td>10</td>\n",
       "      <td>224</td>\n",
       "      <td>0</td>\n",
       "      <td>1</td>\n",
       "      <td>0</td>\n",
       "      <td>0</td>\n",
       "      <td>1</td>\n",
       "      <td>7.290786</td>\n",
       "      <td>5.222222</td>\n",
       "      <td>0</td>\n",
       "      <td>...</td>\n",
       "      <td>0</td>\n",
       "      <td>0</td>\n",
       "      <td>1</td>\n",
       "      <td>0</td>\n",
       "      <td>0</td>\n",
       "      <td>1</td>\n",
       "      <td>0</td>\n",
       "      <td>0</td>\n",
       "      <td>0</td>\n",
       "      <td>1</td>\n",
       "    </tr>\n",
       "    <tr>\n",
       "      <th>1</th>\n",
       "      <td>4</td>\n",
       "      <td>57</td>\n",
       "      <td>0</td>\n",
       "      <td>0</td>\n",
       "      <td>0</td>\n",
       "      <td>0</td>\n",
       "      <td>0</td>\n",
       "      <td>2.986079</td>\n",
       "      <td>4.000000</td>\n",
       "      <td>1</td>\n",
       "      <td>...</td>\n",
       "      <td>0</td>\n",
       "      <td>0</td>\n",
       "      <td>1</td>\n",
       "      <td>1</td>\n",
       "      <td>0</td>\n",
       "      <td>0</td>\n",
       "      <td>0</td>\n",
       "      <td>0</td>\n",
       "      <td>1</td>\n",
       "      <td>0</td>\n",
       "    </tr>\n",
       "    <tr>\n",
       "      <th>2</th>\n",
       "      <td>1</td>\n",
       "      <td>11</td>\n",
       "      <td>0</td>\n",
       "      <td>0</td>\n",
       "      <td>0</td>\n",
       "      <td>0</td>\n",
       "      <td>0</td>\n",
       "      <td>0.000000</td>\n",
       "      <td>0.000000</td>\n",
       "      <td>0</td>\n",
       "      <td>...</td>\n",
       "      <td>1</td>\n",
       "      <td>0</td>\n",
       "      <td>0</td>\n",
       "      <td>0</td>\n",
       "      <td>0</td>\n",
       "      <td>0</td>\n",
       "      <td>0</td>\n",
       "      <td>0</td>\n",
       "      <td>1</td>\n",
       "      <td>0</td>\n",
       "    </tr>\n",
       "    <tr>\n",
       "      <th>3</th>\n",
       "      <td>5</td>\n",
       "      <td>67</td>\n",
       "      <td>0</td>\n",
       "      <td>0</td>\n",
       "      <td>0</td>\n",
       "      <td>0</td>\n",
       "      <td>0</td>\n",
       "      <td>6.465292</td>\n",
       "      <td>7.500000</td>\n",
       "      <td>1</td>\n",
       "      <td>...</td>\n",
       "      <td>1</td>\n",
       "      <td>0</td>\n",
       "      <td>1</td>\n",
       "      <td>0</td>\n",
       "      <td>0</td>\n",
       "      <td>0</td>\n",
       "      <td>1</td>\n",
       "      <td>0</td>\n",
       "      <td>1</td>\n",
       "      <td>0</td>\n",
       "    </tr>\n",
       "    <tr>\n",
       "      <th>4</th>\n",
       "      <td>4</td>\n",
       "      <td>54</td>\n",
       "      <td>0</td>\n",
       "      <td>0</td>\n",
       "      <td>0</td>\n",
       "      <td>0</td>\n",
       "      <td>0</td>\n",
       "      <td>6.608076</td>\n",
       "      <td>8.000000</td>\n",
       "      <td>1</td>\n",
       "      <td>...</td>\n",
       "      <td>1</td>\n",
       "      <td>0</td>\n",
       "      <td>0</td>\n",
       "      <td>1</td>\n",
       "      <td>0</td>\n",
       "      <td>0</td>\n",
       "      <td>0</td>\n",
       "      <td>0</td>\n",
       "      <td>1</td>\n",
       "      <td>0</td>\n",
       "    </tr>\n",
       "  </tbody>\n",
       "</table>\n",
       "<p>5 rows × 22 columns</p>\n",
       "</div>"
      ],
      "text/plain": [
       "   sentences_per_paragraph  words_per_paragraph  parentheses_presence  \\\n",
       "0                       10                  224                     0   \n",
       "1                        4                   57                     0   \n",
       "2                        1                   11                     0   \n",
       "3                        5                   67                     0   \n",
       "4                        4                   54                     0   \n",
       "\n",
       "   dash_presence  semicolon_colon_presence  question_mark_presence  \\\n",
       "0              1                         0                       0   \n",
       "1              0                         0                       0   \n",
       "2              0                         0                       0   \n",
       "3              0                         0                       0   \n",
       "4              0                         0                       0   \n",
       "\n",
       "   apostrophe_presence  std_dev_sentence_length  \\\n",
       "0                    1                 7.290786   \n",
       "1                    0                 2.986079   \n",
       "2                    0                 0.000000   \n",
       "3                    0                 6.465292   \n",
       "4                    0                 6.608076   \n",
       "\n",
       "   mean_diff_consecutive_sentences  short_sentence_presence  ...  \\\n",
       "0                         5.222222                        0  ...   \n",
       "1                         4.000000                        1  ...   \n",
       "2                         0.000000                        0  ...   \n",
       "3                         7.500000                        1  ...   \n",
       "4                         8.000000                        1  ...   \n",
       "\n",
       "   capital_vs_period_presence  word_alhough_presence  word_however_presence  \\\n",
       "0                           0                      0                      1   \n",
       "1                           0                      0                      1   \n",
       "2                           1                      0                      0   \n",
       "3                           1                      0                      1   \n",
       "4                           1                      0                      0   \n",
       "\n",
       "   word_but_presence  word_because_presence  word_this_presence  \\\n",
       "0                  0                      0                   1   \n",
       "1                  1                      0                   0   \n",
       "2                  0                      0                   0   \n",
       "3                  0                      0                   0   \n",
       "4                  1                      0                   0   \n",
       "\n",
       "   word_others_researchers_presence  word_et_presence  text_id  label  \n",
       "0                                 0                 0        0      1  \n",
       "1                                 0                 0        1      0  \n",
       "2                                 0                 0        1      0  \n",
       "3                                 1                 0        1      0  \n",
       "4                                 0                 0        1      0  \n",
       "\n",
       "[5 rows x 22 columns]"
      ]
     },
     "execution_count": 22,
     "metadata": {},
     "output_type": "execute_result"
    }
   ],
   "source": [
    "df_features.head()"
   ]
  },
  {
   "cell_type": "code",
   "execution_count": 23,
   "id": "c0e2556e",
   "metadata": {
    "execution": {
     "iopub.execute_input": "2023-11-12T17:29:09.628277Z",
     "iopub.status.busy": "2023-11-12T17:29:09.627797Z",
     "iopub.status.idle": "2023-11-12T17:29:09.958918Z",
     "shell.execute_reply": "2023-11-12T17:29:09.957354Z"
    },
    "papermill": {
     "duration": 0.34726,
     "end_time": "2023-11-12T17:29:09.961311",
     "exception": false,
     "start_time": "2023-11-12T17:29:09.614051",
     "status": "completed"
    },
    "tags": []
   },
   "outputs": [
    {
     "name": "stdout",
     "output_type": "stream",
     "text": [
      "ROC_AUC_raw: 0.883849334103514\n"
     ]
    }
   ],
   "source": [
    "#train a xgboost model\n",
    "\n",
    "params = {\n",
    "    'max_depth': 4,\n",
    "    'n_estimators': 50,\n",
    "    'learning_rate': 0.2,\n",
    "    'objective': 'multi:softmax',\n",
    "    'num_class': 2,\n",
    "    'eval_metric': 'auc',\n",
    "    'booster': 'gbtree',\n",
    "    'subsample': 1,\n",
    "    'colsample_bytree': 1\n",
    "}\n",
    "\n",
    "X = df_features.drop(['label', 'text_id'], axis=1)\n",
    "y = df_features['label']\n",
    "\n",
    "class_ratio = y.value_counts(normalize=True)\n",
    "scale_pos_weight = class_ratio[0] / class_ratio[1]\n",
    "\n",
    "# 90/10 train/test split for now\n",
    "unique_text_ids = df_features['text_id'].unique()\n",
    "train_ids, test_ids = train_test_split(unique_text_ids, test_size=0.1, random_state=42)\n",
    "train_data = df_features[df_features['text_id'].isin(train_ids)]\n",
    "test_data = df_features[df_features['text_id'].isin(test_ids)]\n",
    "\n",
    "X_train = train_data.drop(['label', 'text_id'], axis=1)\n",
    "y_train = train_data['label']\n",
    "X_test = test_data.drop(['label', 'text_id'], axis=1)\n",
    "y_test = test_data['label']\n",
    "\n",
    "# Initialize and train the XGBoost model\n",
    "model = xgb.XGBClassifier(**params)\n",
    "model.fit(X_train, y_train)\n",
    "\n",
    "# Predictions and evaluation\n",
    "y_pred = model.predict_proba(X_test)\n",
    "auc = roc_auc_score(y_test, y_pred[:,1])\n",
    "print(\"ROC_AUC_raw:\", auc)"
   ]
  },
  {
   "cell_type": "code",
   "execution_count": 24,
   "id": "61fb5dc3",
   "metadata": {
    "execution": {
     "iopub.execute_input": "2023-11-12T17:29:09.988317Z",
     "iopub.status.busy": "2023-11-12T17:29:09.987724Z",
     "iopub.status.idle": "2023-11-12T17:29:10.013771Z",
     "shell.execute_reply": "2023-11-12T17:29:10.012468Z"
    },
    "papermill": {
     "duration": 0.042594,
     "end_time": "2023-11-12T17:29:10.016206",
     "exception": false,
     "start_time": "2023-11-12T17:29:09.973612",
     "status": "completed"
    },
    "tags": []
   },
   "outputs": [
    {
     "name": "stderr",
     "output_type": "stream",
     "text": [
      "/tmp/ipykernel_20/539195195.py:1: SettingWithCopyWarning: \n",
      "A value is trying to be set on a copy of a slice from a DataFrame.\n",
      "Try using .loc[row_indexer,col_indexer] = value instead\n",
      "\n",
      "See the caveats in the documentation: https://pandas.pydata.org/pandas-docs/stable/user_guide/indexing.html#returning-a-view-versus-a-copy\n",
      "  test_data['pred'] = y_pred[:,1]\n"
     ]
    },
    {
     "data": {
      "text/html": [
       "<div>\n",
       "<style scoped>\n",
       "    .dataframe tbody tr th:only-of-type {\n",
       "        vertical-align: middle;\n",
       "    }\n",
       "\n",
       "    .dataframe tbody tr th {\n",
       "        vertical-align: top;\n",
       "    }\n",
       "\n",
       "    .dataframe thead th {\n",
       "        text-align: right;\n",
       "    }\n",
       "</style>\n",
       "<table border=\"1\" class=\"dataframe\">\n",
       "  <thead>\n",
       "    <tr style=\"text-align: right;\">\n",
       "      <th></th>\n",
       "      <th>text_id</th>\n",
       "      <th>label</th>\n",
       "      <th>pred</th>\n",
       "    </tr>\n",
       "  </thead>\n",
       "  <tbody>\n",
       "    <tr>\n",
       "      <th>0</th>\n",
       "      <td>0</td>\n",
       "      <td>1</td>\n",
       "      <td>0.556941</td>\n",
       "    </tr>\n",
       "    <tr>\n",
       "      <th>1</th>\n",
       "      <td>14</td>\n",
       "      <td>0</td>\n",
       "      <td>0.352546</td>\n",
       "    </tr>\n",
       "    <tr>\n",
       "      <th>2</th>\n",
       "      <td>17</td>\n",
       "      <td>0</td>\n",
       "      <td>0.261283</td>\n",
       "    </tr>\n",
       "    <tr>\n",
       "      <th>3</th>\n",
       "      <td>26</td>\n",
       "      <td>1</td>\n",
       "      <td>0.816989</td>\n",
       "    </tr>\n",
       "    <tr>\n",
       "      <th>4</th>\n",
       "      <td>30</td>\n",
       "      <td>0</td>\n",
       "      <td>0.163173</td>\n",
       "    </tr>\n",
       "  </tbody>\n",
       "</table>\n",
       "</div>"
      ],
      "text/plain": [
       "   text_id  label      pred\n",
       "0        0      1  0.556941\n",
       "1       14      0  0.352546\n",
       "2       17      0  0.261283\n",
       "3       26      1  0.816989\n",
       "4       30      0  0.163173"
      ]
     },
     "execution_count": 24,
     "metadata": {},
     "output_type": "execute_result"
    }
   ],
   "source": [
    "test_data['pred'] = y_pred[:,1]\n",
    "average_predictions = test_data.groupby(['text_id', 'label'])['pred'].mean().reset_index()\n",
    "average_predictions.head()"
   ]
  },
  {
   "cell_type": "code",
   "execution_count": 25,
   "id": "97770f61",
   "metadata": {
    "execution": {
     "iopub.execute_input": "2023-11-12T17:29:10.044306Z",
     "iopub.status.busy": "2023-11-12T17:29:10.043891Z",
     "iopub.status.idle": "2023-11-12T17:29:10.054433Z",
     "shell.execute_reply": "2023-11-12T17:29:10.053110Z"
    },
    "papermill": {
     "duration": 0.027366,
     "end_time": "2023-11-12T17:29:10.056844",
     "exception": false,
     "start_time": "2023-11-12T17:29:10.029478",
     "status": "completed"
    },
    "tags": []
   },
   "outputs": [
    {
     "name": "stdout",
     "output_type": "stream",
     "text": [
      "ROC_AUC_aggregate: 0.9639069837903348\n"
     ]
    }
   ],
   "source": [
    "auc = roc_auc_score(average_predictions['label'], average_predictions['pred'])\n",
    "print(\"ROC_AUC_aggregate:\", auc)"
   ]
  },
  {
   "cell_type": "code",
   "execution_count": 26,
   "id": "ba83322b",
   "metadata": {
    "execution": {
     "iopub.execute_input": "2023-11-12T17:29:10.086103Z",
     "iopub.status.busy": "2023-11-12T17:29:10.085380Z",
     "iopub.status.idle": "2023-11-12T17:29:10.697133Z",
     "shell.execute_reply": "2023-11-12T17:29:10.695901Z"
    },
    "papermill": {
     "duration": 0.628853,
     "end_time": "2023-11-12T17:29:10.699902",
     "exception": false,
     "start_time": "2023-11-12T17:29:10.071049",
     "status": "completed"
    },
    "tags": []
   },
   "outputs": [
    {
     "data": {
      "image/png": "[encoded data removed]",
      "text/plain": [
       "<Figure size 1000x600 with 1 Axes>"
      ]
     },
     "metadata": {},
     "output_type": "display_data"
    }
   ],
   "source": [
    "#look at some initial feature importance\n",
    "feature_importances = model.feature_importances_\n",
    "feature_names = X_train.columns\n",
    "importance_series = pd.Series(feature_importances, index=feature_names)\n",
    "importance_series = importance_series.sort_values(ascending=False)\n",
    "\n",
    "# plot feature importantances\n",
    "plt.figure(figsize=(10,6))\n",
    "importance_series.plot(kind='bar')\n",
    "plt.title('Feature Importances')\n",
    "plt.ylabel('Importance')\n",
    "plt.xlabel('Features')\n",
    "plt.show()\n"
   ]
  },
  {
   "cell_type": "code",
   "execution_count": 27,
   "id": "dc7529d4",
   "metadata": {
    "execution": {
     "iopub.execute_input": "2023-11-12T17:29:10.792697Z",
     "iopub.status.busy": "2023-11-12T17:29:10.791578Z",
     "iopub.status.idle": "2023-11-12T17:29:10.826227Z",
     "shell.execute_reply": "2023-11-12T17:29:10.824866Z"
    },
    "papermill": {
     "duration": 0.115338,
     "end_time": "2023-11-12T17:29:10.829183",
     "exception": false,
     "start_time": "2023-11-12T17:29:10.713845",
     "status": "completed"
    },
    "tags": []
   },
   "outputs": [
    {
     "name": "stderr",
     "output_type": "stream",
     "text": [
      "100%|██████████| 3/3 [00:00<00:00, 9191.32it/s]\n"
     ]
    }
   ],
   "source": [
    "#prepare test data for inference\n",
    "\n",
    "df_test = pd.read_csv('/kaggle/input/llm-detect-ai-generated-text/test_essays.csv')\n",
    "\n",
    "text_test = df_test['text'].tolist()\n",
    "text_ids = df_test['id'].tolist()\n",
    "\n",
    "test_results = []\n",
    "for text in tqdm(text_test):\n",
    "    result = {\n",
    "        'sentences_per_paragraph': count_sentences_per_paragraph(text),\n",
    "        'words_per_paragraph': count_words_per_paragraph(text),\n",
    "        'parentheses_presence': detect_parentheses_per_paragraph(text),\n",
    "        'dash_presence': detect_dash_per_paragraph(text),\n",
    "        'semicolon_colon_presence': detect_semicolon_colon_per_paragraph(text),\n",
    "        'question_mark_presence': detect_question_mark_per_paragraph(text),\n",
    "        'apostrophe_presence': detect_apostrophe_per_paragraph(text),\n",
    "        'std_dev_sentence_length': std_dev_sentence_length_per_paragraph(text),\n",
    "        'mean_diff_consecutive_sentences': mean_diff_in_sentence_length_per_paragraph(text),\n",
    "        'short_sentence_presence': detect_short_sentences_per_paragraph(text),\n",
    "        'long_sentence_presence': detect_long_sentences_per_paragraph(text),\n",
    "        'numbers_sentence_presence': detect_numbers_per_paragraph(text),\n",
    "        'capital_vs_period_presence': detect_capital_letters_vs_periods(text),\n",
    "        'word_alhough_presence': detect_word_alhough(text),\n",
    "        'word_however_presence': detect_word_however(text),\n",
    "        'word_but_presence': detect_word_but(text),\n",
    "        'word_because_presence': detect_word_because(text),\n",
    "        'word_this_presence': detect_word_this(text),\n",
    "        'word_others_researchers_presence': detect_word_others_researchers(text),\n",
    "        'word_et_presence': detect_word_et(text),\n",
    "    }\n",
    "    test_results.append(result)\n",
    "\n",
    "\n",
    "rows = []\n",
    "\n",
    "# iterate over both results and their corresponding labels\n",
    "for result, idx in zip(test_results, text_ids):\n",
    "    # flatten the results for each paragraph into individual rows\n",
    "    for i in range(len(result['sentences_per_paragraph'])):\n",
    "        row = {key: value[i] if isinstance(value, list) and len(value) > i else value for key, value in result.items()}\n",
    "        row['id'] = idx\n",
    "        rows.append(row)\n",
    "\n",
    "#dataframe with all of our data (by paragraph)\n",
    "df_test_features = pd.DataFrame(rows)"
   ]
  },
  {
   "cell_type": "code",
   "execution_count": 28,
   "id": "045c2838",
   "metadata": {
    "execution": {
     "iopub.execute_input": "2023-11-12T17:29:10.861122Z",
     "iopub.status.busy": "2023-11-12T17:29:10.859736Z",
     "iopub.status.idle": "2023-11-12T17:29:10.879627Z",
     "shell.execute_reply": "2023-11-12T17:29:10.878131Z"
    },
    "papermill": {
     "duration": 0.038257,
     "end_time": "2023-11-12T17:29:10.882154",
     "exception": false,
     "start_time": "2023-11-12T17:29:10.843897",
     "status": "completed"
    },
    "tags": []
   },
   "outputs": [
    {
     "data": {
      "text/html": [
       "<div>\n",
       "<style scoped>\n",
       "    .dataframe tbody tr th:only-of-type {\n",
       "        vertical-align: middle;\n",
       "    }\n",
       "\n",
       "    .dataframe tbody tr th {\n",
       "        vertical-align: top;\n",
       "    }\n",
       "\n",
       "    .dataframe thead th {\n",
       "        text-align: right;\n",
       "    }\n",
       "</style>\n",
       "<table border=\"1\" class=\"dataframe\">\n",
       "  <thead>\n",
       "    <tr style=\"text-align: right;\">\n",
       "      <th></th>\n",
       "      <th>sentences_per_paragraph</th>\n",
       "      <th>words_per_paragraph</th>\n",
       "      <th>parentheses_presence</th>\n",
       "      <th>dash_presence</th>\n",
       "      <th>semicolon_colon_presence</th>\n",
       "      <th>question_mark_presence</th>\n",
       "      <th>apostrophe_presence</th>\n",
       "      <th>std_dev_sentence_length</th>\n",
       "      <th>mean_diff_consecutive_sentences</th>\n",
       "      <th>short_sentence_presence</th>\n",
       "      <th>...</th>\n",
       "      <th>numbers_sentence_presence</th>\n",
       "      <th>capital_vs_period_presence</th>\n",
       "      <th>word_alhough_presence</th>\n",
       "      <th>word_however_presence</th>\n",
       "      <th>word_but_presence</th>\n",
       "      <th>word_because_presence</th>\n",
       "      <th>word_this_presence</th>\n",
       "      <th>word_others_researchers_presence</th>\n",
       "      <th>word_et_presence</th>\n",
       "      <th>id</th>\n",
       "    </tr>\n",
       "  </thead>\n",
       "  <tbody>\n",
       "    <tr>\n",
       "      <th>0</th>\n",
       "      <td>1</td>\n",
       "      <td>3</td>\n",
       "      <td>0</td>\n",
       "      <td>0</td>\n",
       "      <td>0</td>\n",
       "      <td>0</td>\n",
       "      <td>0</td>\n",
       "      <td>0</td>\n",
       "      <td>0</td>\n",
       "      <td>1</td>\n",
       "      <td>...</td>\n",
       "      <td>0</td>\n",
       "      <td>0</td>\n",
       "      <td>0</td>\n",
       "      <td>0</td>\n",
       "      <td>0</td>\n",
       "      <td>0</td>\n",
       "      <td>0</td>\n",
       "      <td>0</td>\n",
       "      <td>0</td>\n",
       "      <td>0000aaaa</td>\n",
       "    </tr>\n",
       "    <tr>\n",
       "      <th>1</th>\n",
       "      <td>1</td>\n",
       "      <td>3</td>\n",
       "      <td>0</td>\n",
       "      <td>0</td>\n",
       "      <td>0</td>\n",
       "      <td>0</td>\n",
       "      <td>0</td>\n",
       "      <td>0</td>\n",
       "      <td>0</td>\n",
       "      <td>1</td>\n",
       "      <td>...</td>\n",
       "      <td>0</td>\n",
       "      <td>0</td>\n",
       "      <td>0</td>\n",
       "      <td>0</td>\n",
       "      <td>0</td>\n",
       "      <td>0</td>\n",
       "      <td>0</td>\n",
       "      <td>0</td>\n",
       "      <td>0</td>\n",
       "      <td>1111bbbb</td>\n",
       "    </tr>\n",
       "    <tr>\n",
       "      <th>2</th>\n",
       "      <td>1</td>\n",
       "      <td>3</td>\n",
       "      <td>0</td>\n",
       "      <td>0</td>\n",
       "      <td>0</td>\n",
       "      <td>0</td>\n",
       "      <td>0</td>\n",
       "      <td>0</td>\n",
       "      <td>0</td>\n",
       "      <td>1</td>\n",
       "      <td>...</td>\n",
       "      <td>0</td>\n",
       "      <td>1</td>\n",
       "      <td>0</td>\n",
       "      <td>0</td>\n",
       "      <td>0</td>\n",
       "      <td>0</td>\n",
       "      <td>0</td>\n",
       "      <td>0</td>\n",
       "      <td>0</td>\n",
       "      <td>2222cccc</td>\n",
       "    </tr>\n",
       "  </tbody>\n",
       "</table>\n",
       "<p>3 rows × 21 columns</p>\n",
       "</div>"
      ],
      "text/plain": [
       "   sentences_per_paragraph  words_per_paragraph  parentheses_presence  \\\n",
       "0                        1                    3                     0   \n",
       "1                        1                    3                     0   \n",
       "2                        1                    3                     0   \n",
       "\n",
       "   dash_presence  semicolon_colon_presence  question_mark_presence  \\\n",
       "0              0                         0                       0   \n",
       "1              0                         0                       0   \n",
       "2              0                         0                       0   \n",
       "\n",
       "   apostrophe_presence  std_dev_sentence_length  \\\n",
       "0                    0                        0   \n",
       "1                    0                        0   \n",
       "2                    0                        0   \n",
       "\n",
       "   mean_diff_consecutive_sentences  short_sentence_presence  ...  \\\n",
       "0                                0                        1  ...   \n",
       "1                                0                        1  ...   \n",
       "2                                0                        1  ...   \n",
       "\n",
       "   numbers_sentence_presence  capital_vs_period_presence  \\\n",
       "0                          0                           0   \n",
       "1                          0                           0   \n",
       "2                          0                           1   \n",
       "\n",
       "   word_alhough_presence  word_however_presence  word_but_presence  \\\n",
       "0                      0                      0                  0   \n",
       "1                      0                      0                  0   \n",
       "2                      0                      0                  0   \n",
       "\n",
       "   word_because_presence  word_this_presence  \\\n",
       "0                      0                   0   \n",
       "1                      0                   0   \n",
       "2                      0                   0   \n",
       "\n",
       "   word_others_researchers_presence  word_et_presence        id  \n",
       "0                                 0                 0  0000aaaa  \n",
       "1                                 0                 0  1111bbbb  \n",
       "2                                 0                 0  2222cccc  \n",
       "\n",
       "[3 rows x 21 columns]"
      ]
     },
     "execution_count": 28,
     "metadata": {},
     "output_type": "execute_result"
    }
   ],
   "source": [
    "df_test_features.head()"
   ]
  },
  {
   "cell_type": "code",
   "execution_count": 29,
   "id": "3e01cd32",
   "metadata": {
    "execution": {
     "iopub.execute_input": "2023-11-12T17:29:10.914220Z",
     "iopub.status.busy": "2023-11-12T17:29:10.913734Z",
     "iopub.status.idle": "2023-11-12T17:29:10.924870Z",
     "shell.execute_reply": "2023-11-12T17:29:10.923909Z"
    },
    "papermill": {
     "duration": 0.03338,
     "end_time": "2023-11-12T17:29:10.930400",
     "exception": false,
     "start_time": "2023-11-12T17:29:10.897020",
     "status": "completed"
    },
    "tags": []
   },
   "outputs": [],
   "source": [
    "X_test = df_test_features.drop(['id'], axis=1)\n",
    "y_pred = model.predict_proba(X_test)"
   ]
  },
  {
   "cell_type": "code",
   "execution_count": 30,
   "id": "3b8b4080",
   "metadata": {
    "execution": {
     "iopub.execute_input": "2023-11-12T17:29:10.963976Z",
     "iopub.status.busy": "2023-11-12T17:29:10.962538Z",
     "iopub.status.idle": "2023-11-12T17:29:10.970965Z",
     "shell.execute_reply": "2023-11-12T17:29:10.970150Z"
    },
    "papermill": {
     "duration": 0.027791,
     "end_time": "2023-11-12T17:29:10.973419",
     "exception": false,
     "start_time": "2023-11-12T17:29:10.945628",
     "status": "completed"
    },
    "tags": []
   },
   "outputs": [],
   "source": [
    "df_test_features['generated'] = y_pred[:,1]\n",
    "average_predictions = df_test_features.groupby(['id'])['generated'].mean().reset_index()"
   ]
  },
  {
   "cell_type": "code",
   "execution_count": 31,
   "id": "7d3579dc",
   "metadata": {
    "execution": {
     "iopub.execute_input": "2023-11-12T17:29:11.007344Z",
     "iopub.status.busy": "2023-11-12T17:29:11.006584Z",
     "iopub.status.idle": "2023-11-12T17:29:11.015901Z",
     "shell.execute_reply": "2023-11-12T17:29:11.015120Z"
    },
    "papermill": {
     "duration": 0.028597,
     "end_time": "2023-11-12T17:29:11.017977",
     "exception": false,
     "start_time": "2023-11-12T17:29:10.989380",
     "status": "completed"
    },
    "tags": []
   },
   "outputs": [
    {
     "data": {
      "text/html": [
       "<div>\n",
       "<style scoped>\n",
       "    .dataframe tbody tr th:only-of-type {\n",
       "        vertical-align: middle;\n",
       "    }\n",
       "\n",
       "    .dataframe tbody tr th {\n",
       "        vertical-align: top;\n",
       "    }\n",
       "\n",
       "    .dataframe thead th {\n",
       "        text-align: right;\n",
       "    }\n",
       "</style>\n",
       "<table border=\"1\" class=\"dataframe\">\n",
       "  <thead>\n",
       "    <tr style=\"text-align: right;\">\n",
       "      <th></th>\n",
       "      <th>id</th>\n",
       "      <th>generated</th>\n",
       "    </tr>\n",
       "  </thead>\n",
       "  <tbody>\n",
       "    <tr>\n",
       "      <th>0</th>\n",
       "      <td>0000aaaa</td>\n",
       "      <td>0.643403</td>\n",
       "    </tr>\n",
       "    <tr>\n",
       "      <th>1</th>\n",
       "      <td>1111bbbb</td>\n",
       "      <td>0.643403</td>\n",
       "    </tr>\n",
       "    <tr>\n",
       "      <th>2</th>\n",
       "      <td>2222cccc</td>\n",
       "      <td>0.868329</td>\n",
       "    </tr>\n",
       "  </tbody>\n",
       "</table>\n",
       "</div>"
      ],
      "text/plain": [
       "         id  generated\n",
       "0  0000aaaa   0.643403\n",
       "1  1111bbbb   0.643403\n",
       "2  2222cccc   0.868329"
      ]
     },
     "execution_count": 31,
     "metadata": {},
     "output_type": "execute_result"
    }
   ],
   "source": [
    "average_predictions.head()"
   ]
  },
  {
   "cell_type": "code",
   "execution_count": 32,
   "id": "f6838371",
   "metadata": {
    "execution": {
     "iopub.execute_input": "2023-11-12T17:29:11.051239Z",
     "iopub.status.busy": "2023-11-12T17:29:11.050809Z",
     "iopub.status.idle": "2023-11-12T17:29:11.058291Z",
     "shell.execute_reply": "2023-11-12T17:29:11.057419Z"
    },
    "papermill": {
     "duration": 0.026953,
     "end_time": "2023-11-12T17:29:11.060691",
     "exception": false,
     "start_time": "2023-11-12T17:29:11.033738",
     "status": "completed"
    },
    "tags": []
   },
   "outputs": [],
   "source": [
    "average_predictions.to_csv('submission.csv', index=False)"
   ]
  }
 ],
 "metadata": {
  "kernelspec": {
   "display_name": "Python 3",
   "language": "python",
   "name": "python3"
  },
  "language_info": {
   "codemirror_mode": {
    "name": "ipython",
    "version": 3
   },
   "file_extension": ".py",
   "mimetype": "text/x-python",
   "name": "python",
   "nbconvert_exporter": "python",
   "pygments_lexer": "ipython3",
   "version": "3.10.12"
  },
  "papermill": {
   "default_parameters": {},
   "duration": 14.996753,
   "end_time": "2023-11-12T17:29:11.698691",
   "environment_variables": {},
   "exception": null,
   "input_path": "__notebook__.ipynb",
   "output_path": "__notebook__.ipynb",
   "parameters": {},
   "start_time": "2023-11-12T17:28:56.701938",
   "version": "2.4.0"
  }
 },
 "nbformat": 4,
 "nbformat_minor": 5
}
