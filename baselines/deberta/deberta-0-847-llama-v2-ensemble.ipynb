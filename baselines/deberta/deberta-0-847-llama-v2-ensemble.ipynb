{
 "cells": [
  {
   "cell_type": "code",
   "execution_count": 1,
   "id": "acb80be2",
   "metadata": {
    "_kg_hide-output": true,
    "execution": {
     "iopub.execute_input": "2023-09-18T23:04:58.428048Z",
     "iopub.status.busy": "2023-09-18T23:04:58.426975Z",
     "iopub.status.idle": "2023-09-18T23:07:07.311291Z",
     "shell.execute_reply": "2023-09-18T23:07:07.309860Z"
    },
    "papermill": {
     "duration": 128.903172,
     "end_time": "2023-09-18T23:07:07.314398",
     "exception": false,
     "start_time": "2023-09-18T23:04:58.411226",
     "status": "completed"
    },
    "tags": []
   },
   "outputs": [
    {
     "name": "stdout",
     "output_type": "stream",
     "text": [
      "Processing /kaggle/input/faiss-gpu-173-python310/faiss_gpu-1.7.2-cp310-cp310-manylinux_2_17_x86_64.manylinux2014_x86_64.whl\r\n",
      "Installing collected packages: faiss-gpu\r\n",
      "Successfully installed faiss-gpu-1.7.2\r\n",
      "Processing ./sentence-transformers\r\n",
      "  Preparing metadata (setup.py) ... \u001b[?25l-\b \b\\\b \bdone\r\n",
      "\u001b[?25hRequirement already satisfied: transformers<5.0.0,>=4.6.0 in /opt/conda/lib/python3.10/site-packages (from sentence-transformers==2.2.2) (4.30.2)\r\n",
      "Requirement already satisfied: tqdm in /opt/conda/lib/python3.10/site-packages (from sentence-transformers==2.2.2) (4.65.0)\r\n",
      "Requirement already satisfied: torch>=1.6.0 in /opt/conda/lib/python3.10/site-packages (from sentence-transformers==2.2.2) (2.0.0)\r\n",
      "Requirement already satisfied: torchvision in /opt/conda/lib/python3.10/site-packages (from sentence-transformers==2.2.2) (0.15.1)\r\n",
      "Requirement already satisfied: numpy in /opt/conda/lib/python3.10/site-packages (from sentence-transformers==2.2.2) (1.23.5)\r\n",
      "Requirement already satisfied: scikit-learn in /opt/conda/lib/python3.10/site-packages (from sentence-transformers==2.2.2) (1.2.2)\r\n",
      "Requirement already satisfied: scipy in /opt/conda/lib/python3.10/site-packages (from sentence-transformers==2.2.2) (1.11.1)\r\n",
      "Requirement already satisfied: nltk in /opt/conda/lib/python3.10/site-packages (from sentence-transformers==2.2.2) (3.2.4)\r\n",
      "Requirement already satisfied: sentencepiece in /opt/conda/lib/python3.10/site-packages (from sentence-transformers==2.2.2) (0.1.99)\r\n",
      "Requirement already satisfied: huggingface-hub>=0.4.0 in /opt/conda/lib/python3.10/site-packages (from sentence-transformers==2.2.2) (0.16.4)\r\n",
      "Requirement already satisfied: filelock in /opt/conda/lib/python3.10/site-packages (from huggingface-hub>=0.4.0->sentence-transformers==2.2.2) (3.12.2)\r\n",
      "Requirement already satisfied: fsspec in /opt/conda/lib/python3.10/site-packages (from huggingface-hub>=0.4.0->sentence-transformers==2.2.2) (2023.6.0)\r\n",
      "Requirement already satisfied: requests in /opt/conda/lib/python3.10/site-packages (from huggingface-hub>=0.4.0->sentence-transformers==2.2.2) (2.31.0)\r\n",
      "Requirement already satisfied: pyyaml>=5.1 in /opt/conda/lib/python3.10/site-packages (from huggingface-hub>=0.4.0->sentence-transformers==2.2.2) (6.0)\r\n",
      "Requirement already satisfied: typing-extensions>=3.7.4.3 in /opt/conda/lib/python3.10/site-packages (from huggingface-hub>=0.4.0->sentence-transformers==2.2.2) (4.6.3)\r\n",
      "Requirement already satisfied: packaging>=20.9 in /opt/conda/lib/python3.10/site-packages (from huggingface-hub>=0.4.0->sentence-transformers==2.2.2) (21.3)\r\n",
      "Requirement already satisfied: sympy in /opt/conda/lib/python3.10/site-packages (from torch>=1.6.0->sentence-transformers==2.2.2) (1.12)\r\n",
      "Requirement already satisfied: networkx in /opt/conda/lib/python3.10/site-packages (from torch>=1.6.0->sentence-transformers==2.2.2) (3.1)\r\n",
      "Requirement already satisfied: jinja2 in /opt/conda/lib/python3.10/site-packages (from torch>=1.6.0->sentence-transformers==2.2.2) (3.1.2)\r\n",
      "Requirement already satisfied: regex!=2019.12.17 in /opt/conda/lib/python3.10/site-packages (from transformers<5.0.0,>=4.6.0->sentence-transformers==2.2.2) (2023.6.3)\r\n",
      "Requirement already satisfied: tokenizers!=0.11.3,<0.14,>=0.11.1 in /opt/conda/lib/python3.10/site-packages (from transformers<5.0.0,>=4.6.0->sentence-transformers==2.2.2) (0.13.3)\r\n",
      "Requirement already satisfied: safetensors>=0.3.1 in /opt/conda/lib/python3.10/site-packages (from transformers<5.0.0,>=4.6.0->sentence-transformers==2.2.2) (0.3.1)\r\n",
      "Requirement already satisfied: six in /opt/conda/lib/python3.10/site-packages (from nltk->sentence-transformers==2.2.2) (1.16.0)\r\n",
      "Requirement already satisfied: joblib>=1.1.1 in /opt/conda/lib/python3.10/site-packages (from scikit-learn->sentence-transformers==2.2.2) (1.2.0)\r\n",
      "Requirement already satisfied: threadpoolctl>=2.0.0 in /opt/conda/lib/python3.10/site-packages (from scikit-learn->sentence-transformers==2.2.2) (3.1.0)\r\n",
      "Requirement already satisfied: pillow!=8.3.*,>=5.3.0 in /opt/conda/lib/python3.10/site-packages (from torchvision->sentence-transformers==2.2.2) (9.5.0)\r\n",
      "Requirement already satisfied: pyparsing!=3.0.5,>=2.0.2 in /opt/conda/lib/python3.10/site-packages (from packaging>=20.9->huggingface-hub>=0.4.0->sentence-transformers==2.2.2) (3.0.9)\r\n",
      "Requirement already satisfied: MarkupSafe>=2.0 in /opt/conda/lib/python3.10/site-packages (from jinja2->torch>=1.6.0->sentence-transformers==2.2.2) (2.1.3)\r\n",
      "Requirement already satisfied: charset-normalizer<4,>=2 in /opt/conda/lib/python3.10/site-packages (from requests->huggingface-hub>=0.4.0->sentence-transformers==2.2.2) (3.1.0)\r\n",
      "Requirement already satisfied: idna<4,>=2.5 in /opt/conda/lib/python3.10/site-packages (from requests->huggingface-hub>=0.4.0->sentence-transformers==2.2.2) (3.4)\r\n",
      "Requirement already satisfied: urllib3<3,>=1.21.1 in /opt/conda/lib/python3.10/site-packages (from requests->huggingface-hub>=0.4.0->sentence-transformers==2.2.2) (1.26.15)\r\n",
      "Requirement already satisfied: certifi>=2017.4.17 in /opt/conda/lib/python3.10/site-packages (from requests->huggingface-hub>=0.4.0->sentence-transformers==2.2.2) (2023.5.7)\r\n",
      "Requirement already satisfied: mpmath>=0.19 in /opt/conda/lib/python3.10/site-packages (from sympy->torch>=1.6.0->sentence-transformers==2.2.2) (1.3.0)\r\n",
      "Building wheels for collected packages: sentence-transformers\r\n",
      "  Building wheel for sentence-transformers (setup.py) ... \u001b[?25l-\b \b\\\b \b|\b \bdone\r\n",
      "\u001b[?25h  Created wheel for sentence-transformers: filename=sentence_transformers-2.2.2-py3-none-any.whl size=126134 sha256=72a97bf3ec9ab6ebf77b3fe7181e23b73175ee4596e4702e142f396e1968d3eb\r\n",
      "  Stored in directory: /root/.cache/pip/wheels/6c/ea/76/d9a930b223b1d3d5d6aff69458725316b0fe205b854faf1812\r\n",
      "Successfully built sentence-transformers\r\n",
      "Installing collected packages: sentence-transformers\r\n",
      "Successfully installed sentence-transformers-2.2.2\r\n",
      "Processing /kaggle/input/blingfire-018/blingfire-0.1.8-py3-none-any.whl\r\n",
      "Installing collected packages: blingfire\r\n",
      "Successfully installed blingfire-0.1.8\r\n",
      "Processing /kaggle/input/llm-accelerate-whl/accelerate-0.22.0-py3-none-any.whl\r\n",
      "Installing collected packages: accelerate\r\n",
      "  Attempting uninstall: accelerate\r\n",
      "    Found existing installation: accelerate 0.20.3\r\n",
      "    Uninstalling accelerate-0.20.3:\r\n",
      "      Successfully uninstalled accelerate-0.20.3\r\n",
      "Successfully installed accelerate-0.22.0\r\n",
      "Processing /kaggle/input/llm-accelerate-whl/bitsandbytes-0.41.1-py3-none-any.whl\r\n",
      "Installing collected packages: bitsandbytes\r\n",
      "Successfully installed bitsandbytes-0.41.1\r\n",
      "Processing /kaggle/input/llm-accelerate-whl/datasets-2.14.4-py3-none-any.whl\r\n",
      "Installing collected packages: datasets\r\n",
      "  Attempting uninstall: datasets\r\n",
      "    Found existing installation: datasets 2.1.0\r\n",
      "    Uninstalling datasets-2.1.0:\r\n",
      "      Successfully uninstalled datasets-2.1.0\r\n",
      "Successfully installed datasets-2.14.4\r\n",
      "Processing /kaggle/input/llm-accelerate-whl/peft-0.5.0-py3-none-any.whl\r\n",
      "Installing collected packages: peft\r\n",
      "Successfully installed peft-0.5.0\r\n",
      "Processing /kaggle/input/llm-accelerate-whl/transformers-4.32.0-py3-none-any.whl\r\n",
      "Installing collected packages: transformers\r\n",
      "  Attempting uninstall: transformers\r\n",
      "    Found existing installation: transformers 4.30.2\r\n",
      "    Uninstalling transformers-4.30.2:\r\n",
      "      Successfully uninstalled transformers-4.30.2\r\n",
      "Successfully installed transformers-4.32.0\r\n",
      "Processing /kaggle/input/llm-accelerate-whl/trl-0.6.0-py3-none-any.whl\r\n",
      "Installing collected packages: trl\r\n",
      "Successfully installed trl-0.6.0\r\n"
     ]
    }
   ],
   "source": [
    "!pip install -U /kaggle/input/faiss-gpu-173-python310/faiss_gpu-1.7.2-cp310-cp310-manylinux_2_17_x86_64.manylinux2014_x86_64.whl\n",
    "!cp -rf /kaggle/input/sentence-transformers-222/sentence-transformers /kaggle/working/sentence-transformers\n",
    "!pip install -U /kaggle/working/sentence-transformers\n",
    "!pip install -U /kaggle/input/blingfire-018/blingfire-0.1.8-py3-none-any.whl\n",
    "\n",
    "!pip install --no-index --no-deps /kaggle/input/llm-accelerate-whl/accelerate-0.22.0-py3-none-any.whl\n",
    "!pip install --no-index --no-deps /kaggle/input/llm-accelerate-whl/bitsandbytes-0.41.1-py3-none-any.whl\n",
    "!pip install --no-index --no-deps /kaggle/input/llm-accelerate-whl/datasets-2.14.4-py3-none-any.whl\n",
    "!pip install --no-index --no-deps /kaggle/input/llm-accelerate-whl/peft-0.5.0-py3-none-any.whl\n",
    "!pip install --no-index --no-deps /kaggle/input/llm-accelerate-whl/transformers-4.32.0-py3-none-any.whl\n",
    "!pip install --no-index --no-deps /kaggle/input/llm-accelerate-whl/trl-0.6.0-py3-none-any.whl"
   ]
  },
  {
   "cell_type": "code",
   "execution_count": 2,
   "id": "50c370a2",
   "metadata": {
    "execution": {
     "iopub.execute_input": "2023-09-18T23:07:07.352447Z",
     "iopub.status.busy": "2023-09-18T23:07:07.351564Z",
     "iopub.status.idle": "2023-09-18T23:07:21.371892Z",
     "shell.execute_reply": "2023-09-18T23:07:21.370910Z"
    },
    "papermill": {
     "duration": 14.041629,
     "end_time": "2023-09-18T23:07:21.374579",
     "exception": false,
     "start_time": "2023-09-18T23:07:07.332950",
     "status": "completed"
    },
    "tags": []
   },
   "outputs": [
    {
     "name": "stderr",
     "output_type": "stream",
     "text": [
      "/opt/conda/lib/python3.10/site-packages/scipy/__init__.py:146: UserWarning: A NumPy version >=1.16.5 and <1.23.0 is required for this version of SciPy (detected version 1.23.5\n",
      "  warnings.warn(f\"A NumPy version >={np_minversion} and <{np_maxversion}\"\n",
      "/opt/conda/lib/python3.10/site-packages/tensorflow_io/python/ops/__init__.py:98: UserWarning: unable to load libtensorflow_io_plugins.so: unable to open file: libtensorflow_io_plugins.so, from paths: ['/opt/conda/lib/python3.10/site-packages/tensorflow_io/python/ops/libtensorflow_io_plugins.so']\n",
      "caused by: ['/opt/conda/lib/python3.10/site-packages/tensorflow_io/python/ops/libtensorflow_io_plugins.so: undefined symbol: _ZN3tsl6StatusC1EN10tensorflow5error4CodeESt17basic_string_viewIcSt11char_traitsIcEENS_14SourceLocationE']\n",
      "  warnings.warn(f\"unable to load libtensorflow_io_plugins.so: {e}\")\n",
      "/opt/conda/lib/python3.10/site-packages/tensorflow_io/python/ops/__init__.py:104: UserWarning: file system plugins are not loaded: unable to open file: libtensorflow_io.so, from paths: ['/opt/conda/lib/python3.10/site-packages/tensorflow_io/python/ops/libtensorflow_io.so']\n",
      "caused by: ['/opt/conda/lib/python3.10/site-packages/tensorflow_io/python/ops/libtensorflow_io.so: undefined symbol: _ZTVN10tensorflow13GcsFileSystemE']\n",
      "  warnings.warn(f\"file system plugins are not loaded: {e}\")\n"
     ]
    }
   ],
   "source": [
    "# Future imports\n",
    "from __future__ import annotations\n",
    "\n",
    "# Python standard library imports\n",
    "from collections.abc import Iterable\n",
    "import ctypes\n",
    "import os\n",
    "import gc\n",
    "import re\n",
    "from typing import Optional, Union\n",
    "import warnings\n",
    "\n",
    "# Third-party imports\n",
    "import blingfire as bf\n",
    "import faiss\n",
    "from faiss import read_index, write_index\n",
    "import matplotlib.pyplot as plt\n",
    "from dataclasses import dataclass, field\n",
    "import torch\n",
    "from torch.utils.data import DataLoader\n",
    "from scipy.special import softmax\n",
    "import torch.nn as nn\n",
    "\n",
    "# Datasets library\n",
    "from datasets import load_dataset, Dataset\n",
    "\n",
    "# Pandas and Numpy\n",
    "import pandas as pd\n",
    "import numpy as np\n",
    "\n",
    "# tqdm module for progress bars\n",
    "from tqdm.auto import tqdm\n",
    "\n",
    "# Import transformers components\n",
    "from transformers import (\n",
    "    AutoModel, \n",
    "    AutoModelForSequenceClassification, \n",
    "    AutoModelForMultipleChoice,\n",
    "    AutoModelForCausalLM,\n",
    "    AutoTokenizer,\n",
    "    BitsAndBytesConfig,\n",
    "    HfArgumentParser,\n",
    "    Trainer,\n",
    "    TrainingArguments,\n",
    "    get_cosine_schedule_with_warmup, \n",
    "    get_linear_schedule_with_warmup, \n",
    "    Adafactor, \n",
    "    AdamW\n",
    ")\n",
    "from transformers.activations import ACT2FN\n",
    "from transformers.tokenization_utils_base import PreTrainedTokenizerBase, PaddingStrategy\n",
    "\n",
    "# Import sentence transformers\n",
    "from sentence_transformers import SentenceTransformer\n",
    "\n",
    "# Peft imports\n",
    "from peft import (\n",
    "    LoraConfig, \n",
    "    prepare_model_for_kbit_training, \n",
    "    get_peft_model, \n",
    "    PeftModel, \n",
    "    PeftConfig, \n",
    "    TaskType,\n",
    "    PeftModelForSequenceClassification\n",
    ")\n",
    "\n",
    "# Load library\n",
    "libc = ctypes.CDLL(\"libc.so.6\")\n",
    "\n",
    "# Set warnings to ignore\n",
    "warnings.filterwarnings(\"ignore\")"
   ]
  },
  {
   "cell_type": "code",
   "execution_count": 3,
   "id": "436ae5b1",
   "metadata": {
    "execution": {
     "iopub.execute_input": "2023-09-18T23:07:21.411310Z",
     "iopub.status.busy": "2023-09-18T23:07:21.410991Z",
     "iopub.status.idle": "2023-09-18T23:09:56.280694Z",
     "shell.execute_reply": "2023-09-18T23:09:56.279728Z"
    },
    "papermill": {
     "duration": 154.890238,
     "end_time": "2023-09-18T23:09:56.283030",
     "exception": false,
     "start_time": "2023-09-18T23:07:21.392792",
     "status": "completed"
    },
    "tags": []
   },
   "outputs": [
    {
     "data": {
      "application/vnd.jupyter.widget-view+json": {
       "model_id": "3d447acc92f04f51baa922122e95ce3e",
       "version_major": 2,
       "version_minor": 0
      },
      "text/plain": [
       "Loading checkpoint shards:   0%|          | 0/2 [00:00<?, ?it/s]"
      ]
     },
     "metadata": {},
     "output_type": "display_data"
    },
    {
     "name": "stderr",
     "output_type": "stream",
     "text": [
      "Some weights of LlamaForSequenceClassification were not initialized from the model checkpoint at /kaggle/input/llama2-7b-hf/Llama2-7b-hf and are newly initialized: ['score.weight']\n",
      "You should probably TRAIN this model on a down-stream task to be able to use it for predictions and inference.\n"
     ]
    }
   ],
   "source": [
    "llama_model = AutoModelForSequenceClassification.from_pretrained(\n",
    "    \"/kaggle/input/llama2-7b-hf/Llama2-7b-hf\",\n",
    "    load_in_4bit=True,\n",
    "    trust_remote_code=True,\n",
    "    torch_dtype=torch.float16,\n",
    "    device_map=\"auto\",\n",
    ")\n",
    "llama_model.config.use_cache = False\n",
    "\n",
    "llama_model.config.pad_token_id = llama_model.config.eos_token_id"
   ]
  },
  {
   "cell_type": "code",
   "execution_count": 4,
   "id": "7ccab47a",
   "metadata": {
    "execution": {
     "iopub.execute_input": "2023-09-18T23:09:56.319612Z",
     "iopub.status.busy": "2023-09-18T23:09:56.319299Z",
     "iopub.status.idle": "2023-09-18T23:09:56.440675Z",
     "shell.execute_reply": "2023-09-18T23:09:56.439699Z"
    },
    "papermill": {
     "duration": 0.142579,
     "end_time": "2023-09-18T23:09:56.443346",
     "exception": false,
     "start_time": "2023-09-18T23:09:56.300767",
     "status": "completed"
    },
    "tags": []
   },
   "outputs": [],
   "source": [
    "df_train = pd.read_csv('/kaggle/input/kaggle-llm-science-exam/train.csv')\n",
    "df_test  = pd.read_csv('/kaggle/input/kaggle-llm-science-exam/test.csv')\n",
    "df_samp = pd.read_csv('/kaggle/input/kaggle-llm-science-exam/sample_submission.csv')\n",
    "df_extra = pd.read_csv('/kaggle/input/additional-train-data-for-llm-science-exam/extra_train_set.csv')\n",
    "df_extra_RO = pd.read_csv('/kaggle/input/additional-train-data-for-llm-science-exam/6000_train_examples.csv')"
   ]
  },
  {
   "cell_type": "code",
   "execution_count": 5,
   "id": "c97eccfd",
   "metadata": {
    "execution": {
     "iopub.execute_input": "2023-09-18T23:09:56.480106Z",
     "iopub.status.busy": "2023-09-18T23:09:56.479799Z",
     "iopub.status.idle": "2023-09-18T23:09:56.489115Z",
     "shell.execute_reply": "2023-09-18T23:09:56.488245Z"
    },
    "papermill": {
     "duration": 0.029796,
     "end_time": "2023-09-18T23:09:56.491133",
     "exception": false,
     "start_time": "2023-09-18T23:09:56.461337",
     "status": "completed"
    },
    "tags": []
   },
   "outputs": [
    {
     "data": {
      "text/plain": [
       "(200, 8)"
      ]
     },
     "execution_count": 5,
     "metadata": {},
     "output_type": "execute_result"
    }
   ],
   "source": [
    "# We have two dataframes named df_train and df_extra with the same number of rows\n",
    "# Concatenate them\n",
    "concatenated_df = pd.concat([df_train])\n",
    "df_train.reset_index(inplace=True, drop=True)\n",
    "df_train.shape"
   ]
  },
  {
   "cell_type": "code",
   "execution_count": 6,
   "id": "d3e02266",
   "metadata": {
    "execution": {
     "iopub.execute_input": "2023-09-18T23:09:56.527967Z",
     "iopub.status.busy": "2023-09-18T23:09:56.527697Z",
     "iopub.status.idle": "2023-09-18T23:10:03.344466Z",
     "shell.execute_reply": "2023-09-18T23:10:03.343490Z"
    },
    "papermill": {
     "duration": 6.838235,
     "end_time": "2023-09-18T23:10:03.346987",
     "exception": false,
     "start_time": "2023-09-18T23:09:56.508752",
     "status": "completed"
    },
    "tags": []
   },
   "outputs": [],
   "source": [
    "import random\n",
    "import pandas as pd\n",
    "from transformers import pipeline, AutoTokenizer\n",
    "\n",
    "# Load the BERT tokenizer\n",
    "tokenizer = AutoTokenizer.from_pretrained(\"/kaggle/input/bert-base-uncased\")\n",
    "\n",
    "# Initialize the pipeline for masked language modeling using BERT\n",
    "mlm_fill_mask = pipeline(task=\"fill-mask\", model=\"/kaggle/input/bert-base-uncased\")\n",
    "\n",
    "# Function to perform data augmentation using different techniques\n",
    "def augment_data(original_df, num_augmented_rows):\n",
    "    augmented_data = []\n",
    "    original_rows = original_df.shape[0]\n",
    "\n",
    "    # Function for contextual word embeddings augmentation\n",
    "    def contextual_embeddings(text):\n",
    "        # Tokenize the text\n",
    "        tokenized_text = tokenizer(text, return_tensors=\"pt\")\n",
    "\n",
    "        # Find masked positions in the tokenized text\n",
    "        masked_positions = [i for i, token in enumerate(tokenized_text[\"input_ids\"][0]) if token == tokenizer.mask_token_id]\n",
    "\n",
    "        # If no masked positions found, return the original text\n",
    "        if not masked_positions:\n",
    "            return text\n",
    "\n",
    "        # Randomly select one of the masked positions\n",
    "        random_masked_position = random.choice(masked_positions)\n",
    "\n",
    "        # Predict the masked word using masked language modeling\n",
    "        masked_text = text.replace(\"[MASK]\", tokenizer.mask_token)\n",
    "        predicted_word = mlm_fill_mask(masked_text)[0][\"token_str\"]\n",
    "\n",
    "        # Replace the masked word in the text with the predicted word\n",
    "        augmented_text = text.replace(tokenizer.mask_token, predicted_word, 1)\n",
    "\n",
    "        return augmented_text\n",
    "\n",
    "    # Function for synonym replacement augmentation\n",
    "    def augment_with_synonyms(text):\n",
    "        # You can use your own synonym replacement logic here\n",
    "        # For simplicity, let's assume we have a predefined dictionary of synonyms\n",
    "        synonym_dict = {\n",
    "            \"good\": [\"excellent\", \"great\", \"superb\", \"fine\"],\n",
    "            \"bad\": [\"poor\", \"terrible\", \"awful\", \"horrible\"]\n",
    "            # Add more synonyms as needed\n",
    "        }\n",
    "\n",
    "        words = text.split()\n",
    "        augmented_words = [synonym_dict[word][random.randint(0, len(synonym_dict[word]) - 1)] if word in synonym_dict else word for word in words]\n",
    "        return \" \".join(augmented_words)\n",
    "\n",
    "    for _ in range(num_augmented_rows):\n",
    "        original_row = original_df.iloc[random.randint(0, original_rows - 1)]\n",
    "        augmented_row = original_row.copy()\n",
    "\n",
    "        # Apply augmentation techniques to \"prompt\"\n",
    "        augmented_row[\"prompt\"] = contextual_embeddings(original_row[\"prompt\"])\n",
    "\n",
    "        # Apply synonym replacement to answer choices (A, B, C, D, E)\n",
    "        for choice in [\"A\", \"B\", \"C\", \"D\", \"E\"]:\n",
    "            augmented_row[choice] = augment_with_synonyms(original_row[choice])\n",
    "\n",
    "        augmented_data.append(augmented_row)\n",
    "\n",
    "    return augmented_data\n",
    "\n",
    "# Assuming you have a concatenated_df dataframe with columns: \"prompt\", \"A\", \"B\", \"C\", \"D\", \"E\", and \"answer\"\n",
    "# Set the desired number of rows\n",
    "desired_rows = 500\n",
    "\n",
    "# Calculate the number of rows needed to achieve the desired total rows\n",
    "additional_rows = desired_rows - concatenated_df.shape[0]\n",
    "\n",
    "# Augment the data\n",
    "augmented_data = augment_data(concatenated_df, additional_rows)\n",
    "\n",
    "# Convert the augmented data to a dataframe\n",
    "augmented_df = pd.DataFrame(augmented_data)\n",
    "\n",
    "# Concatenate the original dataframe with the augmented dataframe to get the final dataframe with 3000 rows\n",
    "final_df = pd.concat([concatenated_df, augmented_df], ignore_index=True)"
   ]
  },
  {
   "cell_type": "code",
   "execution_count": 7,
   "id": "f92a445c",
   "metadata": {
    "execution": {
     "iopub.execute_input": "2023-09-18T23:10:03.384903Z",
     "iopub.status.busy": "2023-09-18T23:10:03.384578Z",
     "iopub.status.idle": "2023-09-18T23:10:03.391715Z",
     "shell.execute_reply": "2023-09-18T23:10:03.390763Z"
    },
    "papermill": {
     "duration": 0.028637,
     "end_time": "2023-09-18T23:10:03.394045",
     "exception": false,
     "start_time": "2023-09-18T23:10:03.365408",
     "status": "completed"
    },
    "tags": []
   },
   "outputs": [],
   "source": [
    "def process_documents(documents: Iterable[str],\n",
    "                      document_ids: Iterable,\n",
    "                      split_sentences: bool = True,\n",
    "                      filter_len: int = 9,\n",
    "                      disable_progress_bar: bool = False) -> pd.DataFrame:\n",
    "    \"\"\"\n",
    "    Main helper function to process documents from the EMR.\n",
    "\n",
    "    :param documents: Iterable containing documents which are strings\n",
    "    :param document_ids: Iterable containing document unique identifiers\n",
    "    :param document_type: String denoting the document type to be processed\n",
    "    :param document_sections: List of sections for a given document type to process\n",
    "    :param split_sentences: Flag to determine whether to further split sections into sentences\n",
    "    :param filter_len: Minimum character length of a sentence (otherwise filter out)\n",
    "    :param disable_progress_bar: Flag to disable tqdm progress bar\n",
    "    :return: Pandas DataFrame containing the columns `document_id`, `text`, `section`, `offset`\n",
    "    \"\"\"\n",
    "    \n",
    "    df = sectionize_documents(documents, document_ids, disable_progress_bar)\n",
    "\n",
    "    if split_sentences:\n",
    "        df = sentencize(df.text.values, \n",
    "                        df.document_id.values,\n",
    "                        df.offset.values, \n",
    "                        filter_len, \n",
    "                        disable_progress_bar)\n",
    "    return df"
   ]
  },
  {
   "cell_type": "code",
   "execution_count": 8,
   "id": "c15a4ff6",
   "metadata": {
    "execution": {
     "iopub.execute_input": "2023-09-18T23:10:03.430439Z",
     "iopub.status.busy": "2023-09-18T23:10:03.430160Z",
     "iopub.status.idle": "2023-09-18T23:10:03.437747Z",
     "shell.execute_reply": "2023-09-18T23:10:03.436644Z"
    },
    "papermill": {
     "duration": 0.02822,
     "end_time": "2023-09-18T23:10:03.439800",
     "exception": false,
     "start_time": "2023-09-18T23:10:03.411580",
     "status": "completed"
    },
    "tags": []
   },
   "outputs": [],
   "source": [
    "def sectionize_documents(documents: Iterable[str],\n",
    "                         document_ids: Iterable,\n",
    "                         disable_progress_bar: bool = False) -> pd.DataFrame:\n",
    "    \"\"\"\n",
    "    Obtains the sections of the imaging reports and returns only the \n",
    "    selected sections (defaults to FINDINGS, IMPRESSION, and ADDENDUM).\n",
    "\n",
    "    :param documents: Iterable containing documents which are strings\n",
    "    :param document_ids: Iterable containing document unique identifiers\n",
    "    :param disable_progress_bar: Flag to disable tqdm progress bar\n",
    "    :return: Pandas DataFrame containing the columns `document_id`, `text`, `offset`\n",
    "    \"\"\"\n",
    "    processed_documents = []\n",
    "    for document_id, document in tqdm(zip(document_ids, documents), total=len(documents), disable=disable_progress_bar):\n",
    "        row = {}\n",
    "        text, start, end = (document, 0, len(document))\n",
    "        row['document_id'] = document_id\n",
    "        row['text'] = text\n",
    "        row['offset'] = (start, end)\n",
    "\n",
    "        processed_documents.append(row)\n",
    "\n",
    "    _df = pd.DataFrame(processed_documents)\n",
    "    if _df.shape[0] > 0:\n",
    "        return _df.sort_values(['document_id', 'offset']).reset_index(drop=True)\n",
    "    else:\n",
    "        return _df"
   ]
  },
  {
   "cell_type": "code",
   "execution_count": 9,
   "id": "62b036d6",
   "metadata": {
    "execution": {
     "iopub.execute_input": "2023-09-18T23:10:03.477126Z",
     "iopub.status.busy": "2023-09-18T23:10:03.476337Z",
     "iopub.status.idle": "2023-09-18T23:10:03.485360Z",
     "shell.execute_reply": "2023-09-18T23:10:03.484474Z"
    },
    "papermill": {
     "duration": 0.029884,
     "end_time": "2023-09-18T23:10:03.487404",
     "exception": false,
     "start_time": "2023-09-18T23:10:03.457520",
     "status": "completed"
    },
    "tags": []
   },
   "outputs": [],
   "source": [
    "def sentencize(documents: Iterable[str],\n",
    "               document_ids: Iterable,\n",
    "               offsets: Iterable[tuple[int, int]],\n",
    "               filter_len: int = 9,\n",
    "               disable_progress_bar: bool = False) -> pd.DataFrame:\n",
    "    \"\"\"\n",
    "    Split a document into sentences. Can be used with `sectionize_documents`\n",
    "    to further split documents into more manageable pieces. Takes in offsets\n",
    "    to ensure that after splitting, the sentences can be matched to the\n",
    "    location in the original documents.\n",
    "\n",
    "    :param documents: Iterable containing documents which are strings\n",
    "    :param document_ids: Iterable containing document unique identifiers\n",
    "    :param offsets: Iterable tuple of the start and end indices\n",
    "    :param filter_len: Minimum character length of a sentence (otherwise filter out)\n",
    "    :return: Pandas DataFrame containing the columns `document_id`, `text`, `section`, `offset`\n",
    "    \"\"\"\n",
    "\n",
    "    document_sentences = []\n",
    "    for document, document_id, offset in tqdm(zip(documents, document_ids, offsets), total=len(documents), disable=disable_progress_bar):\n",
    "        try:\n",
    "            _, sentence_offsets = bf.text_to_sentences_and_offsets(document)\n",
    "            for o in sentence_offsets:\n",
    "                if o[1]-o[0] > filter_len:\n",
    "                    sentence = document[o[0]:o[1]]\n",
    "                    abs_offsets = (o[0]+offset[0], o[1]+offset[0])\n",
    "                    row = {}\n",
    "                    row['document_id'] = document_id\n",
    "                    row['text'] = sentence\n",
    "                    row['offset'] = abs_offsets\n",
    "                    document_sentences.append(row)\n",
    "        except:\n",
    "            continue\n",
    "    return pd.DataFrame(document_sentences)"
   ]
  },
  {
   "cell_type": "code",
   "execution_count": 10,
   "id": "966f5249",
   "metadata": {
    "execution": {
     "iopub.execute_input": "2023-09-18T23:10:03.524072Z",
     "iopub.status.busy": "2023-09-18T23:10:03.523804Z",
     "iopub.status.idle": "2023-09-18T23:10:03.531347Z",
     "shell.execute_reply": "2023-09-18T23:10:03.530514Z"
    },
    "papermill": {
     "duration": 0.028015,
     "end_time": "2023-09-18T23:10:03.533281",
     "exception": false,
     "start_time": "2023-09-18T23:10:03.505266",
     "status": "completed"
    },
    "tags": []
   },
   "outputs": [],
   "source": [
    "SIM_MODEL = '/kaggle/input/sentencetransformers-allminilml6v2/sentence-transformers_all-MiniLM-L6-v2'\n",
    "DEVICE = 0\n",
    "MAX_LENGTH = 384\n",
    "BATCH_SIZE = 32\n",
    "WIKI_PATH = \"/kaggle/input/wikipedia-20230701\"\n",
    "wiki_files = os.listdir(WIKI_PATH)"
   ]
  },
  {
   "cell_type": "code",
   "execution_count": 11,
   "id": "475218f2",
   "metadata": {
    "execution": {
     "iopub.execute_input": "2023-09-18T23:10:03.569838Z",
     "iopub.status.busy": "2023-09-18T23:10:03.569053Z",
     "iopub.status.idle": "2023-09-18T23:10:03.591845Z",
     "shell.execute_reply": "2023-09-18T23:10:03.590861Z"
    },
    "papermill": {
     "duration": 0.043503,
     "end_time": "2023-09-18T23:10:03.594368",
     "exception": false,
     "start_time": "2023-09-18T23:10:03.550865",
     "status": "completed"
    },
    "tags": []
   },
   "outputs": [
    {
     "data": {
      "text/html": [
       "<div>\n",
       "<style scoped>\n",
       "    .dataframe tbody tr th:only-of-type {\n",
       "        vertical-align: middle;\n",
       "    }\n",
       "\n",
       "    .dataframe tbody tr th {\n",
       "        vertical-align: top;\n",
       "    }\n",
       "\n",
       "    .dataframe thead th {\n",
       "        text-align: right;\n",
       "    }\n",
       "</style>\n",
       "<table border=\"1\" class=\"dataframe\">\n",
       "  <thead>\n",
       "    <tr style=\"text-align: right;\">\n",
       "      <th></th>\n",
       "      <th>prompt</th>\n",
       "      <th>A</th>\n",
       "      <th>B</th>\n",
       "      <th>C</th>\n",
       "      <th>D</th>\n",
       "      <th>E</th>\n",
       "    </tr>\n",
       "  </thead>\n",
       "  <tbody>\n",
       "    <tr>\n",
       "      <th>0</th>\n",
       "      <td>Which of the following statements accurately d...</td>\n",
       "      <td>MOND is a theory that reduces the observed mis...</td>\n",
       "      <td>MOND is a theory that increases the discrepanc...</td>\n",
       "      <td>MOND is a theory that explains the missing bar...</td>\n",
       "      <td>MOND is a theory that reduces the discrepancy ...</td>\n",
       "      <td>MOND is a theory that eliminates the observed ...</td>\n",
       "    </tr>\n",
       "    <tr>\n",
       "      <th>1</th>\n",
       "      <td>Which of the following is an accurate definiti...</td>\n",
       "      <td>Dynamic scaling refers to the evolution of sel...</td>\n",
       "      <td>Dynamic scaling refers to the non-evolution of...</td>\n",
       "      <td>Dynamic scaling refers to the evolution of sel...</td>\n",
       "      <td>Dynamic scaling refers to the non-evolution of...</td>\n",
       "      <td>Dynamic scaling refers to the evolution of sel...</td>\n",
       "    </tr>\n",
       "    <tr>\n",
       "      <th>2</th>\n",
       "      <td>Which of the following statements accurately d...</td>\n",
       "      <td>The triskeles symbol was reconstructed as a fe...</td>\n",
       "      <td>The triskeles symbol is a representation of th...</td>\n",
       "      <td>The triskeles symbol is a representation of a ...</td>\n",
       "      <td>The triskeles symbol represents three interloc...</td>\n",
       "      <td>The triskeles symbol is a representation of th...</td>\n",
       "    </tr>\n",
       "    <tr>\n",
       "      <th>3</th>\n",
       "      <td>What is the significance of regularization in ...</td>\n",
       "      <td>Regularizing the mass-energy of an electron wi...</td>\n",
       "      <td>Regularizing the mass-energy of an electron wi...</td>\n",
       "      <td>Regularizing the mass-energy of an electron wi...</td>\n",
       "      <td>Regularizing the mass-energy of an electron wi...</td>\n",
       "      <td>Regularizing the mass-energy of an electron wi...</td>\n",
       "    </tr>\n",
       "    <tr>\n",
       "      <th>4</th>\n",
       "      <td>Which of the following statements accurately d...</td>\n",
       "      <td>The angular spacing of features in the diffrac...</td>\n",
       "      <td>The angular spacing of features in the diffrac...</td>\n",
       "      <td>The angular spacing of features in the diffrac...</td>\n",
       "      <td>The angular spacing of features in the diffrac...</td>\n",
       "      <td>The angular spacing of features in the diffrac...</td>\n",
       "    </tr>\n",
       "  </tbody>\n",
       "</table>\n",
       "</div>"
      ],
      "text/plain": [
       "                                              prompt  \\\n",
       "0  Which of the following statements accurately d...   \n",
       "1  Which of the following is an accurate definiti...   \n",
       "2  Which of the following statements accurately d...   \n",
       "3  What is the significance of regularization in ...   \n",
       "4  Which of the following statements accurately d...   \n",
       "\n",
       "                                                   A  \\\n",
       "0  MOND is a theory that reduces the observed mis...   \n",
       "1  Dynamic scaling refers to the evolution of sel...   \n",
       "2  The triskeles symbol was reconstructed as a fe...   \n",
       "3  Regularizing the mass-energy of an electron wi...   \n",
       "4  The angular spacing of features in the diffrac...   \n",
       "\n",
       "                                                   B  \\\n",
       "0  MOND is a theory that increases the discrepanc...   \n",
       "1  Dynamic scaling refers to the non-evolution of...   \n",
       "2  The triskeles symbol is a representation of th...   \n",
       "3  Regularizing the mass-energy of an electron wi...   \n",
       "4  The angular spacing of features in the diffrac...   \n",
       "\n",
       "                                                   C  \\\n",
       "0  MOND is a theory that explains the missing bar...   \n",
       "1  Dynamic scaling refers to the evolution of sel...   \n",
       "2  The triskeles symbol is a representation of a ...   \n",
       "3  Regularizing the mass-energy of an electron wi...   \n",
       "4  The angular spacing of features in the diffrac...   \n",
       "\n",
       "                                                   D  \\\n",
       "0  MOND is a theory that reduces the discrepancy ...   \n",
       "1  Dynamic scaling refers to the non-evolution of...   \n",
       "2  The triskeles symbol represents three interloc...   \n",
       "3  Regularizing the mass-energy of an electron wi...   \n",
       "4  The angular spacing of features in the diffrac...   \n",
       "\n",
       "                                                   E  \n",
       "0  MOND is a theory that eliminates the observed ...  \n",
       "1  Dynamic scaling refers to the evolution of sel...  \n",
       "2  The triskeles symbol is a representation of th...  \n",
       "3  Regularizing the mass-energy of an electron wi...  \n",
       "4  The angular spacing of features in the diffrac...  "
      ]
     },
     "execution_count": 11,
     "metadata": {},
     "output_type": "execute_result"
    }
   ],
   "source": [
    "trn = pd.read_csv(\"/kaggle/input/kaggle-llm-science-exam/test.csv\").drop(\"id\", 1)\n",
    "trn.head()\n"
   ]
  },
  {
   "cell_type": "code",
   "execution_count": 12,
   "id": "24cf2d88",
   "metadata": {
    "execution": {
     "iopub.execute_input": "2023-09-18T23:10:03.632363Z",
     "iopub.status.busy": "2023-09-18T23:10:03.632102Z",
     "iopub.status.idle": "2023-09-18T23:10:03.645312Z",
     "shell.execute_reply": "2023-09-18T23:10:03.644392Z"
    },
    "papermill": {
     "duration": 0.03379,
     "end_time": "2023-09-18T23:10:03.647300",
     "exception": false,
     "start_time": "2023-09-18T23:10:03.613510",
     "status": "completed"
    },
    "tags": []
   },
   "outputs": [],
   "source": [
    "## Combine all answers\n",
    "trn['answer_all'] = trn.apply(lambda x: \" \".join([x['A'], x['B'], x['C'], x['D'], x['E']]), axis=1)\n",
    "\n",
    "\n",
    "## Search using the prompt and answers to guide the search\n",
    "trn['prompt_answer_stem'] = trn['prompt'] + \" \" + trn['answer_all']"
   ]
  },
  {
   "cell_type": "code",
   "execution_count": 13,
   "id": "4427a26d",
   "metadata": {
    "execution": {
     "iopub.execute_input": "2023-09-18T23:10:03.684144Z",
     "iopub.status.busy": "2023-09-18T23:10:03.683872Z",
     "iopub.status.idle": "2023-09-18T23:10:04.815946Z",
     "shell.execute_reply": "2023-09-18T23:10:04.814953Z"
    },
    "papermill": {
     "duration": 1.152916,
     "end_time": "2023-09-18T23:10:04.818254",
     "exception": false,
     "start_time": "2023-09-18T23:10:03.665338",
     "status": "completed"
    },
    "tags": []
   },
   "outputs": [],
   "source": [
    "model = SentenceTransformer(SIM_MODEL, device='cuda')\n",
    "model.max_seq_length = MAX_LENGTH\n",
    "model = model.half()"
   ]
  },
  {
   "cell_type": "code",
   "execution_count": 14,
   "id": "3da26270",
   "metadata": {
    "execution": {
     "iopub.execute_input": "2023-09-18T23:10:04.856161Z",
     "iopub.status.busy": "2023-09-18T23:10:04.855344Z",
     "iopub.status.idle": "2023-09-18T23:11:27.000512Z",
     "shell.execute_reply": "2023-09-18T23:11:26.996882Z"
    },
    "papermill": {
     "duration": 82.171107,
     "end_time": "2023-09-18T23:11:27.007641",
     "exception": false,
     "start_time": "2023-09-18T23:10:04.836534",
     "status": "completed"
    },
    "tags": []
   },
   "outputs": [],
   "source": [
    "sentence_index = read_index(\"/kaggle/input/wikipedia-2023-07-faiss-index/wikipedia_202307.index\")\n"
   ]
  },
  {
   "cell_type": "code",
   "execution_count": 15,
   "id": "9845866c",
   "metadata": {
    "execution": {
     "iopub.execute_input": "2023-09-18T23:11:27.045556Z",
     "iopub.status.busy": "2023-09-18T23:11:27.045236Z",
     "iopub.status.idle": "2023-09-18T23:11:29.356222Z",
     "shell.execute_reply": "2023-09-18T23:11:29.355172Z"
    },
    "papermill": {
     "duration": 2.332115,
     "end_time": "2023-09-18T23:11:29.358606",
     "exception": false,
     "start_time": "2023-09-18T23:11:27.026491",
     "status": "completed"
    },
    "tags": []
   },
   "outputs": [
    {
     "data": {
      "application/vnd.jupyter.widget-view+json": {
       "model_id": "85e5490ecf3e49459251492e41532667",
       "version_major": 2,
       "version_minor": 0
      },
      "text/plain": [
       "Batches:   0%|          | 0/7 [00:00<?, ?it/s]"
      ]
     },
     "metadata": {},
     "output_type": "display_data"
    }
   ],
   "source": [
    "prompt_embeddings = model.encode(trn.prompt_answer_stem.values, batch_size=BATCH_SIZE, device=DEVICE, show_progress_bar=True, convert_to_tensor=True, normalize_embeddings=True)\n",
    "prompt_embeddings = prompt_embeddings.detach().cpu().numpy()\n",
    "_ = gc.collect()"
   ]
  },
  {
   "cell_type": "code",
   "execution_count": 16,
   "id": "8ececef3",
   "metadata": {
    "execution": {
     "iopub.execute_input": "2023-09-18T23:11:29.395993Z",
     "iopub.status.busy": "2023-09-18T23:11:29.395689Z",
     "iopub.status.idle": "2023-09-18T23:11:51.111760Z",
     "shell.execute_reply": "2023-09-18T23:11:51.110934Z"
    },
    "papermill": {
     "duration": 21.737524,
     "end_time": "2023-09-18T23:11:51.114294",
     "exception": false,
     "start_time": "2023-09-18T23:11:29.376770",
     "status": "completed"
    },
    "tags": []
   },
   "outputs": [],
   "source": [
    "search_score, search_index = sentence_index.search(prompt_embeddings, 6)"
   ]
  },
  {
   "cell_type": "code",
   "execution_count": 17,
   "id": "b309eac7",
   "metadata": {
    "execution": {
     "iopub.execute_input": "2023-09-18T23:11:51.153133Z",
     "iopub.status.busy": "2023-09-18T23:11:51.152817Z",
     "iopub.status.idle": "2023-09-18T23:11:52.117166Z",
     "shell.execute_reply": "2023-09-18T23:11:52.116231Z"
    },
    "papermill": {
     "duration": 0.985479,
     "end_time": "2023-09-18T23:11:52.119315",
     "exception": false,
     "start_time": "2023-09-18T23:11:51.133836",
     "status": "completed"
    },
    "tags": []
   },
   "outputs": [
    {
     "data": {
      "text/plain": [
       "1"
      ]
     },
     "execution_count": 17,
     "metadata": {},
     "output_type": "execute_result"
    }
   ],
   "source": [
    "del sentence_index\n",
    "del prompt_embeddings\n",
    "_ = gc.collect()\n",
    "libc.malloc_trim(0)"
   ]
  },
  {
   "cell_type": "code",
   "execution_count": 18,
   "id": "185fd1cf",
   "metadata": {
    "execution": {
     "iopub.execute_input": "2023-09-18T23:11:52.157739Z",
     "iopub.status.busy": "2023-09-18T23:11:52.156797Z",
     "iopub.status.idle": "2023-09-18T23:11:56.808340Z",
     "shell.execute_reply": "2023-09-18T23:11:56.807197Z"
    },
    "papermill": {
     "duration": 4.673293,
     "end_time": "2023-09-18T23:11:56.810940",
     "exception": false,
     "start_time": "2023-09-18T23:11:52.137647",
     "status": "completed"
    },
    "tags": []
   },
   "outputs": [],
   "source": [
    "df = pd.read_parquet(\"/kaggle/input/wikipedia-20230701/wiki_2023_index.parquet\",\n",
    "                     columns=['id', 'file'])"
   ]
  },
  {
   "cell_type": "code",
   "execution_count": 19,
   "id": "6e0360c5",
   "metadata": {
    "execution": {
     "iopub.execute_input": "2023-09-18T23:11:56.848996Z",
     "iopub.status.busy": "2023-09-18T23:11:56.848691Z",
     "iopub.status.idle": "2023-09-18T23:11:57.714486Z",
     "shell.execute_reply": "2023-09-18T23:11:57.713531Z"
    },
    "papermill": {
     "duration": 0.887137,
     "end_time": "2023-09-18T23:11:57.716775",
     "exception": false,
     "start_time": "2023-09-18T23:11:56.829638",
     "status": "completed"
    },
    "tags": []
   },
   "outputs": [
    {
     "data": {
      "application/vnd.jupyter.widget-view+json": {
       "model_id": "30f8908d4bbe41988c8307185ca41aff",
       "version_major": 2,
       "version_minor": 0
      },
      "text/plain": [
       "  0%|          | 0/200 [00:00<?, ?it/s]"
      ]
     },
     "metadata": {},
     "output_type": "display_data"
    },
    {
     "data": {
      "text/plain": [
       "1"
      ]
     },
     "execution_count": 19,
     "metadata": {},
     "output_type": "execute_result"
    }
   ],
   "source": [
    "wikipedia_file_data = []\n",
    "\n",
    "for i, (scr, idx) in tqdm(enumerate(zip(search_score, search_index)), total=len(search_score)):\n",
    "    scr_idx = idx\n",
    "    _df = df.loc[scr_idx].copy()\n",
    "    _df['prompt_id'] = i\n",
    "    wikipedia_file_data.append(_df)\n",
    "wikipedia_file_data = pd.concat(wikipedia_file_data).reset_index(drop=True)\n",
    "wikipedia_file_data = wikipedia_file_data[['id', 'prompt_id', 'file']].drop_duplicates().sort_values(['file', 'id']).reset_index(drop=True)\n",
    "\n",
    "## Save memory - delete df since it is no longer necessary\n",
    "del df\n",
    "_ = gc.collect()\n",
    "libc.malloc_trim(0)"
   ]
  },
  {
   "cell_type": "code",
   "execution_count": 20,
   "id": "099b647e",
   "metadata": {
    "execution": {
     "iopub.execute_input": "2023-09-18T23:11:57.755811Z",
     "iopub.status.busy": "2023-09-18T23:11:57.755035Z",
     "iopub.status.idle": "2023-09-18T23:16:03.280681Z",
     "shell.execute_reply": "2023-09-18T23:16:03.279661Z"
    },
    "papermill": {
     "duration": 245.547792,
     "end_time": "2023-09-18T23:16:03.283165",
     "exception": false,
     "start_time": "2023-09-18T23:11:57.735373",
     "status": "completed"
    },
    "tags": []
   },
   "outputs": [
    {
     "data": {
      "application/vnd.jupyter.widget-view+json": {
       "model_id": "e356a079a5354f979a8a8ee308f20149",
       "version_major": 2,
       "version_minor": 0
      },
      "text/plain": [
       "  0%|          | 0/27 [00:00<?, ?it/s]"
      ]
     },
     "metadata": {},
     "output_type": "display_data"
    }
   ],
   "source": [
    "wiki_text_data = []\n",
    "\n",
    "for file in tqdm(wikipedia_file_data.file.unique(), total=len(wikipedia_file_data.file.unique())):\n",
    "    _id = [str(i) for i in wikipedia_file_data[wikipedia_file_data['file']==file]['id'].tolist()]\n",
    "    _df = pd.read_parquet(f\"{WIKI_PATH}/{file}\", columns=['id', 'text'])\n",
    "\n",
    "    _df_temp = _df[_df['id'].isin(_id)].copy()\n",
    "    del _df\n",
    "    _ = gc.collect()\n",
    "    libc.malloc_trim(0)\n",
    "    wiki_text_data.append(_df_temp)\n",
    "wiki_text_data = pd.concat(wiki_text_data).drop_duplicates().reset_index(drop=True)\n",
    "_ = gc.collect()"
   ]
  },
  {
   "cell_type": "code",
   "execution_count": 21,
   "id": "e4f1f7df",
   "metadata": {
    "execution": {
     "iopub.execute_input": "2023-09-18T23:16:03.323511Z",
     "iopub.status.busy": "2023-09-18T23:16:03.323187Z",
     "iopub.status.idle": "2023-09-18T23:16:11.423018Z",
     "shell.execute_reply": "2023-09-18T23:16:11.422048Z"
    },
    "papermill": {
     "duration": 8.122181,
     "end_time": "2023-09-18T23:16:11.425325",
     "exception": false,
     "start_time": "2023-09-18T23:16:03.303144",
     "status": "completed"
    },
    "tags": []
   },
   "outputs": [
    {
     "data": {
      "application/vnd.jupyter.widget-view+json": {
       "model_id": "e8c6c7f5196c4d6f975c1db0eeb31117",
       "version_major": 2,
       "version_minor": 0
      },
      "text/plain": [
       "  0%|          | 0/1120 [00:00<?, ?it/s]"
      ]
     },
     "metadata": {},
     "output_type": "display_data"
    },
    {
     "data": {
      "application/vnd.jupyter.widget-view+json": {
       "model_id": "cb91539463e444fb8905159c667db468",
       "version_major": 2,
       "version_minor": 0
      },
      "text/plain": [
       "  0%|          | 0/1120 [00:00<?, ?it/s]"
      ]
     },
     "metadata": {},
     "output_type": "display_data"
    }
   ],
   "source": [
    "processed_wiki_text_data = process_documents(wiki_text_data.text.values, wiki_text_data.id.values)\n"
   ]
  },
  {
   "cell_type": "code",
   "execution_count": 22,
   "id": "cf4ed633",
   "metadata": {
    "execution": {
     "iopub.execute_input": "2023-09-18T23:16:11.465355Z",
     "iopub.status.busy": "2023-09-18T23:16:11.465004Z",
     "iopub.status.idle": "2023-09-18T23:16:44.939258Z",
     "shell.execute_reply": "2023-09-18T23:16:44.938201Z"
    },
    "papermill": {
     "duration": 33.496681,
     "end_time": "2023-09-18T23:16:44.941715",
     "exception": false,
     "start_time": "2023-09-18T23:16:11.445034",
     "status": "completed"
    },
    "tags": []
   },
   "outputs": [
    {
     "data": {
      "application/vnd.jupyter.widget-view+json": {
       "model_id": "7b4c8886b88d4fc08ecca85f2804edef",
       "version_major": 2,
       "version_minor": 0
      },
      "text/plain": [
       "Batches:   0%|          | 0/1991 [00:00<?, ?it/s]"
      ]
     },
     "metadata": {},
     "output_type": "display_data"
    }
   ],
   "source": [
    "wiki_data_embeddings = model.encode(processed_wiki_text_data.text,\n",
    "                                    batch_size=BATCH_SIZE,\n",
    "                                    device=DEVICE,\n",
    "                                    show_progress_bar=True,\n",
    "                                    convert_to_tensor=True,\n",
    "                                    normalize_embeddings=True)#.half()\n",
    "wiki_data_embeddings = wiki_data_embeddings.detach().cpu().numpy()"
   ]
  },
  {
   "cell_type": "code",
   "execution_count": 23,
   "id": "25949c5c",
   "metadata": {
    "execution": {
     "iopub.execute_input": "2023-09-18T23:16:44.983364Z",
     "iopub.status.busy": "2023-09-18T23:16:44.981780Z",
     "iopub.status.idle": "2023-09-18T23:16:45.329696Z",
     "shell.execute_reply": "2023-09-18T23:16:45.328621Z"
    },
    "papermill": {
     "duration": 0.370734,
     "end_time": "2023-09-18T23:16:45.332034",
     "exception": false,
     "start_time": "2023-09-18T23:16:44.961300",
     "status": "completed"
    },
    "tags": []
   },
   "outputs": [],
   "source": [
    "_ = gc.collect()\n"
   ]
  },
  {
   "cell_type": "code",
   "execution_count": 24,
   "id": "db64db0d",
   "metadata": {
    "execution": {
     "iopub.execute_input": "2023-09-18T23:16:45.373230Z",
     "iopub.status.busy": "2023-09-18T23:16:45.371741Z",
     "iopub.status.idle": "2023-09-18T23:16:45.720653Z",
     "shell.execute_reply": "2023-09-18T23:16:45.719661Z"
    },
    "papermill": {
     "duration": 0.371092,
     "end_time": "2023-09-18T23:16:45.722683",
     "exception": false,
     "start_time": "2023-09-18T23:16:45.351591",
     "status": "completed"
    },
    "tags": []
   },
   "outputs": [
    {
     "data": {
      "application/vnd.jupyter.widget-view+json": {
       "model_id": "7d8fb0cd662243e1b0d8a557c4affd46",
       "version_major": 2,
       "version_minor": 0
      },
      "text/plain": [
       "Batches:   0%|          | 0/7 [00:00<?, ?it/s]"
      ]
     },
     "metadata": {},
     "output_type": "display_data"
    }
   ],
   "source": [
    "question_embeddings = model.encode(trn.prompt_answer_stem.values, batch_size=BATCH_SIZE, device=DEVICE, show_progress_bar=True, convert_to_tensor=True, normalize_embeddings=True)\n",
    "question_embeddings = question_embeddings.detach().cpu().numpy()"
   ]
  },
  {
   "cell_type": "code",
   "execution_count": 25,
   "id": "3a45be2d",
   "metadata": {
    "execution": {
     "iopub.execute_input": "2023-09-18T23:16:45.763900Z",
     "iopub.status.busy": "2023-09-18T23:16:45.763004Z",
     "iopub.status.idle": "2023-09-18T23:16:49.912006Z",
     "shell.execute_reply": "2023-09-18T23:16:49.911217Z"
    },
    "papermill": {
     "duration": 4.171237,
     "end_time": "2023-09-18T23:16:49.913965",
     "exception": false,
     "start_time": "2023-09-18T23:16:45.742728",
     "status": "completed"
    },
    "tags": []
   },
   "outputs": [
    {
     "data": {
      "application/vnd.jupyter.widget-view+json": {
       "model_id": "8b40ca31b2bb487599f1b35da392fe08",
       "version_major": 2,
       "version_minor": 0
      },
      "text/plain": [
       "  0%|          | 0/200 [00:00<?, ?it/s]"
      ]
     },
     "metadata": {},
     "output_type": "display_data"
    }
   ],
   "source": [
    "## Parameter to determine how many relevant sentences to include\n",
    "NUM_SENTENCES_INCLUDE = 22\n",
    "\n",
    "## List containing just Context\n",
    "contexts = []\n",
    "\n",
    "for r in tqdm(trn.itertuples(), total=len(trn)):\n",
    "\n",
    "    prompt_id = r.Index\n",
    "\n",
    "    prompt_indices = processed_wiki_text_data[processed_wiki_text_data['document_id'].isin(wikipedia_file_data[wikipedia_file_data['prompt_id']==prompt_id]['id'].values)].index.values\n",
    "\n",
    "    if prompt_indices.shape[0] > 0:\n",
    "        prompt_index = faiss.index_factory(wiki_data_embeddings.shape[1], \"Flat\")\n",
    "        prompt_index.add(wiki_data_embeddings[prompt_indices])\n",
    "\n",
    "        context = \"\"\n",
    "        \n",
    "        ## Get the top matches\n",
    "        ss, ii = prompt_index.search(question_embeddings, NUM_SENTENCES_INCLUDE)\n",
    "        for _s, _i in zip(ss[prompt_id], ii[prompt_id]):\n",
    "            context += processed_wiki_text_data.loc[prompt_indices]['text'].iloc[_i] + \" \"\n",
    "        \n",
    "    contexts.append(context)"
   ]
  },
  {
   "cell_type": "code",
   "execution_count": 26,
   "id": "eccac4be",
   "metadata": {
    "execution": {
     "iopub.execute_input": "2023-09-18T23:16:49.956214Z",
     "iopub.status.busy": "2023-09-18T23:16:49.954479Z",
     "iopub.status.idle": "2023-09-18T23:16:49.960927Z",
     "shell.execute_reply": "2023-09-18T23:16:49.960068Z"
    },
    "papermill": {
     "duration": 0.028814,
     "end_time": "2023-09-18T23:16:49.962808",
     "exception": false,
     "start_time": "2023-09-18T23:16:49.933994",
     "status": "completed"
    },
    "tags": []
   },
   "outputs": [],
   "source": [
    "trn['context'] = contexts"
   ]
  },
  {
   "cell_type": "code",
   "execution_count": 27,
   "id": "db3187bb",
   "metadata": {
    "execution": {
     "iopub.execute_input": "2023-09-18T23:16:50.003500Z",
     "iopub.status.busy": "2023-09-18T23:16:50.003213Z",
     "iopub.status.idle": "2023-09-18T23:16:50.066954Z",
     "shell.execute_reply": "2023-09-18T23:16:50.066090Z"
    },
    "papermill": {
     "duration": 0.086314,
     "end_time": "2023-09-18T23:16:50.069164",
     "exception": false,
     "start_time": "2023-09-18T23:16:49.982850",
     "status": "completed"
    },
    "tags": []
   },
   "outputs": [],
   "source": [
    "trn[[\"prompt\", \"context\", \"A\", \"B\", \"C\", \"D\", \"E\"]].to_csv(\"./test_context.csv\", index=False)"
   ]
  },
  {
   "cell_type": "code",
   "execution_count": 28,
   "id": "4e929ab0",
   "metadata": {
    "execution": {
     "iopub.execute_input": "2023-09-18T23:16:50.110717Z",
     "iopub.status.busy": "2023-09-18T23:16:50.109185Z",
     "iopub.status.idle": "2023-09-18T23:16:50.471135Z",
     "shell.execute_reply": "2023-09-18T23:16:50.470138Z"
    },
    "papermill": {
     "duration": 0.384778,
     "end_time": "2023-09-18T23:16:50.473535",
     "exception": false,
     "start_time": "2023-09-18T23:16:50.088757",
     "status": "completed"
    },
    "tags": []
   },
   "outputs": [],
   "source": [
    "del model\n",
    "del wiki_data_embeddings\n",
    "del question_embeddings\n",
    "del contexts\n",
    "\n",
    "gc.collect()\n",
    "torch.cuda.empty_cache()"
   ]
  },
  {
   "cell_type": "code",
   "execution_count": 29,
   "id": "d3a5c1f1",
   "metadata": {
    "execution": {
     "iopub.execute_input": "2023-09-18T23:16:50.514784Z",
     "iopub.status.busy": "2023-09-18T23:16:50.514446Z",
     "iopub.status.idle": "2023-09-18T23:16:50.844622Z",
     "shell.execute_reply": "2023-09-18T23:16:50.843494Z"
    },
    "papermill": {
     "duration": 0.353167,
     "end_time": "2023-09-18T23:16:50.846823",
     "exception": false,
     "start_time": "2023-09-18T23:16:50.493656",
     "status": "completed"
    },
    "tags": []
   },
   "outputs": [],
   "source": [
    "gc.collect()\n",
    "torch.cuda.empty_cache()"
   ]
  },
  {
   "cell_type": "markdown",
   "id": "e0e6b7ac",
   "metadata": {
    "papermill": {
     "duration": 0.019538,
     "end_time": "2023-09-18T23:16:50.889306",
     "exception": false,
     "start_time": "2023-09-18T23:16:50.869768",
     "status": "completed"
    },
    "tags": []
   },
   "source": [
    "## Load data back"
   ]
  },
  {
   "cell_type": "code",
   "execution_count": 30,
   "id": "d31914f4",
   "metadata": {
    "execution": {
     "iopub.execute_input": "2023-09-18T23:16:50.929991Z",
     "iopub.status.busy": "2023-09-18T23:16:50.929672Z",
     "iopub.status.idle": "2023-09-18T23:16:50.956382Z",
     "shell.execute_reply": "2023-09-18T23:16:50.955505Z"
    },
    "papermill": {
     "duration": 0.049553,
     "end_time": "2023-09-18T23:16:50.958543",
     "exception": false,
     "start_time": "2023-09-18T23:16:50.908990",
     "status": "completed"
    },
    "tags": []
   },
   "outputs": [],
   "source": [
    "test_df = pd.read_csv(\"test_context.csv\")\n",
    "test_df.index = list(range(len(test_df)))\n",
    "test_df['id'] = list(range(len(test_df)))\n",
    "test_df[\"prompt\"] = test_df[\"context\"].apply(lambda x: x[:1500]) + \" #### \" +  test_df[\"prompt\"]\n",
    "test_df['answer'] = 'A'"
   ]
  },
  {
   "cell_type": "markdown",
   "id": "fc53ec80",
   "metadata": {
    "papermill": {
     "duration": 0.019397,
     "end_time": "2023-09-18T23:16:50.997923",
     "exception": false,
     "start_time": "2023-09-18T23:16:50.978526",
     "status": "completed"
    },
    "tags": []
   },
   "source": [
    "## Llama Inference"
   ]
  },
  {
   "cell_type": "code",
   "execution_count": 31,
   "id": "6c17b009",
   "metadata": {
    "execution": {
     "iopub.execute_input": "2023-09-18T23:16:51.038757Z",
     "iopub.status.busy": "2023-09-18T23:16:51.038447Z",
     "iopub.status.idle": "2023-09-18T23:16:51.043366Z",
     "shell.execute_reply": "2023-09-18T23:16:51.042505Z"
    },
    "papermill": {
     "duration": 0.027992,
     "end_time": "2023-09-18T23:16:51.045495",
     "exception": false,
     "start_time": "2023-09-18T23:16:51.017503",
     "status": "completed"
    },
    "tags": []
   },
   "outputs": [],
   "source": [
    "class CFG:\n",
    "    base_model = \"/kaggle/input/llama2-7b-hf/Llama2-7b-hf\"\n",
    "    seed = 42"
   ]
  },
  {
   "cell_type": "code",
   "execution_count": 32,
   "id": "8ecae0cb",
   "metadata": {
    "execution": {
     "iopub.execute_input": "2023-09-18T23:16:51.086562Z",
     "iopub.status.busy": "2023-09-18T23:16:51.085665Z",
     "iopub.status.idle": "2023-09-18T23:16:51.094788Z",
     "shell.execute_reply": "2023-09-18T23:16:51.093932Z"
    },
    "papermill": {
     "duration": 0.031541,
     "end_time": "2023-09-18T23:16:51.096741",
     "exception": false,
     "start_time": "2023-09-18T23:16:51.065200",
     "status": "completed"
    },
    "tags": []
   },
   "outputs": [],
   "source": [
    "def set_seed(seed = int):\n",
    "    '''Sets the seed of the entire notebook so results are the same every time we run.\n",
    "    This is for REPRODUCIBILITY.'''\n",
    "    np.random.seed(seed)\n",
    "    random_state = np.random.RandomState(seed)\n",
    "    random.seed(seed)\n",
    "    torch.manual_seed(seed)\n",
    "    torch.cuda.manual_seed(seed)\n",
    "    torch.backends.cudnn.deterministic = True\n",
    "    torch.backends.cudnn.benchmark = False\n",
    "    os.environ['PYTHONHASHSEED'] = str(seed)\n",
    "    return random_state\n",
    "\n",
    "\n",
    "random_state = set_seed(CFG.seed)"
   ]
  },
  {
   "cell_type": "code",
   "execution_count": 33,
   "id": "e674187a",
   "metadata": {
    "execution": {
     "iopub.execute_input": "2023-09-18T23:16:51.138060Z",
     "iopub.status.busy": "2023-09-18T23:16:51.137266Z",
     "iopub.status.idle": "2023-09-18T23:16:51.287847Z",
     "shell.execute_reply": "2023-09-18T23:16:51.286805Z"
    },
    "papermill": {
     "duration": 0.173955,
     "end_time": "2023-09-18T23:16:51.290363",
     "exception": false,
     "start_time": "2023-09-18T23:16:51.116408",
     "status": "completed"
    },
    "tags": []
   },
   "outputs": [],
   "source": [
    "# load the tokenizer\n",
    "tokenizer = AutoTokenizer.from_pretrained(CFG.base_model, trust_remote_code=True)\n",
    "tokenizer.pad_token = tokenizer.eos_token"
   ]
  },
  {
   "cell_type": "code",
   "execution_count": 34,
   "id": "ad61f2bd",
   "metadata": {
    "execution": {
     "iopub.execute_input": "2023-09-18T23:16:51.334278Z",
     "iopub.status.busy": "2023-09-18T23:16:51.332514Z",
     "iopub.status.idle": "2023-09-18T23:16:51.344278Z",
     "shell.execute_reply": "2023-09-18T23:16:51.343404Z"
    },
    "papermill": {
     "duration": 0.035252,
     "end_time": "2023-09-18T23:16:51.346215",
     "exception": false,
     "start_time": "2023-09-18T23:16:51.310963",
     "status": "completed"
    },
    "tags": []
   },
   "outputs": [],
   "source": [
    "class LlmseDataset(torch.utils.data.Dataset):\n",
    "    def __init__(self, df, is_train=False, aug_prob=0.8):\n",
    "        self.df = df\n",
    "        self.is_train = is_train\n",
    "        self.aug_prob = aug_prob\n",
    "        self.option_to_index = {option: idx for idx, option in enumerate('ABCDE')}\n",
    "\n",
    "    def __len__(self):\n",
    "        return len(self.df)\n",
    "\n",
    "    def __getitem__(self, idx):\n",
    "        example = self.df.iloc[idx]\n",
    "\n",
    "        first_sentence = [example['prompt']] * 5\n",
    "        second_sentences = [example[option] for option in 'ABCDE']\n",
    "        if len(example['prompt']) >= 2299:\n",
    "            # Tokenize prompt with truncation\n",
    "            tokenized_prompt = tokenizer(\n",
    "                [example['prompt']],\n",
    "                truncation=True,\n",
    "                max_length=556,  \n",
    "                return_tensors=\"pt\",\n",
    "                padding=True,\n",
    "            )\n",
    "        else:\n",
    "            tokenized_prompt = tokenizer(\n",
    "                [example['prompt']],\n",
    "                #truncation=True,\n",
    "                #max_length=556,  \n",
    "                return_tensors=\"pt\",\n",
    "            )\n",
    "\n",
    "        # Tokenizing all options together:\n",
    "        second_sentences = [example[option] for option in 'ABCDE']\n",
    "        tokenized_options = tokenizer(second_sentences, truncation=True, padding=True, return_tensors=\"pt\")\n",
    "\n",
    "        # Cat them with the prompt tokens one by one:\n",
    "        tokenized_example = {}\n",
    "        for key in tokenized_prompt.keys():\n",
    "            # Here we assume the last dimension is the token dimension\n",
    "            prompt_tokens = tokenized_prompt[key]\n",
    "            tokenized_example[key] = torch.cat([torch.cat((prompt_tokens, tokenized_options[key][option_idx][None, :]), dim=-1) for option_idx in range(5)], dim=0)\n",
    "        \n",
    "        tokenized_example['label'] = self.option_to_index[example['answer']]\n",
    "        return tokenized_example"
   ]
  },
  {
   "cell_type": "code",
   "execution_count": 35,
   "id": "76fd7150",
   "metadata": {
    "execution": {
     "iopub.execute_input": "2023-09-18T23:16:51.387772Z",
     "iopub.status.busy": "2023-09-18T23:16:51.386977Z",
     "iopub.status.idle": "2023-09-18T23:16:52.063410Z",
     "shell.execute_reply": "2023-09-18T23:16:52.062487Z"
    },
    "papermill": {
     "duration": 0.699423,
     "end_time": "2023-09-18T23:16:52.065616",
     "exception": false,
     "start_time": "2023-09-18T23:16:51.366193",
     "status": "completed"
    },
    "tags": []
   },
   "outputs": [
    {
     "name": "stderr",
     "output_type": "stream",
     "text": [
      "Asking to truncate to max_length but no maximum length is provided and the model has no predefined maximum length. Default to no truncation.\n"
     ]
    },
    {
     "data": {
      "text/plain": [
       "657"
      ]
     },
     "execution_count": 35,
     "metadata": {},
     "output_type": "execute_result"
    }
   ],
   "source": [
    "val_ds = LlmseDataset(test_df, is_train=False)\n",
    "\n",
    "def convert_to_feats(ds):\n",
    "    return [ds[i] for i in range(len(ds))]\n",
    "\n",
    "val_features = convert_to_feats(val_ds)\n",
    "\n",
    "# train_dataset = Dataset.from_dict({k: [dic[k] for dic in train_features] for k in train_features[0]})\n",
    "test_dataset = Dataset.from_dict({k: [dic[k] for dic in val_features] for k in val_features[0]})\n",
    "len(val_ds[28]['input_ids'][0])"
   ]
  },
  {
   "cell_type": "code",
   "execution_count": 36,
   "id": "b9eb3dde",
   "metadata": {
    "execution": {
     "iopub.execute_input": "2023-09-18T23:16:52.108299Z",
     "iopub.status.busy": "2023-09-18T23:16:52.107475Z",
     "iopub.status.idle": "2023-09-18T23:16:52.117292Z",
     "shell.execute_reply": "2023-09-18T23:16:52.116408Z"
    },
    "papermill": {
     "duration": 0.033054,
     "end_time": "2023-09-18T23:16:52.119328",
     "exception": false,
     "start_time": "2023-09-18T23:16:52.086274",
     "status": "completed"
    },
    "tags": []
   },
   "outputs": [],
   "source": [
    "@dataclass\n",
    "class DataCollatorForMultipleChoice:\n",
    "    tokenizer: PreTrainedTokenizerBase\n",
    "    padding: Union[bool, str, PaddingStrategy] = True\n",
    "    max_length: Optional[int] = None\n",
    "    pad_to_multiple_of: Optional[int] = None\n",
    "\n",
    "    def __call__(self, features):\n",
    "        label_name = 'label' if 'label' in features[0].keys() else 'labels'\n",
    "        labels = [feature.pop(label_name) for feature in features]\n",
    "        batch_size = len(features)\n",
    "        num_choices = len(features[0]['input_ids'])\n",
    "        flattened_features = [\n",
    "            [{k: v[i] for k, v in feature.items()} for i in range(num_choices)] for feature in features\n",
    "        ]\n",
    "        flattened_features = sum(flattened_features, [])\n",
    "\n",
    "        batch = self.tokenizer.pad(\n",
    "            flattened_features,\n",
    "            padding=self.padding,\n",
    "            max_length=self.max_length,\n",
    "            pad_to_multiple_of=self.pad_to_multiple_of,\n",
    "            return_tensors='pt',\n",
    "        )\n",
    "        batch = {k: v.view(batch_size, num_choices, -1) for k, v in batch.items()}\n",
    "        batch['labels'] = torch.tensor(labels, dtype=torch.int64)\n",
    "        return batch"
   ]
  },
  {
   "cell_type": "code",
   "execution_count": 37,
   "id": "3e00caa4",
   "metadata": {
    "execution": {
     "iopub.execute_input": "2023-09-18T23:16:52.161486Z",
     "iopub.status.busy": "2023-09-18T23:16:52.160688Z",
     "iopub.status.idle": "2023-09-18T23:16:52.173251Z",
     "shell.execute_reply": "2023-09-18T23:16:52.172393Z"
    },
    "papermill": {
     "duration": 0.035813,
     "end_time": "2023-09-18T23:16:52.175238",
     "exception": false,
     "start_time": "2023-09-18T23:16:52.139425",
     "status": "completed"
    },
    "tags": []
   },
   "outputs": [],
   "source": [
    "llama_model = prepare_model_for_kbit_training(llama_model)\n",
    "# llama_model"
   ]
  },
  {
   "cell_type": "code",
   "execution_count": 38,
   "id": "405e654d",
   "metadata": {
    "execution": {
     "iopub.execute_input": "2023-09-18T23:16:52.217182Z",
     "iopub.status.busy": "2023-09-18T23:16:52.216910Z",
     "iopub.status.idle": "2023-09-18T23:16:52.233779Z",
     "shell.execute_reply": "2023-09-18T23:16:52.232880Z"
    },
    "papermill": {
     "duration": 0.040265,
     "end_time": "2023-09-18T23:16:52.235698",
     "exception": false,
     "start_time": "2023-09-18T23:16:52.195433",
     "status": "completed"
    },
    "tags": []
   },
   "outputs": [],
   "source": [
    "from transformers.modeling_outputs import SequenceClassifierOutput\n",
    "\n",
    "def get_dropouts(num: int, start_prob: float, increment: float):\n",
    "    return [nn.Dropout(start_prob + (increment * i)) for i in range(num)]\n",
    "\n",
    "class MeanPooling(nn.Module):\n",
    "    def __init__(self):\n",
    "        super(MeanPooling, self).__init__()\n",
    "\n",
    "    def forward(self, last_hidden_state, attention_mask):\n",
    "        input_mask_expanded = attention_mask.unsqueeze(-1).expand(last_hidden_state.size()).float()\n",
    "        sum_embeddings = torch.sum(last_hidden_state * input_mask_expanded, 1)\n",
    "        sum_mask = input_mask_expanded.sum(1)\n",
    "        sum_mask = torch.clamp(sum_mask, min=1e-9)\n",
    "        mean_embeddings = sum_embeddings / sum_mask\n",
    "        return mean_embeddings\n",
    "\n",
    "\n",
    "class CustomLlamaModel(nn.Module):\n",
    "    def __init__(self, backbone, num_labels):\n",
    "        super(CustomLlamaModel, self).__init__()\n",
    "        # Using Huggingface automodel as base model\n",
    "        self.model = backbone\n",
    "        self.model.config.use_cache = False\n",
    "        self.config = self.model.config\n",
    "        self.num_labels = num_labels\n",
    "\n",
    "        # self.pooler = ContextPooler(self.config)\n",
    "        self.pooler = MeanPooling()\n",
    "        self.dense = nn.Linear(self.config.hidden_size, 1024)\n",
    "\n",
    "        # self.dropouts = get_dropouts(num=5, start_prob=config.hidden_dropout_prob - 0.02, increment=0.01)\n",
    "        self.dropout = nn.Dropout(0.2)\n",
    "        self.classifier = nn.Linear(self.config.hidden_size, 1, bias=False)\n",
    "\n",
    "\n",
    "    def forward(self, input_ids, attention_mask, token_type_ids=None, position_ids=None, head_mask=None,\n",
    "                inputs_embeds=None, labels=None):\n",
    "        num_choices = input_ids.shape[1] if input_ids is not None else inputs_embeds.shape[1]\n",
    "        batch_size = input_ids.shape[0] if input_ids is not None else inputs_embeds.shape[0]\n",
    "\n",
    "        flat_input_ids = input_ids.view(-1, input_ids.size(-1)) if input_ids is not None else None\n",
    "        flat_position_ids = position_ids.view(-1, position_ids.size(-1)) if position_ids is not None else None\n",
    "        flat_token_type_ids = token_type_ids.view(-1, token_type_ids.size(-1)) if token_type_ids is not None else None\n",
    "        flat_attention_mask = attention_mask.view(-1, attention_mask.size(-1)) if attention_mask is not None else None\n",
    "        flat_inputs_embeds = (\n",
    "            inputs_embeds.view(-1, inputs_embeds.size(-2), inputs_embeds.size(-1))\n",
    "            if inputs_embeds is not None\n",
    "            else None\n",
    "        )\n",
    "\n",
    "        outputs = self.model.model(input_ids=flat_input_ids, attention_mask=flat_attention_mask, output_attentions=False,\n",
    "            output_hidden_states=True)\n",
    "\n",
    "        last_hidden_state = outputs[1][-1]\n",
    "\n",
    "        x = self.pooler(last_hidden_state, flat_attention_mask)\n",
    "        x = self.dropout(x)\n",
    "        logits = self.classifier(x)\n",
    "        reshaped_logits = logits.view(batch_size, num_choices)\n",
    "\n",
    "        loss = None\n",
    "        if labels is not None:\n",
    "            loss_fct = nn.CrossEntropyLoss()\n",
    "            loss = loss_fct(reshaped_logits, labels)\n",
    "\n",
    "        if self.model.config.output_attentions:\n",
    "            attentions = outputs.attentions\n",
    "        else:\n",
    "            attentions = None\n",
    "\n",
    "        if self.model.config.output_hidden_states:\n",
    "            hidden_states = outputs.hidden_states\n",
    "        else:\n",
    "            hidden_states = None\n",
    "\n",
    "        return SequenceClassifierOutput(\n",
    "            loss=loss,\n",
    "            logits=reshaped_logits,\n",
    "            hidden_states=hidden_states,\n",
    "            attentions=attentions,\n",
    "        )"
   ]
  },
  {
   "cell_type": "code",
   "execution_count": 39,
   "id": "e44b38dc",
   "metadata": {
    "execution": {
     "iopub.execute_input": "2023-09-18T23:16:52.278025Z",
     "iopub.status.busy": "2023-09-18T23:16:52.277245Z",
     "iopub.status.idle": "2023-09-18T23:17:48.155279Z",
     "shell.execute_reply": "2023-09-18T23:17:48.154222Z"
    },
    "papermill": {
     "duration": 55.902048,
     "end_time": "2023-09-18T23:17:48.157892",
     "exception": false,
     "start_time": "2023-09-18T23:16:52.255844",
     "status": "completed"
    },
    "tags": []
   },
   "outputs": [],
   "source": [
    "peft_config = LoraConfig(\n",
    "    r=12,\n",
    "    lora_alpha=4,  # parameter for scaling\n",
    "    target_modules=['up_proj', 'o_proj', 'q_proj', 'k_proj', 'v_proj', 'gate_proj', 'down_proj'],\n",
    "    lora_dropout=0.1,  # dropout probability for layers\n",
    "    bias=\"none\",\n",
    "    task_type=TaskType.SEQ_CLS,\n",
    "    inference_mode=False,\n",
    ")\n",
    "\n",
    "model = get_peft_model(llama_model, peft_config)"
   ]
  },
  {
   "cell_type": "code",
   "execution_count": 40,
   "id": "f08ef130",
   "metadata": {
    "execution": {
     "iopub.execute_input": "2023-09-18T23:17:48.203810Z",
     "iopub.status.busy": "2023-09-18T23:17:48.201886Z",
     "iopub.status.idle": "2023-09-18T23:18:13.273393Z",
     "shell.execute_reply": "2023-09-18T23:18:13.272463Z"
    },
    "papermill": {
     "duration": 25.096566,
     "end_time": "2023-09-18T23:18:13.275707",
     "exception": false,
     "start_time": "2023-09-18T23:17:48.179141",
     "status": "completed"
    },
    "tags": []
   },
   "outputs": [
    {
     "data": {
      "text/plain": [
       "<All keys matched successfully>"
      ]
     },
     "execution_count": 40,
     "metadata": {},
     "output_type": "execute_result"
    }
   ],
   "source": [
    "custom_llama = CustomLlamaModel(model, 5)\n",
    "# Load the model\n",
    "\n",
    "state_dict = torch.load(\"/kaggle/input/llama-fine-tuned-context-v2/pytorch_model.bin\")\n",
    "custom_llama.load_state_dict(state_dict, strict=False)"
   ]
  },
  {
   "cell_type": "code",
   "execution_count": 41,
   "id": "49604340",
   "metadata": {
    "execution": {
     "iopub.execute_input": "2023-09-18T23:18:13.319009Z",
     "iopub.status.busy": "2023-09-18T23:18:13.318711Z",
     "iopub.status.idle": "2023-09-18T23:18:13.863380Z",
     "shell.execute_reply": "2023-09-18T23:18:13.862356Z"
    },
    "papermill": {
     "duration": 0.568956,
     "end_time": "2023-09-18T23:18:13.865873",
     "exception": false,
     "start_time": "2023-09-18T23:18:13.296917",
     "status": "completed"
    },
    "tags": []
   },
   "outputs": [],
   "source": [
    "del state_dict\n",
    "del llama_model\n",
    "\n",
    "gc.collect()\n",
    "torch.cuda.empty_cache()"
   ]
  },
  {
   "cell_type": "code",
   "execution_count": 42,
   "id": "17c1a52f",
   "metadata": {
    "execution": {
     "iopub.execute_input": "2023-09-18T23:18:13.909077Z",
     "iopub.status.busy": "2023-09-18T23:18:13.908774Z",
     "iopub.status.idle": "2023-09-18T23:18:13.912930Z",
     "shell.execute_reply": "2023-09-18T23:18:13.911951Z"
    },
    "papermill": {
     "duration": 0.027811,
     "end_time": "2023-09-18T23:18:13.914863",
     "exception": false,
     "start_time": "2023-09-18T23:18:13.887052",
     "status": "completed"
    },
    "tags": []
   },
   "outputs": [],
   "source": [
    "# import torch.quantization as tq\n",
    "\n",
    "# custom_llama = tq.quantize_dynamic(custom_llama, {torch.nn.Linear}, dtype=torch.qint8)"
   ]
  },
  {
   "cell_type": "code",
   "execution_count": 43,
   "id": "edde3b7f",
   "metadata": {
    "execution": {
     "iopub.execute_input": "2023-09-18T23:18:13.962270Z",
     "iopub.status.busy": "2023-09-18T23:18:13.961999Z",
     "iopub.status.idle": "2023-09-18T23:18:13.973590Z",
     "shell.execute_reply": "2023-09-18T23:18:13.972727Z"
    },
    "papermill": {
     "duration": 0.035536,
     "end_time": "2023-09-18T23:18:13.975716",
     "exception": false,
     "start_time": "2023-09-18T23:18:13.940180",
     "status": "completed"
    },
    "tags": []
   },
   "outputs": [],
   "source": [
    "def apk(actual, predicted, k=5):\n",
    "    \"\"\"\n",
    "    Computes the average precision at k.\n",
    "    This function computes the average prescision at k between two lists of\n",
    "    items.\n",
    "    Parameters\n",
    "    ----------\n",
    "    actual : list\n",
    "             A list of elements that are to be predicted (order doesn't matter)\n",
    "    predicted : list\n",
    "                A list of predicted elements (order does matter)\n",
    "    k : int, optional\n",
    "        The maximum number of predicted elements\n",
    "    Returns\n",
    "    -------\n",
    "    score : double\n",
    "            The average precision at k over the input lists\n",
    "    \"\"\"\n",
    "\n",
    "    # requires all elements are unique\n",
    "    assert (len(np.unique(predicted)) == len(predicted))\n",
    "\n",
    "    if len(predicted)>k:\n",
    "        predicted = predicted[:k]\n",
    "\n",
    "    score = 0.0\n",
    "    num_hits = 0.0\n",
    "\n",
    "    for i,p in enumerate(predicted):\n",
    "        # first condition checks whether it is valid prediction\n",
    "        # second condition checks if prediction is not repeated\n",
    "        if p in actual and p not in predicted[:i]:\n",
    "            num_hits += 1.0\n",
    "            score += num_hits / (i + 1.0)\n",
    "\n",
    "    return score / min(len(actual), k)\n",
    "\n",
    "def mapk(actual, predicted, k=5):\n",
    "\n",
    "    \"\"\"\n",
    "    Computes the mean average precision at k.\n",
    "    This function computes the mean average prescision at k between two lists\n",
    "    of lists of items.\n",
    "    Parameters\n",
    "    ----------\n",
    "    actual : list\n",
    "             A list of lists of elements that are to be predicted\n",
    "             (order doesn't matter in the lists)\n",
    "    predicted : list\n",
    "                A list of lists of predicted elements\n",
    "                (order matters in the lists)\n",
    "    k : int, optional\n",
    "        The maximum number of predicted elements\n",
    "    Returns\n",
    "    -------\n",
    "    score : double\n",
    "            The mean average precision at k over the input lists\n",
    "    \"\"\"\n",
    "    return np.mean([apk(a,p,k) for a,p in zip(actual, predicted)])\n",
    "\n",
    "from sklearn.metrics import top_k_accuracy_score\n",
    "def metrics4trainer(pred):\n",
    "    pred_logits = pred.predictions\n",
    "    true_labels = pred.label_ids\n",
    "    top1 = top_k_accuracy_score(true_labels, pred_logits, k=1)\n",
    "    top3 = top_k_accuracy_score(true_labels, pred_logits, k=3)\n",
    "    pred_args = np.argsort(-pred_logits)\n",
    "    map3 = mapk(true_labels.reshape(-1, 1), pred_args.reshape(-1, 5), k=3)\n",
    "    return {\"top1\": top1, \"top3\": top3, \"map3\":map3}"
   ]
  },
  {
   "cell_type": "code",
   "execution_count": 44,
   "id": "0689394b",
   "metadata": {
    "execution": {
     "iopub.execute_input": "2023-09-18T23:18:14.018330Z",
     "iopub.status.busy": "2023-09-18T23:18:14.018019Z",
     "iopub.status.idle": "2023-09-18T23:18:14.025275Z",
     "shell.execute_reply": "2023-09-18T23:18:14.024356Z"
    },
    "papermill": {
     "duration": 0.030947,
     "end_time": "2023-09-18T23:18:14.027342",
     "exception": false,
     "start_time": "2023-09-18T23:18:13.996395",
     "status": "completed"
    },
    "tags": []
   },
   "outputs": [],
   "source": [
    "training_args = TrainingArguments(\n",
    "    output_dir='op',\n",
    "    overwrite_output_dir = True,\n",
    "    per_device_eval_batch_size=1,\n",
    "    remove_unused_columns=False,\n",
    "    logging_steps=40,\n",
    "    eval_steps=40,\n",
    "    save_steps=40,\n",
    "    evaluation_strategy='steps',\n",
    "    fp16=True,\n",
    "    bf16=False,\n",
    "    report_to=\"none\",\n",
    "    metric_for_best_model='map3',\n",
    "    seed=42,\n",
    "#     fsdp=True\n",
    ")"
   ]
  },
  {
   "cell_type": "code",
   "execution_count": 45,
   "id": "957e73b0",
   "metadata": {
    "execution": {
     "iopub.execute_input": "2023-09-18T23:18:14.070021Z",
     "iopub.status.busy": "2023-09-18T23:18:14.069746Z",
     "iopub.status.idle": "2023-09-18T23:18:14.103033Z",
     "shell.execute_reply": "2023-09-18T23:18:14.102150Z"
    },
    "papermill": {
     "duration": 0.057259,
     "end_time": "2023-09-18T23:18:14.105372",
     "exception": false,
     "start_time": "2023-09-18T23:18:14.048113",
     "status": "completed"
    },
    "tags": []
   },
   "outputs": [],
   "source": [
    "trainer = Trainer(\n",
    "    model=custom_llama,\n",
    "    tokenizer=tokenizer,\n",
    "    args=training_args,\n",
    "    data_collator=DataCollatorForMultipleChoice(tokenizer=tokenizer),\n",
    "    eval_dataset=test_dataset,\n",
    "    train_dataset=test_dataset,\n",
    "#     is_model_parallel=True\n",
    "    )"
   ]
  },
  {
   "cell_type": "code",
   "execution_count": 46,
   "id": "62f7d4c9",
   "metadata": {
    "execution": {
     "iopub.execute_input": "2023-09-18T23:18:14.148088Z",
     "iopub.status.busy": "2023-09-18T23:18:14.147814Z",
     "iopub.status.idle": "2023-09-18T23:32:26.493786Z",
     "shell.execute_reply": "2023-09-18T23:32:26.492847Z"
    },
    "papermill": {
     "duration": 852.369634,
     "end_time": "2023-09-18T23:32:26.495868",
     "exception": false,
     "start_time": "2023-09-18T23:18:14.126234",
     "status": "completed"
    },
    "tags": []
   },
   "outputs": [
    {
     "name": "stderr",
     "output_type": "stream",
     "text": [
      "You're using a LlamaTokenizerFast tokenizer. Please note that with a fast tokenizer, using the `__call__` method is faster than using a method to encode the text followed by a call to the `pad` method to get a padded encoding.\n"
     ]
    },
    {
     "data": {
      "text/html": [],
      "text/plain": [
       "<IPython.core.display.HTML object>"
      ]
     },
     "metadata": {},
     "output_type": "display_data"
    }
   ],
   "source": [
    "outputs = trainer.predict(test_dataset)\n",
    "llama_softmax_outputs = softmax(outputs.predictions, axis=1)"
   ]
  },
  {
   "cell_type": "code",
   "execution_count": 47,
   "id": "cb578592",
   "metadata": {
    "execution": {
     "iopub.execute_input": "2023-09-18T23:32:26.540662Z",
     "iopub.status.busy": "2023-09-18T23:32:26.539837Z",
     "iopub.status.idle": "2023-09-18T23:32:27.231007Z",
     "shell.execute_reply": "2023-09-18T23:32:27.229984Z"
    },
    "papermill": {
     "duration": 0.716024,
     "end_time": "2023-09-18T23:32:27.233642",
     "exception": false,
     "start_time": "2023-09-18T23:32:26.517618",
     "status": "completed"
    },
    "tags": []
   },
   "outputs": [],
   "source": [
    "del trainer\n",
    "del custom_llama\n",
    "del model\n",
    "del test_dataset\n",
    "del val_ds\n",
    "# del state_dict\n",
    "# del llama_model\n",
    "\n",
    "gc.collect()\n",
    "torch.cuda.empty_cache()"
   ]
  },
  {
   "cell_type": "code",
   "execution_count": 48,
   "id": "c7760cd6",
   "metadata": {
    "execution": {
     "iopub.execute_input": "2023-09-18T23:32:27.278311Z",
     "iopub.status.busy": "2023-09-18T23:32:27.277986Z",
     "iopub.status.idle": "2023-09-18T23:32:27.654399Z",
     "shell.execute_reply": "2023-09-18T23:32:27.653208Z"
    },
    "papermill": {
     "duration": 0.402807,
     "end_time": "2023-09-18T23:32:27.658104",
     "exception": false,
     "start_time": "2023-09-18T23:32:27.255297",
     "status": "completed"
    },
    "tags": []
   },
   "outputs": [],
   "source": [
    "gc.collect()\n",
    "torch.cuda.empty_cache()"
   ]
  },
  {
   "cell_type": "markdown",
   "id": "8eb00f9a",
   "metadata": {
    "papermill": {
     "duration": 0.021508,
     "end_time": "2023-09-18T23:32:27.707159",
     "exception": false,
     "start_time": "2023-09-18T23:32:27.685651",
     "status": "completed"
    },
    "tags": []
   },
   "source": [
    "## Deberta Inference"
   ]
  },
  {
   "cell_type": "code",
   "execution_count": 49,
   "id": "5f7abe6f",
   "metadata": {
    "execution": {
     "iopub.execute_input": "2023-09-18T23:32:27.751568Z",
     "iopub.status.busy": "2023-09-18T23:32:27.751220Z",
     "iopub.status.idle": "2023-09-18T23:32:27.776547Z",
     "shell.execute_reply": "2023-09-18T23:32:27.775657Z"
    },
    "papermill": {
     "duration": 0.050238,
     "end_time": "2023-09-18T23:32:27.778551",
     "exception": false,
     "start_time": "2023-09-18T23:32:27.728313",
     "status": "completed"
    },
    "tags": []
   },
   "outputs": [],
   "source": [
    "test_df = pd.read_csv(\"test_context.csv\")\n",
    "test_df.index = list(range(len(test_df)))\n",
    "test_df['id'] = list(range(len(test_df)))\n",
    "test_df[\"prompt\"] = test_df[\"context\"].apply(lambda x: x[:2100]) + \" #### \" +  test_df[\"prompt\"]\n",
    "test_df['answer'] = 'A'"
   ]
  },
  {
   "cell_type": "code",
   "execution_count": 50,
   "id": "abd1d022",
   "metadata": {
    "execution": {
     "iopub.execute_input": "2023-09-18T23:32:27.827015Z",
     "iopub.status.busy": "2023-09-18T23:32:27.826214Z",
     "iopub.status.idle": "2023-09-18T23:32:46.901382Z",
     "shell.execute_reply": "2023-09-18T23:32:46.900414Z"
    },
    "papermill": {
     "duration": 19.103735,
     "end_time": "2023-09-18T23:32:46.903804",
     "exception": false,
     "start_time": "2023-09-18T23:32:27.800069",
     "status": "completed"
    },
    "tags": []
   },
   "outputs": [
    {
     "data": {
      "text/plain": [
       "DebertaV2ForMultipleChoice(\n",
       "  (deberta): DebertaV2Model(\n",
       "    (embeddings): DebertaV2Embeddings(\n",
       "      (word_embeddings): Embedding(128100, 1024, padding_idx=0)\n",
       "      (LayerNorm): LayerNorm((1024,), eps=1e-07, elementwise_affine=True)\n",
       "      (dropout): StableDropout()\n",
       "    )\n",
       "    (encoder): DebertaV2Encoder(\n",
       "      (layer): ModuleList(\n",
       "        (0-23): 24 x DebertaV2Layer(\n",
       "          (attention): DebertaV2Attention(\n",
       "            (self): DisentangledSelfAttention(\n",
       "              (query_proj): Linear(in_features=1024, out_features=1024, bias=True)\n",
       "              (key_proj): Linear(in_features=1024, out_features=1024, bias=True)\n",
       "              (value_proj): Linear(in_features=1024, out_features=1024, bias=True)\n",
       "              (pos_dropout): StableDropout()\n",
       "              (dropout): StableDropout()\n",
       "            )\n",
       "            (output): DebertaV2SelfOutput(\n",
       "              (dense): Linear(in_features=1024, out_features=1024, bias=True)\n",
       "              (LayerNorm): LayerNorm((1024,), eps=1e-07, elementwise_affine=True)\n",
       "              (dropout): StableDropout()\n",
       "            )\n",
       "          )\n",
       "          (intermediate): DebertaV2Intermediate(\n",
       "            (dense): Linear(in_features=1024, out_features=4096, bias=True)\n",
       "            (intermediate_act_fn): GELUActivation()\n",
       "          )\n",
       "          (output): DebertaV2Output(\n",
       "            (dense): Linear(in_features=4096, out_features=1024, bias=True)\n",
       "            (LayerNorm): LayerNorm((1024,), eps=1e-07, elementwise_affine=True)\n",
       "            (dropout): StableDropout()\n",
       "          )\n",
       "        )\n",
       "      )\n",
       "      (rel_embeddings): Embedding(512, 1024)\n",
       "      (LayerNorm): LayerNorm((1024,), eps=1e-07, elementwise_affine=True)\n",
       "    )\n",
       "  )\n",
       "  (pooler): ContextPooler(\n",
       "    (dense): Linear(in_features=1024, out_features=1024, bias=True)\n",
       "    (dropout): StableDropout()\n",
       "  )\n",
       "  (classifier): Linear(in_features=1024, out_features=1, bias=True)\n",
       "  (dropout): StableDropout()\n",
       ")"
      ]
     },
     "execution_count": 50,
     "metadata": {},
     "output_type": "execute_result"
    }
   ],
   "source": [
    "model_dir = \"/kaggle/input/open-book-model/checkpoints_0.94583/checkpoints_0.94583/checkpoint-925\"\n",
    "tokenizer = AutoTokenizer.from_pretrained(model_dir)\n",
    "model = AutoModelForMultipleChoice.from_pretrained(model_dir).cuda()\n",
    "model.eval()"
   ]
  },
  {
   "cell_type": "code",
   "execution_count": 51,
   "id": "58a9f330",
   "metadata": {
    "execution": {
     "iopub.execute_input": "2023-09-18T23:32:46.953409Z",
     "iopub.status.busy": "2023-09-18T23:32:46.953104Z",
     "iopub.status.idle": "2023-09-18T23:32:46.959887Z",
     "shell.execute_reply": "2023-09-18T23:32:46.958919Z"
    },
    "papermill": {
     "duration": 0.03145,
     "end_time": "2023-09-18T23:32:46.961777",
     "exception": false,
     "start_time": "2023-09-18T23:32:46.930327",
     "status": "completed"
    },
    "tags": []
   },
   "outputs": [],
   "source": [
    "# We'll create a dictionary to convert option names (A, B, C, D, E) into indices and back again\n",
    "options = 'ABCDE'\n",
    "indices = list(range(5))\n",
    "\n",
    "option_to_index = {option: index for option, index in zip(options, indices)}\n",
    "index_to_option = {index: option for option, index in zip(options, indices)}\n",
    "\n",
    "def preprocess(example):\n",
    "    # The AutoModelForMultipleChoice class expects a set of question/answer pairs\n",
    "    # so we'll copy our question 5 times before tokenizing\n",
    "    first_sentence = [example['prompt']] * 5\n",
    "    second_sentence = []\n",
    "    for option in options:\n",
    "        second_sentence.append(example[option])\n",
    "    # Our tokenizer will turn our text into token IDs BERT can understand\n",
    "    tokenized_example = tokenizer(first_sentence, second_sentence, truncation=True)\n",
    "    tokenized_example['label'] = option_to_index[example['answer']]\n",
    "    return tokenized_example"
   ]
  },
  {
   "cell_type": "code",
   "execution_count": 52,
   "id": "50ca8f09",
   "metadata": {
    "execution": {
     "iopub.execute_input": "2023-09-18T23:32:47.006857Z",
     "iopub.status.busy": "2023-09-18T23:32:47.005893Z",
     "iopub.status.idle": "2023-09-18T23:32:47.015896Z",
     "shell.execute_reply": "2023-09-18T23:32:47.014970Z"
    },
    "papermill": {
     "duration": 0.034384,
     "end_time": "2023-09-18T23:32:47.017934",
     "exception": false,
     "start_time": "2023-09-18T23:32:46.983550",
     "status": "completed"
    },
    "tags": []
   },
   "outputs": [],
   "source": [
    "@dataclass\n",
    "class DataCollatorForMultipleChoice:\n",
    "    tokenizer: PreTrainedTokenizerBase\n",
    "    padding: Union[bool, str, PaddingStrategy] = True\n",
    "    max_length: Optional[int] = None\n",
    "    pad_to_multiple_of: Optional[int] = None\n",
    "\n",
    "    def __call__(self, features):\n",
    "        label_name = 'label' if 'label' in features[0].keys() else 'labels'\n",
    "        labels = [feature.pop(label_name) for feature in features]\n",
    "        batch_size = len(features)\n",
    "        num_choices = len(features[0]['input_ids'])\n",
    "        flattened_features = [\n",
    "            [{k: v[i] for k, v in feature.items()} for i in range(num_choices)] for feature in features\n",
    "        ]\n",
    "        flattened_features = sum(flattened_features, [])\n",
    "\n",
    "        batch = self.tokenizer.pad(\n",
    "            flattened_features,\n",
    "            padding=self.padding,\n",
    "            max_length=self.max_length,\n",
    "            pad_to_multiple_of=self.pad_to_multiple_of,\n",
    "            return_tensors='pt',\n",
    "        )\n",
    "        batch = {k: v.view(batch_size, num_choices, -1) for k, v in batch.items()}\n",
    "        batch['labels'] = torch.tensor(labels, dtype=torch.int64)\n",
    "        return batch"
   ]
  },
  {
   "cell_type": "code",
   "execution_count": 53,
   "id": "1d61de48",
   "metadata": {
    "execution": {
     "iopub.execute_input": "2023-09-18T23:32:47.062320Z",
     "iopub.status.busy": "2023-09-18T23:32:47.062043Z",
     "iopub.status.idle": "2023-09-18T23:32:48.836611Z",
     "shell.execute_reply": "2023-09-18T23:32:48.835677Z"
    },
    "papermill": {
     "duration": 1.799481,
     "end_time": "2023-09-18T23:32:48.838852",
     "exception": false,
     "start_time": "2023-09-18T23:32:47.039371",
     "status": "completed"
    },
    "tags": []
   },
   "outputs": [
    {
     "data": {
      "application/vnd.jupyter.widget-view+json": {
       "model_id": "0a56860a2b4c42a5a5cb754389927e4f",
       "version_major": 2,
       "version_minor": 0
      },
      "text/plain": [
       "Map:   0%|          | 0/200 [00:00<?, ? examples/s]"
      ]
     },
     "metadata": {},
     "output_type": "display_data"
    },
    {
     "name": "stderr",
     "output_type": "stream",
     "text": [
      "Asking to truncate to max_length but no maximum length is provided and the model has no predefined maximum length. Default to no truncation.\n"
     ]
    }
   ],
   "source": [
    "tokenized_test_dataset = Dataset.from_pandas(test_df[['id', 'prompt', 'A', 'B', 'C', 'D', 'E', 'answer']].drop(columns=['id'])).map(preprocess, remove_columns=['prompt', 'A', 'B', 'C', 'D', 'E', 'answer'])\n",
    "tokenized_test_dataset = tokenized_test_dataset.remove_columns([\"__index_level_0__\"])\n",
    "data_collator = DataCollatorForMultipleChoice(tokenizer=tokenizer)\n",
    "test_dataloader = DataLoader(tokenized_test_dataset, batch_size=1, shuffle=False, collate_fn=data_collator)"
   ]
  },
  {
   "cell_type": "code",
   "execution_count": 54,
   "id": "1cfb5ae7",
   "metadata": {
    "execution": {
     "iopub.execute_input": "2023-09-18T23:32:48.885582Z",
     "iopub.status.busy": "2023-09-18T23:32:48.885266Z",
     "iopub.status.idle": "2023-09-18T23:32:48.890395Z",
     "shell.execute_reply": "2023-09-18T23:32:48.889335Z"
    },
    "papermill": {
     "duration": 0.030568,
     "end_time": "2023-09-18T23:32:48.892636",
     "exception": false,
     "start_time": "2023-09-18T23:32:48.862068",
     "status": "completed"
    },
    "tags": []
   },
   "outputs": [],
   "source": [
    "def softmax(x):\n",
    "    e_x = np.exp(x - np.max(x, axis=-1, keepdims=True))\n",
    "    return e_x / e_x.sum(axis=-1, keepdims = True)    "
   ]
  },
  {
   "cell_type": "code",
   "execution_count": 55,
   "id": "b2bb68ff",
   "metadata": {
    "execution": {
     "iopub.execute_input": "2023-09-18T23:32:48.940697Z",
     "iopub.status.busy": "2023-09-18T23:32:48.939819Z",
     "iopub.status.idle": "2023-09-18T23:34:10.730092Z",
     "shell.execute_reply": "2023-09-18T23:34:10.725956Z"
    },
    "papermill": {
     "duration": 81.837849,
     "end_time": "2023-09-18T23:34:10.752346",
     "exception": false,
     "start_time": "2023-09-18T23:32:48.914497",
     "status": "completed"
    },
    "tags": []
   },
   "outputs": [
    {
     "name": "stderr",
     "output_type": "stream",
     "text": [
      "You're using a DebertaV2TokenizerFast tokenizer. Please note that with a fast tokenizer, using the `__call__` method is faster than using a method to encode the text followed by a call to the `pad` method to get a padded encoding.\n"
     ]
    },
    {
     "name": "stdout",
     "output_type": "stream",
     "text": [
      "CPU times: user 1min 21s, sys: 62.8 ms, total: 1min 21s\n",
      "Wall time: 1min 21s\n"
     ]
    }
   ],
   "source": [
    "%%time\n",
    "\n",
    "test_predictions = []\n",
    "for batch in test_dataloader:\n",
    "    for k in batch.keys():\n",
    "        batch[k] = batch[k].cuda()\n",
    "    with torch.no_grad():\n",
    "        outputs = model(**batch)\n",
    "    test_predictions.append(outputs.logits.cpu().detach())\n",
    "\n",
    "test_predictions = torch.cat(test_predictions)\n",
    "test_predictions = test_predictions.numpy()"
   ]
  },
  {
   "cell_type": "code",
   "execution_count": 56,
   "id": "b32b620d",
   "metadata": {
    "_kg_hide-output": true,
    "execution": {
     "iopub.execute_input": "2023-09-18T23:34:10.798876Z",
     "iopub.status.busy": "2023-09-18T23:34:10.798533Z",
     "iopub.status.idle": "2023-09-18T23:34:28.338885Z",
     "shell.execute_reply": "2023-09-18T23:34:28.337947Z"
    },
    "papermill": {
     "duration": 17.566105,
     "end_time": "2023-09-18T23:34:28.340940",
     "exception": false,
     "start_time": "2023-09-18T23:34:10.774835",
     "status": "completed"
    },
    "tags": []
   },
   "outputs": [
    {
     "name": "stdout",
     "output_type": "stream",
     "text": [
      "CPU times: user 4.11 s, sys: 1.77 s, total: 5.88 s\n",
      "Wall time: 17.5 s\n"
     ]
    },
    {
     "data": {
      "text/plain": [
       "DebertaV2ForMultipleChoice(\n",
       "  (deberta): DebertaV2Model(\n",
       "    (embeddings): DebertaV2Embeddings(\n",
       "      (word_embeddings): Embedding(128100, 1024, padding_idx=0)\n",
       "      (LayerNorm): LayerNorm((1024,), eps=1e-07, elementwise_affine=True)\n",
       "      (dropout): StableDropout()\n",
       "    )\n",
       "    (encoder): DebertaV2Encoder(\n",
       "      (layer): ModuleList(\n",
       "        (0-23): 24 x DebertaV2Layer(\n",
       "          (attention): DebertaV2Attention(\n",
       "            (self): DisentangledSelfAttention(\n",
       "              (query_proj): Linear(in_features=1024, out_features=1024, bias=True)\n",
       "              (key_proj): Linear(in_features=1024, out_features=1024, bias=True)\n",
       "              (value_proj): Linear(in_features=1024, out_features=1024, bias=True)\n",
       "              (pos_dropout): StableDropout()\n",
       "              (dropout): StableDropout()\n",
       "            )\n",
       "            (output): DebertaV2SelfOutput(\n",
       "              (dense): Linear(in_features=1024, out_features=1024, bias=True)\n",
       "              (LayerNorm): LayerNorm((1024,), eps=1e-07, elementwise_affine=True)\n",
       "              (dropout): StableDropout()\n",
       "            )\n",
       "          )\n",
       "          (intermediate): DebertaV2Intermediate(\n",
       "            (dense): Linear(in_features=1024, out_features=4096, bias=True)\n",
       "            (intermediate_act_fn): GELUActivation()\n",
       "          )\n",
       "          (output): DebertaV2Output(\n",
       "            (dense): Linear(in_features=4096, out_features=1024, bias=True)\n",
       "            (LayerNorm): LayerNorm((1024,), eps=1e-07, elementwise_affine=True)\n",
       "            (dropout): StableDropout()\n",
       "          )\n",
       "        )\n",
       "      )\n",
       "      (rel_embeddings): Embedding(512, 1024)\n",
       "      (LayerNorm): LayerNorm((1024,), eps=1e-07, elementwise_affine=True)\n",
       "    )\n",
       "  )\n",
       "  (pooler): ContextPooler(\n",
       "    (dense): Linear(in_features=1024, out_features=1024, bias=True)\n",
       "    (dropout): StableDropout()\n",
       "  )\n",
       "  (classifier): Linear(in_features=1024, out_features=1, bias=True)\n",
       "  (dropout): StableDropout()\n",
       ")"
      ]
     },
     "execution_count": 56,
     "metadata": {},
     "output_type": "execute_result"
    }
   ],
   "source": [
    "%%time\n",
    "model_dir = \"/kaggle/input/how-to-train-open-book-model-part-1/model_v2/\"\n",
    "model_dir = \"/kaggle/input/llm-science-run-context-2\"\n",
    "\n",
    "tokenizer = AutoTokenizer.from_pretrained(model_dir)\n",
    "model = AutoModelForMultipleChoice.from_pretrained(model_dir).cuda()\n",
    "model.eval()"
   ]
  },
  {
   "cell_type": "code",
   "execution_count": 57,
   "id": "9dbe78bd",
   "metadata": {
    "execution": {
     "iopub.execute_input": "2023-09-18T23:34:28.388301Z",
     "iopub.status.busy": "2023-09-18T23:34:28.387392Z",
     "iopub.status.idle": "2023-09-18T23:35:50.119081Z",
     "shell.execute_reply": "2023-09-18T23:35:50.118016Z"
    },
    "papermill": {
     "duration": 81.757681,
     "end_time": "2023-09-18T23:35:50.121608",
     "exception": false,
     "start_time": "2023-09-18T23:34:28.363927",
     "status": "completed"
    },
    "tags": []
   },
   "outputs": [],
   "source": [
    "test_predictions2 = []\n",
    "for batch in test_dataloader:\n",
    "    for k in batch.keys():\n",
    "        batch[k] = batch[k].cuda()\n",
    "    with torch.no_grad():\n",
    "        outputs = model(**batch)\n",
    "    test_predictions2.append(outputs.logits.cpu().detach())\n",
    "\n",
    "test_predictions2 = torch.cat(test_predictions2)\n",
    "test_predictions2 = test_predictions2.numpy()\n",
    "\n",
    "test_predictions = softmax (test_predictions) + softmax(test_predictions2) + llama_softmax_outputs\n",
    "\n",
    "predictions_as_ids = np.argsort(-test_predictions, 1)\n",
    "\n",
    "predictions_as_answer_letters = np.array(list('ABCDE'))[predictions_as_ids]\n",
    "# predictions_as_answer_letters[:3]\n",
    "\n",
    "predictions_as_string = test_df['prediction'] = [\n",
    "    ' '.join(row) for row in predictions_as_answer_letters[:, :3]\n",
    "]"
   ]
  },
  {
   "cell_type": "code",
   "execution_count": 58,
   "id": "78af6198",
   "metadata": {
    "execution": {
     "iopub.execute_input": "2023-09-18T23:35:50.169528Z",
     "iopub.status.busy": "2023-09-18T23:35:50.169194Z",
     "iopub.status.idle": "2023-09-18T23:35:50.177377Z",
     "shell.execute_reply": "2023-09-18T23:35:50.176508Z"
    },
    "papermill": {
     "duration": 0.034229,
     "end_time": "2023-09-18T23:35:50.179565",
     "exception": false,
     "start_time": "2023-09-18T23:35:50.145336",
     "status": "completed"
    },
    "tags": []
   },
   "outputs": [],
   "source": [
    "submission = test_df[['id', 'prediction']]\n",
    "submission.to_csv('submission.csv', index=False)"
   ]
  },
  {
   "cell_type": "code",
   "execution_count": 59,
   "id": "33e45751",
   "metadata": {
    "execution": {
     "iopub.execute_input": "2023-09-18T23:35:50.226168Z",
     "iopub.status.busy": "2023-09-18T23:35:50.225881Z",
     "iopub.status.idle": "2023-09-18T23:35:50.236285Z",
     "shell.execute_reply": "2023-09-18T23:35:50.235214Z"
    },
    "papermill": {
     "duration": 0.036352,
     "end_time": "2023-09-18T23:35:50.238418",
     "exception": false,
     "start_time": "2023-09-18T23:35:50.202066",
     "status": "completed"
    },
    "tags": []
   },
   "outputs": [
    {
     "data": {
      "text/html": [
       "<div>\n",
       "<style scoped>\n",
       "    .dataframe tbody tr th:only-of-type {\n",
       "        vertical-align: middle;\n",
       "    }\n",
       "\n",
       "    .dataframe tbody tr th {\n",
       "        vertical-align: top;\n",
       "    }\n",
       "\n",
       "    .dataframe thead th {\n",
       "        text-align: right;\n",
       "    }\n",
       "</style>\n",
       "<table border=\"1\" class=\"dataframe\">\n",
       "  <thead>\n",
       "    <tr style=\"text-align: right;\">\n",
       "      <th></th>\n",
       "      <th>id</th>\n",
       "      <th>prediction</th>\n",
       "    </tr>\n",
       "  </thead>\n",
       "  <tbody>\n",
       "    <tr>\n",
       "      <th>0</th>\n",
       "      <td>0</td>\n",
       "      <td>D B E</td>\n",
       "    </tr>\n",
       "    <tr>\n",
       "      <th>1</th>\n",
       "      <td>1</td>\n",
       "      <td>A B E</td>\n",
       "    </tr>\n",
       "    <tr>\n",
       "      <th>2</th>\n",
       "      <td>2</td>\n",
       "      <td>A C D</td>\n",
       "    </tr>\n",
       "    <tr>\n",
       "      <th>3</th>\n",
       "      <td>3</td>\n",
       "      <td>C A B</td>\n",
       "    </tr>\n",
       "    <tr>\n",
       "      <th>4</th>\n",
       "      <td>4</td>\n",
       "      <td>D A C</td>\n",
       "    </tr>\n",
       "  </tbody>\n",
       "</table>\n",
       "</div>"
      ],
      "text/plain": [
       "   id prediction\n",
       "0   0      D B E\n",
       "1   1      A B E\n",
       "2   2      A C D\n",
       "3   3      C A B\n",
       "4   4      D A C"
      ]
     },
     "execution_count": 59,
     "metadata": {},
     "output_type": "execute_result"
    }
   ],
   "source": [
    "submission.head()"
   ]
  },
  {
   "cell_type": "code",
   "execution_count": null,
   "id": "dfdbc02f",
   "metadata": {
    "papermill": {
     "duration": 0.023,
     "end_time": "2023-09-18T23:35:50.285551",
     "exception": false,
     "start_time": "2023-09-18T23:35:50.262551",
     "status": "completed"
    },
    "tags": []
   },
   "outputs": [],
   "source": []
  }
 ],
 "metadata": {
  "kernelspec": {
   "display_name": "Python 3",
   "language": "python",
   "name": "python3"
  },
  "language_info": {
   "codemirror_mode": {
    "name": "ipython",
    "version": 3
   },
   "file_extension": ".py",
   "mimetype": "text/x-python",
   "name": "python",
   "nbconvert_exporter": "python",
   "pygments_lexer": "ipython3",
   "version": "3.10.12"
  },
  "papermill": {
   "default_parameters": {},
   "duration": 1865.588543,
   "end_time": "2023-09-18T23:35:53.929378",
   "environment_variables": {},
   "exception": null,
   "input_path": "__notebook__.ipynb",
   "output_path": "__notebook__.ipynb",
   "parameters": {},
   "start_time": "2023-09-18T23:04:48.340835",
   "version": "2.4.0"
  },
  "widgets": {
   "application/vnd.jupyter.widget-state+json": {
    "state": {
     "02453f855978435ebdbba4f171382c32": {
      "model_module": "@jupyter-widgets/base",
      "model_module_version": "1.2.0",
      "model_name": "LayoutModel",
      "state": {
       "_model_module": "@jupyter-widgets/base",
       "_model_module_version": "1.2.0",
       "_model_name": "LayoutModel",
       "_view_count": null,
       "_view_module": "@jupyter-widgets/base",
       "_view_module_version": "1.2.0",
       "_view_name": "LayoutView",
       "align_content": null,
       "align_items": null,
       "align_self": null,
       "border": null,
       "bottom": null,
       "display": null,
       "flex": null,
       "flex_flow": null,
       "grid_area": null,
       "grid_auto_columns": null,
       "grid_auto_flow": null,
       "grid_auto_rows": null,
       "grid_column": null,
       "grid_gap": null,
       "grid_row": null,
       "grid_template_areas": null,
       "grid_template_columns": null,
       "grid_template_rows": null,
       "height": null,
       "justify_content": null,
       "justify_items": null,
       "left": null,
       "margin": null,
       "max_height": null,
       "max_width": null,
       "min_height": null,
       "min_width": null,
       "object_fit": null,
       "object_position": null,
       "order": null,
       "overflow": null,
       "overflow_x": null,
       "overflow_y": null,
       "padding": null,
       "right": null,
       "top": null,
       "visibility": null,
       "width": null
      }
     },
     "03164e1eef334965b6d114f18b2ae5d9": {
      "model_module": "@jupyter-widgets/base",
      "model_module_version": "1.2.0",
      "model_name": "LayoutModel",
      "state": {
       "_model_module": "@jupyter-widgets/base",
       "_model_module_version": "1.2.0",
       "_model_name": "LayoutModel",
       "_view_count": null,
       "_view_module": "@jupyter-widgets/base",
       "_view_module_version": "1.2.0",
       "_view_name": "LayoutView",
       "align_content": null,
       "align_items": null,
       "align_self": null,
       "border": null,
       "bottom": null,
       "display": null,
       "flex": null,
       "flex_flow": null,
       "grid_area": null,
       "grid_auto_columns": null,
       "grid_auto_flow": null,
       "grid_auto_rows": null,
       "grid_column": null,
       "grid_gap": null,
       "grid_row": null,
       "grid_template_areas": null,
       "grid_template_columns": null,
       "grid_template_rows": null,
       "height": null,
       "justify_content": null,
       "justify_items": null,
       "left": null,
       "margin": null,
       "max_height": null,
       "max_width": null,
       "min_height": null,
       "min_width": null,
       "object_fit": null,
       "object_position": null,
       "order": null,
       "overflow": null,
       "overflow_x": null,
       "overflow_y": null,
       "padding": null,
       "right": null,
       "top": null,
       "visibility": null,
       "width": null
      }
     },
     "06b4efeda1cb49d8b7ddaa628699f005": {
      "model_module": "@jupyter-widgets/base",
      "model_module_version": "1.2.0",
      "model_name": "LayoutModel",
      "state": {
       "_model_module": "@jupyter-widgets/base",
       "_model_module_version": "1.2.0",
       "_model_name": "LayoutModel",
       "_view_count": null,
       "_view_module": "@jupyter-widgets/base",
       "_view_module_version": "1.2.0",
       "_view_name": "LayoutView",
       "align_content": null,
       "align_items": null,
       "align_self": null,
       "border": null,
       "bottom": null,
       "display": null,
       "flex": null,
       "flex_flow": null,
       "grid_area": null,
       "grid_auto_columns": null,
       "grid_auto_flow": null,
       "grid_auto_rows": null,
       "grid_column": null,
       "grid_gap": null,
       "grid_row": null,
       "grid_template_areas": null,
       "grid_template_columns": null,
       "grid_template_rows": null,
       "height": null,
       "justify_content": null,
       "justify_items": null,
       "left": null,
       "margin": null,
       "max_height": null,
       "max_width": null,
       "min_height": null,
       "min_width": null,
       "object_fit": null,
       "object_position": null,
       "order": null,
       "overflow": null,
       "overflow_x": null,
       "overflow_y": null,
       "padding": null,
       "right": null,
       "top": null,
       "visibility": null,
       "width": null
      }
     },
     "092c467af3df42faa1f3d24cdde31547": {
      "model_module": "@jupyter-widgets/controls",
      "model_module_version": "1.5.0",
      "model_name": "ProgressStyleModel",
      "state": {
       "_model_module": "@jupyter-widgets/controls",
       "_model_module_version": "1.5.0",
       "_model_name": "ProgressStyleModel",
       "_view_count": null,
       "_view_module": "@jupyter-widgets/base",
       "_view_module_version": "1.2.0",
       "_view_name": "StyleView",
       "bar_color": null,
       "description_width": ""
      }
     },
     "0a56860a2b4c42a5a5cb754389927e4f": {
      "model_module": "@jupyter-widgets/controls",
      "model_module_version": "1.5.0",
      "model_name": "HBoxModel",
      "state": {
       "_dom_classes": [],
       "_model_module": "@jupyter-widgets/controls",
       "_model_module_version": "1.5.0",
       "_model_name": "HBoxModel",
       "_view_count": null,
       "_view_module": "@jupyter-widgets/controls",
       "_view_module_version": "1.5.0",
       "_view_name": "HBoxView",
       "box_style": "",
       "children": [
        "IPY_MODEL_0f5af93c1cc8437c8332a1957ace934f",
        "IPY_MODEL_4202f515201e4060aa8d79434e3859f8",
        "IPY_MODEL_c8e6be8b30214863b22642095efa5c9c"
       ],
       "layout": "IPY_MODEL_b773cb14175e40129da2339217bab625"
      }
     },
     "0b3031adfdc249f4bb283024c34d45d2": {
      "model_module": "@jupyter-widgets/base",
      "model_module_version": "1.2.0",
      "model_name": "LayoutModel",
      "state": {
       "_model_module": "@jupyter-widgets/base",
       "_model_module_version": "1.2.0",
       "_model_name": "LayoutModel",
       "_view_count": null,
       "_view_module": "@jupyter-widgets/base",
       "_view_module_version": "1.2.0",
       "_view_name": "LayoutView",
       "align_content": null,
       "align_items": null,
       "align_self": null,
       "border": null,
       "bottom": null,
       "display": null,
       "flex": null,
       "flex_flow": null,
       "grid_area": null,
       "grid_auto_columns": null,
       "grid_auto_flow": null,
       "grid_auto_rows": null,
       "grid_column": null,
       "grid_gap": null,
       "grid_row": null,
       "grid_template_areas": null,
       "grid_template_columns": null,
       "grid_template_rows": null,
       "height": null,
       "justify_content": null,
       "justify_items": null,
       "left": null,
       "margin": null,
       "max_height": null,
       "max_width": null,
       "min_height": null,
       "min_width": null,
       "object_fit": null,
       "object_position": null,
       "order": null,
       "overflow": null,
       "overflow_x": null,
       "overflow_y": null,
       "padding": null,
       "right": null,
       "top": null,
       "visibility": null,
       "width": null
      }
     },
     "0b683c35a6c145d2b2e66b8a90586638": {
      "model_module": "@jupyter-widgets/base",
      "model_module_version": "1.2.0",
      "model_name": "LayoutModel",
      "state": {
       "_model_module": "@jupyter-widgets/base",
       "_model_module_version": "1.2.0",
       "_model_name": "LayoutModel",
       "_view_count": null,
       "_view_module": "@jupyter-widgets/base",
       "_view_module_version": "1.2.0",
       "_view_name": "LayoutView",
       "align_content": null,
       "align_items": null,
       "align_self": null,
       "border": null,
       "bottom": null,
       "display": null,
       "flex": null,
       "flex_flow": null,
       "grid_area": null,
       "grid_auto_columns": null,
       "grid_auto_flow": null,
       "grid_auto_rows": null,
       "grid_column": null,
       "grid_gap": null,
       "grid_row": null,
       "grid_template_areas": null,
       "grid_template_columns": null,
       "grid_template_rows": null,
       "height": null,
       "justify_content": null,
       "justify_items": null,
       "left": null,
       "margin": null,
       "max_height": null,
       "max_width": null,
       "min_height": null,
       "min_width": null,
       "object_fit": null,
       "object_position": null,
       "order": null,
       "overflow": null,
       "overflow_x": null,
       "overflow_y": null,
       "padding": null,
       "right": null,
       "top": null,
       "visibility": null,
       "width": null
      }
     },
     "0d265edef74343a78987bf8a78ad8051": {
      "model_module": "@jupyter-widgets/controls",
      "model_module_version": "1.5.0",
      "model_name": "FloatProgressModel",
      "state": {
       "_dom_classes": [],
       "_model_module": "@jupyter-widgets/controls",
       "_model_module_version": "1.5.0",
       "_model_name": "FloatProgressModel",
       "_view_count": null,
       "_view_module": "@jupyter-widgets/controls",
       "_view_module_version": "1.5.0",
       "_view_name": "ProgressView",
       "bar_style": "success",
       "description": "",
       "description_tooltip": null,
       "layout": "IPY_MODEL_06b4efeda1cb49d8b7ddaa628699f005",
       "max": 27.0,
       "min": 0.0,
       "orientation": "horizontal",
       "style": "IPY_MODEL_bb08d0898fa84f66b0c929b116f8556f",
       "value": 27.0
      }
     },
     "0f13847396614bdd80695df220cee232": {
      "model_module": "@jupyter-widgets/base",
      "model_module_version": "1.2.0",
      "model_name": "LayoutModel",
      "state": {
       "_model_module": "@jupyter-widgets/base",
       "_model_module_version": "1.2.0",
       "_model_name": "LayoutModel",
       "_view_count": null,
       "_view_module": "@jupyter-widgets/base",
       "_view_module_version": "1.2.0",
       "_view_name": "LayoutView",
       "align_content": null,
       "align_items": null,
       "align_self": null,
       "border": null,
       "bottom": null,
       "display": null,
       "flex": null,
       "flex_flow": null,
       "grid_area": null,
       "grid_auto_columns": null,
       "grid_auto_flow": null,
       "grid_auto_rows": null,
       "grid_column": null,
       "grid_gap": null,
       "grid_row": null,
       "grid_template_areas": null,
       "grid_template_columns": null,
       "grid_template_rows": null,
       "height": null,
       "justify_content": null,
       "justify_items": null,
       "left": null,
       "margin": null,
       "max_height": null,
       "max_width": null,
       "min_height": null,
       "min_width": null,
       "object_fit": null,
       "object_position": null,
       "order": null,
       "overflow": null,
       "overflow_x": null,
       "overflow_y": null,
       "padding": null,
       "right": null,
       "top": null,
       "visibility": null,
       "width": null
      }
     },
     "0f5af93c1cc8437c8332a1957ace934f": {
      "model_module": "@jupyter-widgets/controls",
      "model_module_version": "1.5.0",
      "model_name": "HTMLModel",
      "state": {
       "_dom_classes": [],
       "_model_module": "@jupyter-widgets/controls",
       "_model_module_version": "1.5.0",
       "_model_name": "HTMLModel",
       "_view_count": null,
       "_view_module": "@jupyter-widgets/controls",
       "_view_module_version": "1.5.0",
       "_view_name": "HTMLView",
       "description": "",
       "description_tooltip": null,
       "layout": "IPY_MODEL_2c681dade50747c59a498f87b48b8d61",
       "placeholder": "​",
       "style": "IPY_MODEL_c0d257ed44b34623a47ad0325e859e58",
       "value": "Map: 100%"
      }
     },
     "169cf63252c149f2b6b47f93c6423fe4": {
      "model_module": "@jupyter-widgets/controls",
      "model_module_version": "1.5.0",
      "model_name": "DescriptionStyleModel",
      "state": {
       "_model_module": "@jupyter-widgets/controls",
       "_model_module_version": "1.5.0",
       "_model_name": "DescriptionStyleModel",
       "_view_count": null,
       "_view_module": "@jupyter-widgets/base",
       "_view_module_version": "1.2.0",
       "_view_name": "StyleView",
       "description_width": ""
      }
     },
     "183bf21e84a44a41878b832d5b59c284": {
      "model_module": "@jupyter-widgets/base",
      "model_module_version": "1.2.0",
      "model_name": "LayoutModel",
      "state": {
       "_model_module": "@jupyter-widgets/base",
       "_model_module_version": "1.2.0",
       "_model_name": "LayoutModel",
       "_view_count": null,
       "_view_module": "@jupyter-widgets/base",
       "_view_module_version": "1.2.0",
       "_view_name": "LayoutView",
       "align_content": null,
       "align_items": null,
       "align_self": null,
       "border": null,
       "bottom": null,
       "display": null,
       "flex": null,
       "flex_flow": null,
       "grid_area": null,
       "grid_auto_columns": null,
       "grid_auto_flow": null,
       "grid_auto_rows": null,
       "grid_column": null,
       "grid_gap": null,
       "grid_row": null,
       "grid_template_areas": null,
       "grid_template_columns": null,
       "grid_template_rows": null,
       "height": null,
       "justify_content": null,
       "justify_items": null,
       "left": null,
       "margin": null,
       "max_height": null,
       "max_width": null,
       "min_height": null,
       "min_width": null,
       "object_fit": null,
       "object_position": null,
       "order": null,
       "overflow": null,
       "overflow_x": null,
       "overflow_y": null,
       "padding": null,
       "right": null,
       "top": null,
       "visibility": null,
       "width": null
      }
     },
     "1ab9c6549b9f42b09d51422da06059a2": {
      "model_module": "@jupyter-widgets/controls",
      "model_module_version": "1.5.0",
      "model_name": "DescriptionStyleModel",
      "state": {
       "_model_module": "@jupyter-widgets/controls",
       "_model_module_version": "1.5.0",
       "_model_name": "DescriptionStyleModel",
       "_view_count": null,
       "_view_module": "@jupyter-widgets/base",
       "_view_module_version": "1.2.0",
       "_view_name": "StyleView",
       "description_width": ""
      }
     },
     "1e6792ccdf74486a82d356c6f6c2d0b0": {
      "model_module": "@jupyter-widgets/base",
      "model_module_version": "1.2.0",
      "model_name": "LayoutModel",
      "state": {
       "_model_module": "@jupyter-widgets/base",
       "_model_module_version": "1.2.0",
       "_model_name": "LayoutModel",
       "_view_count": null,
       "_view_module": "@jupyter-widgets/base",
       "_view_module_version": "1.2.0",
       "_view_name": "LayoutView",
       "align_content": null,
       "align_items": null,
       "align_self": null,
       "border": null,
       "bottom": null,
       "display": null,
       "flex": null,
       "flex_flow": null,
       "grid_area": null,
       "grid_auto_columns": null,
       "grid_auto_flow": null,
       "grid_auto_rows": null,
       "grid_column": null,
       "grid_gap": null,
       "grid_row": null,
       "grid_template_areas": null,
       "grid_template_columns": null,
       "grid_template_rows": null,
       "height": null,
       "justify_content": null,
       "justify_items": null,
       "left": null,
       "margin": null,
       "max_height": null,
       "max_width": null,
       "min_height": null,
       "min_width": null,
       "object_fit": null,
       "object_position": null,
       "order": null,
       "overflow": null,
       "overflow_x": null,
       "overflow_y": null,
       "padding": null,
       "right": null,
       "top": null,
       "visibility": null,
       "width": null
      }
     },
     "1f8ae3b7bdc44caaa18a253c2dfc21c6": {
      "model_module": "@jupyter-widgets/base",
      "model_module_version": "1.2.0",
      "model_name": "LayoutModel",
      "state": {
       "_model_module": "@jupyter-widgets/base",
       "_model_module_version": "1.2.0",
       "_model_name": "LayoutModel",
       "_view_count": null,
       "_view_module": "@jupyter-widgets/base",
       "_view_module_version": "1.2.0",
       "_view_name": "LayoutView",
       "align_content": null,
       "align_items": null,
       "align_self": null,
       "border": null,
       "bottom": null,
       "display": null,
       "flex": null,
       "flex_flow": null,
       "grid_area": null,
       "grid_auto_columns": null,
       "grid_auto_flow": null,
       "grid_auto_rows": null,
       "grid_column": null,
       "grid_gap": null,
       "grid_row": null,
       "grid_template_areas": null,
       "grid_template_columns": null,
       "grid_template_rows": null,
       "height": null,
       "justify_content": null,
       "justify_items": null,
       "left": null,
       "margin": null,
       "max_height": null,
       "max_width": null,
       "min_height": null,
       "min_width": null,
       "object_fit": null,
       "object_position": null,
       "order": null,
       "overflow": null,
       "overflow_x": null,
       "overflow_y": null,
       "padding": null,
       "right": null,
       "top": null,
       "visibility": null,
       "width": null
      }
     },
     "2816660503d3471e87df8d03f7db7556": {
      "model_module": "@jupyter-widgets/base",
      "model_module_version": "1.2.0",
      "model_name": "LayoutModel",
      "state": {
       "_model_module": "@jupyter-widgets/base",
       "_model_module_version": "1.2.0",
       "_model_name": "LayoutModel",
       "_view_count": null,
       "_view_module": "@jupyter-widgets/base",
       "_view_module_version": "1.2.0",
       "_view_name": "LayoutView",
       "align_content": null,
       "align_items": null,
       "align_self": null,
       "border": null,
       "bottom": null,
       "display": null,
       "flex": null,
       "flex_flow": null,
       "grid_area": null,
       "grid_auto_columns": null,
       "grid_auto_flow": null,
       "grid_auto_rows": null,
       "grid_column": null,
       "grid_gap": null,
       "grid_row": null,
       "grid_template_areas": null,
       "grid_template_columns": null,
       "grid_template_rows": null,
       "height": null,
       "justify_content": null,
       "justify_items": null,
       "left": null,
       "margin": null,
       "max_height": null,
       "max_width": null,
       "min_height": null,
       "min_width": null,
       "object_fit": null,
       "object_position": null,
       "order": null,
       "overflow": null,
       "overflow_x": null,
       "overflow_y": null,
       "padding": null,
       "right": null,
       "top": null,
       "visibility": null,
       "width": null
      }
     },
     "2c4ab17814e44041b162af23ba46cda1": {
      "model_module": "@jupyter-widgets/controls",
      "model_module_version": "1.5.0",
      "model_name": "DescriptionStyleModel",
      "state": {
       "_model_module": "@jupyter-widgets/controls",
       "_model_module_version": "1.5.0",
       "_model_name": "DescriptionStyleModel",
       "_view_count": null,
       "_view_module": "@jupyter-widgets/base",
       "_view_module_version": "1.2.0",
       "_view_name": "StyleView",
       "description_width": ""
      }
     },
     "2c681dade50747c59a498f87b48b8d61": {
      "model_module": "@jupyter-widgets/base",
      "model_module_version": "1.2.0",
      "model_name": "LayoutModel",
      "state": {
       "_model_module": "@jupyter-widgets/base",
       "_model_module_version": "1.2.0",
       "_model_name": "LayoutModel",
       "_view_count": null,
       "_view_module": "@jupyter-widgets/base",
       "_view_module_version": "1.2.0",
       "_view_name": "LayoutView",
       "align_content": null,
       "align_items": null,
       "align_self": null,
       "border": null,
       "bottom": null,
       "display": null,
       "flex": null,
       "flex_flow": null,
       "grid_area": null,
       "grid_auto_columns": null,
       "grid_auto_flow": null,
       "grid_auto_rows": null,
       "grid_column": null,
       "grid_gap": null,
       "grid_row": null,
       "grid_template_areas": null,
       "grid_template_columns": null,
       "grid_template_rows": null,
       "height": null,
       "justify_content": null,
       "justify_items": null,
       "left": null,
       "margin": null,
       "max_height": null,
       "max_width": null,
       "min_height": null,
       "min_width": null,
       "object_fit": null,
       "object_position": null,
       "order": null,
       "overflow": null,
       "overflow_x": null,
       "overflow_y": null,
       "padding": null,
       "right": null,
       "top": null,
       "visibility": null,
       "width": null
      }
     },
     "2f525235b6bf4ac2965a6eb30a4680c8": {
      "model_module": "@jupyter-widgets/controls",
      "model_module_version": "1.5.0",
      "model_name": "DescriptionStyleModel",
      "state": {
       "_model_module": "@jupyter-widgets/controls",
       "_model_module_version": "1.5.0",
       "_model_name": "DescriptionStyleModel",
       "_view_count": null,
       "_view_module": "@jupyter-widgets/base",
       "_view_module_version": "1.2.0",
       "_view_name": "StyleView",
       "description_width": ""
      }
     },
     "30f8908d4bbe41988c8307185ca41aff": {
      "model_module": "@jupyter-widgets/controls",
      "model_module_version": "1.5.0",
      "model_name": "HBoxModel",
      "state": {
       "_dom_classes": [],
       "_model_module": "@jupyter-widgets/controls",
       "_model_module_version": "1.5.0",
       "_model_name": "HBoxModel",
       "_view_count": null,
       "_view_module": "@jupyter-widgets/controls",
       "_view_module_version": "1.5.0",
       "_view_name": "HBoxView",
       "box_style": "",
       "children": [
        "IPY_MODEL_d842dbfffd404d539722e71ac875eda3",
        "IPY_MODEL_3dd79ed286c34e3391862ef6b843261f",
        "IPY_MODEL_405e67baacf141419ff468395ff96da3"
       ],
       "layout": "IPY_MODEL_5f3d7853f5d04f8bb1bc487ea9619d0e"
      }
     },
     "34584566a54a4a299cac7808be4e018e": {
      "model_module": "@jupyter-widgets/controls",
      "model_module_version": "1.5.0",
      "model_name": "ProgressStyleModel",
      "state": {
       "_model_module": "@jupyter-widgets/controls",
       "_model_module_version": "1.5.0",
       "_model_name": "ProgressStyleModel",
       "_view_count": null,
       "_view_module": "@jupyter-widgets/base",
       "_view_module_version": "1.2.0",
       "_view_name": "StyleView",
       "bar_color": null,
       "description_width": ""
      }
     },
     "3476229c017b4d8ebda6533544f9a7ed": {
      "model_module": "@jupyter-widgets/controls",
      "model_module_version": "1.5.0",
      "model_name": "ProgressStyleModel",
      "state": {
       "_model_module": "@jupyter-widgets/controls",
       "_model_module_version": "1.5.0",
       "_model_name": "ProgressStyleModel",
       "_view_count": null,
       "_view_module": "@jupyter-widgets/base",
       "_view_module_version": "1.2.0",
       "_view_name": "StyleView",
       "bar_color": null,
       "description_width": ""
      }
     },
     "3704d86dc2814449a1327b7c785fe7b9": {
      "model_module": "@jupyter-widgets/controls",
      "model_module_version": "1.5.0",
      "model_name": "DescriptionStyleModel",
      "state": {
       "_model_module": "@jupyter-widgets/controls",
       "_model_module_version": "1.5.0",
       "_model_name": "DescriptionStyleModel",
       "_view_count": null,
       "_view_module": "@jupyter-widgets/base",
       "_view_module_version": "1.2.0",
       "_view_name": "StyleView",
       "description_width": ""
      }
     },
     "398e1d5c6dce4fa2b4a44ffe1efcb18b": {
      "model_module": "@jupyter-widgets/controls",
      "model_module_version": "1.5.0",
      "model_name": "FloatProgressModel",
      "state": {
       "_dom_classes": [],
       "_model_module": "@jupyter-widgets/controls",
       "_model_module_version": "1.5.0",
       "_model_name": "FloatProgressModel",
       "_view_count": null,
       "_view_module": "@jupyter-widgets/controls",
       "_view_module_version": "1.5.0",
       "_view_name": "ProgressView",
       "bar_style": "success",
       "description": "",
       "description_tooltip": null,
       "layout": "IPY_MODEL_0b683c35a6c145d2b2e66b8a90586638",
       "max": 2.0,
       "min": 0.0,
       "orientation": "horizontal",
       "style": "IPY_MODEL_3476229c017b4d8ebda6533544f9a7ed",
       "value": 2.0
      }
     },
     "3d447acc92f04f51baa922122e95ce3e": {
      "model_module": "@jupyter-widgets/controls",
      "model_module_version": "1.5.0",
      "model_name": "HBoxModel",
      "state": {
       "_dom_classes": [],
       "_model_module": "@jupyter-widgets/controls",
       "_model_module_version": "1.5.0",
       "_model_name": "HBoxModel",
       "_view_count": null,
       "_view_module": "@jupyter-widgets/controls",
       "_view_module_version": "1.5.0",
       "_view_name": "HBoxView",
       "box_style": "",
       "children": [
        "IPY_MODEL_582aa88f607a4d588b4bdf14a0cf1a02",
        "IPY_MODEL_398e1d5c6dce4fa2b4a44ffe1efcb18b",
        "IPY_MODEL_82bec11161de4bc0af8592f089a50c4f"
       ],
       "layout": "IPY_MODEL_5663c494d6d7407c8c8079e459c400be"
      }
     },
     "3dd79ed286c34e3391862ef6b843261f": {
      "model_module": "@jupyter-widgets/controls",
      "model_module_version": "1.5.0",
      "model_name": "FloatProgressModel",
      "state": {
       "_dom_classes": [],
       "_model_module": "@jupyter-widgets/controls",
       "_model_module_version": "1.5.0",
       "_model_name": "FloatProgressModel",
       "_view_count": null,
       "_view_module": "@jupyter-widgets/controls",
       "_view_module_version": "1.5.0",
       "_view_name": "ProgressView",
       "bar_style": "success",
       "description": "",
       "description_tooltip": null,
       "layout": "IPY_MODEL_bd6647fd4aeb48d7bda7751ba66a2133",
       "max": 200.0,
       "min": 0.0,
       "orientation": "horizontal",
       "style": "IPY_MODEL_092c467af3df42faa1f3d24cdde31547",
       "value": 200.0
      }
     },
     "3e0fc044fa4e4cf1839abb4ed494e53a": {
      "model_module": "@jupyter-widgets/base",
      "model_module_version": "1.2.0",
      "model_name": "LayoutModel",
      "state": {
       "_model_module": "@jupyter-widgets/base",
       "_model_module_version": "1.2.0",
       "_model_name": "LayoutModel",
       "_view_count": null,
       "_view_module": "@jupyter-widgets/base",
       "_view_module_version": "1.2.0",
       "_view_name": "LayoutView",
       "align_content": null,
       "align_items": null,
       "align_self": null,
       "border": null,
       "bottom": null,
       "display": null,
       "flex": null,
       "flex_flow": null,
       "grid_area": null,
       "grid_auto_columns": null,
       "grid_auto_flow": null,
       "grid_auto_rows": null,
       "grid_column": null,
       "grid_gap": null,
       "grid_row": null,
       "grid_template_areas": null,
       "grid_template_columns": null,
       "grid_template_rows": null,
       "height": null,
       "justify_content": null,
       "justify_items": null,
       "left": null,
       "margin": null,
       "max_height": null,
       "max_width": null,
       "min_height": null,
       "min_width": null,
       "object_fit": null,
       "object_position": null,
       "order": null,
       "overflow": null,
       "overflow_x": null,
       "overflow_y": null,
       "padding": null,
       "right": null,
       "top": null,
       "visibility": null,
       "width": null
      }
     },
     "405e67baacf141419ff468395ff96da3": {
      "model_module": "@jupyter-widgets/controls",
      "model_module_version": "1.5.0",
      "model_name": "HTMLModel",
      "state": {
       "_dom_classes": [],
       "_model_module": "@jupyter-widgets/controls",
       "_model_module_version": "1.5.0",
       "_model_name": "HTMLModel",
       "_view_count": null,
       "_view_module": "@jupyter-widgets/controls",
       "_view_module_version": "1.5.0",
       "_view_name": "HTMLView",
       "description": "",
       "description_tooltip": null,
       "layout": "IPY_MODEL_02453f855978435ebdbba4f171382c32",
       "placeholder": "​",
       "style": "IPY_MODEL_1ab9c6549b9f42b09d51422da06059a2",
       "value": " 200/200 [00:00&lt;00:00, 982.07it/s]"
      }
     },
     "4202f515201e4060aa8d79434e3859f8": {
      "model_module": "@jupyter-widgets/controls",
      "model_module_version": "1.5.0",
      "model_name": "FloatProgressModel",
      "state": {
       "_dom_classes": [],
       "_model_module": "@jupyter-widgets/controls",
       "_model_module_version": "1.5.0",
       "_model_name": "FloatProgressModel",
       "_view_count": null,
       "_view_module": "@jupyter-widgets/controls",
       "_view_module_version": "1.5.0",
       "_view_name": "ProgressView",
       "bar_style": "success",
       "description": "",
       "description_tooltip": null,
       "layout": "IPY_MODEL_2816660503d3471e87df8d03f7db7556",
       "max": 200.0,
       "min": 0.0,
       "orientation": "horizontal",
       "style": "IPY_MODEL_df6ad3d1f2e649eda116fce045ac0398",
       "value": 200.0
      }
     },
     "45ccdc373466470a83457578cbb9ef9b": {
      "model_module": "@jupyter-widgets/base",
      "model_module_version": "1.2.0",
      "model_name": "LayoutModel",
      "state": {
       "_model_module": "@jupyter-widgets/base",
       "_model_module_version": "1.2.0",
       "_model_name": "LayoutModel",
       "_view_count": null,
       "_view_module": "@jupyter-widgets/base",
       "_view_module_version": "1.2.0",
       "_view_name": "LayoutView",
       "align_content": null,
       "align_items": null,
       "align_self": null,
       "border": null,
       "bottom": null,
       "display": null,
       "flex": null,
       "flex_flow": null,
       "grid_area": null,
       "grid_auto_columns": null,
       "grid_auto_flow": null,
       "grid_auto_rows": null,
       "grid_column": null,
       "grid_gap": null,
       "grid_row": null,
       "grid_template_areas": null,
       "grid_template_columns": null,
       "grid_template_rows": null,
       "height": null,
       "justify_content": null,
       "justify_items": null,
       "left": null,
       "margin": null,
       "max_height": null,
       "max_width": null,
       "min_height": null,
       "min_width": null,
       "object_fit": null,
       "object_position": null,
       "order": null,
       "overflow": null,
       "overflow_x": null,
       "overflow_y": null,
       "padding": null,
       "right": null,
       "top": null,
       "visibility": null,
       "width": null
      }
     },
     "467a0a3dad274a8e8bbd8a007aef077d": {
      "model_module": "@jupyter-widgets/controls",
      "model_module_version": "1.5.0",
      "model_name": "ProgressStyleModel",
      "state": {
       "_model_module": "@jupyter-widgets/controls",
       "_model_module_version": "1.5.0",
       "_model_name": "ProgressStyleModel",
       "_view_count": null,
       "_view_module": "@jupyter-widgets/base",
       "_view_module_version": "1.2.0",
       "_view_name": "StyleView",
       "bar_color": null,
       "description_width": ""
      }
     },
     "49b25d0401b245788a71b08afc3699fc": {
      "model_module": "@jupyter-widgets/controls",
      "model_module_version": "1.5.0",
      "model_name": "HTMLModel",
      "state": {
       "_dom_classes": [],
       "_model_module": "@jupyter-widgets/controls",
       "_model_module_version": "1.5.0",
       "_model_name": "HTMLModel",
       "_view_count": null,
       "_view_module": "@jupyter-widgets/controls",
       "_view_module_version": "1.5.0",
       "_view_name": "HTMLView",
       "description": "",
       "description_tooltip": null,
       "layout": "IPY_MODEL_64e9f683e628440c9c53efabb6d5b695",
       "placeholder": "​",
       "style": "IPY_MODEL_c6d24e07089947aca773aa5d7a3ec9dd",
       "value": " 7/7 [00:00&lt;00:00, 16.82it/s]"
      }
     },
     "4a214eb3882f43bbb8738d82c92c2bd9": {
      "model_module": "@jupyter-widgets/base",
      "model_module_version": "1.2.0",
      "model_name": "LayoutModel",
      "state": {
       "_model_module": "@jupyter-widgets/base",
       "_model_module_version": "1.2.0",
       "_model_name": "LayoutModel",
       "_view_count": null,
       "_view_module": "@jupyter-widgets/base",
       "_view_module_version": "1.2.0",
       "_view_name": "LayoutView",
       "align_content": null,
       "align_items": null,
       "align_self": null,
       "border": null,
       "bottom": null,
       "display": null,
       "flex": null,
       "flex_flow": null,
       "grid_area": null,
       "grid_auto_columns": null,
       "grid_auto_flow": null,
       "grid_auto_rows": null,
       "grid_column": null,
       "grid_gap": null,
       "grid_row": null,
       "grid_template_areas": null,
       "grid_template_columns": null,
       "grid_template_rows": null,
       "height": null,
       "justify_content": null,
       "justify_items": null,
       "left": null,
       "margin": null,
       "max_height": null,
       "max_width": null,
       "min_height": null,
       "min_width": null,
       "object_fit": null,
       "object_position": null,
       "order": null,
       "overflow": null,
       "overflow_x": null,
       "overflow_y": null,
       "padding": null,
       "right": null,
       "top": null,
       "visibility": null,
       "width": null
      }
     },
     "4bceb88a39e246f98cfd014443f92e43": {
      "model_module": "@jupyter-widgets/controls",
      "model_module_version": "1.5.0",
      "model_name": "HTMLModel",
      "state": {
       "_dom_classes": [],
       "_model_module": "@jupyter-widgets/controls",
       "_model_module_version": "1.5.0",
       "_model_name": "HTMLModel",
       "_view_count": null,
       "_view_module": "@jupyter-widgets/controls",
       "_view_module_version": "1.5.0",
       "_view_name": "HTMLView",
       "description": "",
       "description_tooltip": null,
       "layout": "IPY_MODEL_0b3031adfdc249f4bb283024c34d45d2",
       "placeholder": "​",
       "style": "IPY_MODEL_2c4ab17814e44041b162af23ba46cda1",
       "value": " 200/200 [00:04&lt;00:00, 50.24it/s]"
      }
     },
     "4dad6d479be74deda25abfcbb53962f0": {
      "model_module": "@jupyter-widgets/controls",
      "model_module_version": "1.5.0",
      "model_name": "DescriptionStyleModel",
      "state": {
       "_model_module": "@jupyter-widgets/controls",
       "_model_module_version": "1.5.0",
       "_model_name": "DescriptionStyleModel",
       "_view_count": null,
       "_view_module": "@jupyter-widgets/base",
       "_view_module_version": "1.2.0",
       "_view_name": "StyleView",
       "description_width": ""
      }
     },
     "51700f82ba5d493586ecc1cd56e5b08a": {
      "model_module": "@jupyter-widgets/controls",
      "model_module_version": "1.5.0",
      "model_name": "HTMLModel",
      "state": {
       "_dom_classes": [],
       "_model_module": "@jupyter-widgets/controls",
       "_model_module_version": "1.5.0",
       "_model_name": "HTMLModel",
       "_view_count": null,
       "_view_module": "@jupyter-widgets/controls",
       "_view_module_version": "1.5.0",
       "_view_name": "HTMLView",
       "description": "",
       "description_tooltip": null,
       "layout": "IPY_MODEL_45ccdc373466470a83457578cbb9ef9b",
       "placeholder": "​",
       "style": "IPY_MODEL_7bd49b406347494cb3910829fdd7d2bc",
       "value": "Batches: 100%"
      }
     },
     "5663c494d6d7407c8c8079e459c400be": {
      "model_module": "@jupyter-widgets/base",
      "model_module_version": "1.2.0",
      "model_name": "LayoutModel",
      "state": {
       "_model_module": "@jupyter-widgets/base",
       "_model_module_version": "1.2.0",
       "_model_name": "LayoutModel",
       "_view_count": null,
       "_view_module": "@jupyter-widgets/base",
       "_view_module_version": "1.2.0",
       "_view_name": "LayoutView",
       "align_content": null,
       "align_items": null,
       "align_self": null,
       "border": null,
       "bottom": null,
       "display": null,
       "flex": null,
       "flex_flow": null,
       "grid_area": null,
       "grid_auto_columns": null,
       "grid_auto_flow": null,
       "grid_auto_rows": null,
       "grid_column": null,
       "grid_gap": null,
       "grid_row": null,
       "grid_template_areas": null,
       "grid_template_columns": null,
       "grid_template_rows": null,
       "height": null,
       "justify_content": null,
       "justify_items": null,
       "left": null,
       "margin": null,
       "max_height": null,
       "max_width": null,
       "min_height": null,
       "min_width": null,
       "object_fit": null,
       "object_position": null,
       "order": null,
       "overflow": null,
       "overflow_x": null,
       "overflow_y": null,
       "padding": null,
       "right": null,
       "top": null,
       "visibility": null,
       "width": null
      }
     },
     "582aa88f607a4d588b4bdf14a0cf1a02": {
      "model_module": "@jupyter-widgets/controls",
      "model_module_version": "1.5.0",
      "model_name": "HTMLModel",
      "state": {
       "_dom_classes": [],
       "_model_module": "@jupyter-widgets/controls",
       "_model_module_version": "1.5.0",
       "_model_name": "HTMLModel",
       "_view_count": null,
       "_view_module": "@jupyter-widgets/controls",
       "_view_module_version": "1.5.0",
       "_view_name": "HTMLView",
       "description": "",
       "description_tooltip": null,
       "layout": "IPY_MODEL_6875990378674798b32cc5694a428ec1",
       "placeholder": "​",
       "style": "IPY_MODEL_a59e8794a52147afa058660afc606f02",
       "value": "Loading checkpoint shards: 100%"
      }
     },
     "5a5d10eb97c846358f81afda27d4ef19": {
      "model_module": "@jupyter-widgets/base",
      "model_module_version": "1.2.0",
      "model_name": "LayoutModel",
      "state": {
       "_model_module": "@jupyter-widgets/base",
       "_model_module_version": "1.2.0",
       "_model_name": "LayoutModel",
       "_view_count": null,
       "_view_module": "@jupyter-widgets/base",
       "_view_module_version": "1.2.0",
       "_view_name": "LayoutView",
       "align_content": null,
       "align_items": null,
       "align_self": null,
       "border": null,
       "bottom": null,
       "display": null,
       "flex": null,
       "flex_flow": null,
       "grid_area": null,
       "grid_auto_columns": null,
       "grid_auto_flow": null,
       "grid_auto_rows": null,
       "grid_column": null,
       "grid_gap": null,
       "grid_row": null,
       "grid_template_areas": null,
       "grid_template_columns": null,
       "grid_template_rows": null,
       "height": null,
       "justify_content": null,
       "justify_items": null,
       "left": null,
       "margin": null,
       "max_height": null,
       "max_width": null,
       "min_height": null,
       "min_width": null,
       "object_fit": null,
       "object_position": null,
       "order": null,
       "overflow": null,
       "overflow_x": null,
       "overflow_y": null,
       "padding": null,
       "right": null,
       "top": null,
       "visibility": null,
       "width": null
      }
     },
     "5e55ad087a4342bd811c547402e7230d": {
      "model_module": "@jupyter-widgets/controls",
      "model_module_version": "1.5.0",
      "model_name": "FloatProgressModel",
      "state": {
       "_dom_classes": [],
       "_model_module": "@jupyter-widgets/controls",
       "_model_module_version": "1.5.0",
       "_model_name": "FloatProgressModel",
       "_view_count": null,
       "_view_module": "@jupyter-widgets/controls",
       "_view_module_version": "1.5.0",
       "_view_name": "ProgressView",
       "bar_style": "success",
       "description": "",
       "description_tooltip": null,
       "layout": "IPY_MODEL_a840b31efb374d81afc7deec5f58df3f",
       "max": 1991.0,
       "min": 0.0,
       "orientation": "horizontal",
       "style": "IPY_MODEL_34584566a54a4a299cac7808be4e018e",
       "value": 1991.0
      }
     },
     "5e973087a7684eb2aa9f9603dc08809f": {
      "model_module": "@jupyter-widgets/base",
      "model_module_version": "1.2.0",
      "model_name": "LayoutModel",
      "state": {
       "_model_module": "@jupyter-widgets/base",
       "_model_module_version": "1.2.0",
       "_model_name": "LayoutModel",
       "_view_count": null,
       "_view_module": "@jupyter-widgets/base",
       "_view_module_version": "1.2.0",
       "_view_name": "LayoutView",
       "align_content": null,
       "align_items": null,
       "align_self": null,
       "border": null,
       "bottom": null,
       "display": null,
       "flex": null,
       "flex_flow": null,
       "grid_area": null,
       "grid_auto_columns": null,
       "grid_auto_flow": null,
       "grid_auto_rows": null,
       "grid_column": null,
       "grid_gap": null,
       "grid_row": null,
       "grid_template_areas": null,
       "grid_template_columns": null,
       "grid_template_rows": null,
       "height": null,
       "justify_content": null,
       "justify_items": null,
       "left": null,
       "margin": null,
       "max_height": null,
       "max_width": null,
       "min_height": null,
       "min_width": null,
       "object_fit": null,
       "object_position": null,
       "order": null,
       "overflow": null,
       "overflow_x": null,
       "overflow_y": null,
       "padding": null,
       "right": null,
       "top": null,
       "visibility": null,
       "width": null
      }
     },
     "5f3d7853f5d04f8bb1bc487ea9619d0e": {
      "model_module": "@jupyter-widgets/base",
      "model_module_version": "1.2.0",
      "model_name": "LayoutModel",
      "state": {
       "_model_module": "@jupyter-widgets/base",
       "_model_module_version": "1.2.0",
       "_model_name": "LayoutModel",
       "_view_count": null,
       "_view_module": "@jupyter-widgets/base",
       "_view_module_version": "1.2.0",
       "_view_name": "LayoutView",
       "align_content": null,
       "align_items": null,
       "align_self": null,
       "border": null,
       "bottom": null,
       "display": null,
       "flex": null,
       "flex_flow": null,
       "grid_area": null,
       "grid_auto_columns": null,
       "grid_auto_flow": null,
       "grid_auto_rows": null,
       "grid_column": null,
       "grid_gap": null,
       "grid_row": null,
       "grid_template_areas": null,
       "grid_template_columns": null,
       "grid_template_rows": null,
       "height": null,
       "justify_content": null,
       "justify_items": null,
       "left": null,
       "margin": null,
       "max_height": null,
       "max_width": null,
       "min_height": null,
       "min_width": null,
       "object_fit": null,
       "object_position": null,
       "order": null,
       "overflow": null,
       "overflow_x": null,
       "overflow_y": null,
       "padding": null,
       "right": null,
       "top": null,
       "visibility": null,
       "width": null
      }
     },
     "5fe50fecfc9940ffb10c18e4efc23089": {
      "model_module": "@jupyter-widgets/base",
      "model_module_version": "1.2.0",
      "model_name": "LayoutModel",
      "state": {
       "_model_module": "@jupyter-widgets/base",
       "_model_module_version": "1.2.0",
       "_model_name": "LayoutModel",
       "_view_count": null,
       "_view_module": "@jupyter-widgets/base",
       "_view_module_version": "1.2.0",
       "_view_name": "LayoutView",
       "align_content": null,
       "align_items": null,
       "align_self": null,
       "border": null,
       "bottom": null,
       "display": null,
       "flex": null,
       "flex_flow": null,
       "grid_area": null,
       "grid_auto_columns": null,
       "grid_auto_flow": null,
       "grid_auto_rows": null,
       "grid_column": null,
       "grid_gap": null,
       "grid_row": null,
       "grid_template_areas": null,
       "grid_template_columns": null,
       "grid_template_rows": null,
       "height": null,
       "justify_content": null,
       "justify_items": null,
       "left": null,
       "margin": null,
       "max_height": null,
       "max_width": null,
       "min_height": null,
       "min_width": null,
       "object_fit": null,
       "object_position": null,
       "order": null,
       "overflow": null,
       "overflow_x": null,
       "overflow_y": null,
       "padding": null,
       "right": null,
       "top": null,
       "visibility": null,
       "width": null
      }
     },
     "60a8412fd70843e185665d8a43488ba6": {
      "model_module": "@jupyter-widgets/controls",
      "model_module_version": "1.5.0",
      "model_name": "DescriptionStyleModel",
      "state": {
       "_model_module": "@jupyter-widgets/controls",
       "_model_module_version": "1.5.0",
       "_model_name": "DescriptionStyleModel",
       "_view_count": null,
       "_view_module": "@jupyter-widgets/base",
       "_view_module_version": "1.2.0",
       "_view_name": "StyleView",
       "description_width": ""
      }
     },
     "64e9f683e628440c9c53efabb6d5b695": {
      "model_module": "@jupyter-widgets/base",
      "model_module_version": "1.2.0",
      "model_name": "LayoutModel",
      "state": {
       "_model_module": "@jupyter-widgets/base",
       "_model_module_version": "1.2.0",
       "_model_name": "LayoutModel",
       "_view_count": null,
       "_view_module": "@jupyter-widgets/base",
       "_view_module_version": "1.2.0",
       "_view_name": "LayoutView",
       "align_content": null,
       "align_items": null,
       "align_self": null,
       "border": null,
       "bottom": null,
       "display": null,
       "flex": null,
       "flex_flow": null,
       "grid_area": null,
       "grid_auto_columns": null,
       "grid_auto_flow": null,
       "grid_auto_rows": null,
       "grid_column": null,
       "grid_gap": null,
       "grid_row": null,
       "grid_template_areas": null,
       "grid_template_columns": null,
       "grid_template_rows": null,
       "height": null,
       "justify_content": null,
       "justify_items": null,
       "left": null,
       "margin": null,
       "max_height": null,
       "max_width": null,
       "min_height": null,
       "min_width": null,
       "object_fit": null,
       "object_position": null,
       "order": null,
       "overflow": null,
       "overflow_x": null,
       "overflow_y": null,
       "padding": null,
       "right": null,
       "top": null,
       "visibility": null,
       "width": null
      }
     },
     "659b3518710d45a3a36afe0f0cf87478": {
      "model_module": "@jupyter-widgets/base",
      "model_module_version": "1.2.0",
      "model_name": "LayoutModel",
      "state": {
       "_model_module": "@jupyter-widgets/base",
       "_model_module_version": "1.2.0",
       "_model_name": "LayoutModel",
       "_view_count": null,
       "_view_module": "@jupyter-widgets/base",
       "_view_module_version": "1.2.0",
       "_view_name": "LayoutView",
       "align_content": null,
       "align_items": null,
       "align_self": null,
       "border": null,
       "bottom": null,
       "display": null,
       "flex": null,
       "flex_flow": null,
       "grid_area": null,
       "grid_auto_columns": null,
       "grid_auto_flow": null,
       "grid_auto_rows": null,
       "grid_column": null,
       "grid_gap": null,
       "grid_row": null,
       "grid_template_areas": null,
       "grid_template_columns": null,
       "grid_template_rows": null,
       "height": null,
       "justify_content": null,
       "justify_items": null,
       "left": null,
       "margin": null,
       "max_height": null,
       "max_width": null,
       "min_height": null,
       "min_width": null,
       "object_fit": null,
       "object_position": null,
       "order": null,
       "overflow": null,
       "overflow_x": null,
       "overflow_y": null,
       "padding": null,
       "right": null,
       "top": null,
       "visibility": null,
       "width": null
      }
     },
     "660d58f16638491c9ec315a275f8cef4": {
      "model_module": "@jupyter-widgets/controls",
      "model_module_version": "1.5.0",
      "model_name": "DescriptionStyleModel",
      "state": {
       "_model_module": "@jupyter-widgets/controls",
       "_model_module_version": "1.5.0",
       "_model_name": "DescriptionStyleModel",
       "_view_count": null,
       "_view_module": "@jupyter-widgets/base",
       "_view_module_version": "1.2.0",
       "_view_name": "StyleView",
       "description_width": ""
      }
     },
     "6676411c124248e6bea76a5e93b4c32e": {
      "model_module": "@jupyter-widgets/controls",
      "model_module_version": "1.5.0",
      "model_name": "HTMLModel",
      "state": {
       "_dom_classes": [],
       "_model_module": "@jupyter-widgets/controls",
       "_model_module_version": "1.5.0",
       "_model_name": "HTMLModel",
       "_view_count": null,
       "_view_module": "@jupyter-widgets/controls",
       "_view_module_version": "1.5.0",
       "_view_name": "HTMLView",
       "description": "",
       "description_tooltip": null,
       "layout": "IPY_MODEL_d1cfb9e2fabf4cda9a9d4630fb204829",
       "placeholder": "​",
       "style": "IPY_MODEL_78ad44c459104ad3b5665bb34af59785",
       "value": " 1120/1120 [00:08&lt;00:00, 145.56it/s]"
      }
     },
     "679ffd38d5954f5695dc5345f2b7751b": {
      "model_module": "@jupyter-widgets/controls",
      "model_module_version": "1.5.0",
      "model_name": "DescriptionStyleModel",
      "state": {
       "_model_module": "@jupyter-widgets/controls",
       "_model_module_version": "1.5.0",
       "_model_name": "DescriptionStyleModel",
       "_view_count": null,
       "_view_module": "@jupyter-widgets/base",
       "_view_module_version": "1.2.0",
       "_view_name": "StyleView",
       "description_width": ""
      }
     },
     "6875990378674798b32cc5694a428ec1": {
      "model_module": "@jupyter-widgets/base",
      "model_module_version": "1.2.0",
      "model_name": "LayoutModel",
      "state": {
       "_model_module": "@jupyter-widgets/base",
       "_model_module_version": "1.2.0",
       "_model_name": "LayoutModel",
       "_view_count": null,
       "_view_module": "@jupyter-widgets/base",
       "_view_module_version": "1.2.0",
       "_view_name": "LayoutView",
       "align_content": null,
       "align_items": null,
       "align_self": null,
       "border": null,
       "bottom": null,
       "display": null,
       "flex": null,
       "flex_flow": null,
       "grid_area": null,
       "grid_auto_columns": null,
       "grid_auto_flow": null,
       "grid_auto_rows": null,
       "grid_column": null,
       "grid_gap": null,
       "grid_row": null,
       "grid_template_areas": null,
       "grid_template_columns": null,
       "grid_template_rows": null,
       "height": null,
       "justify_content": null,
       "justify_items": null,
       "left": null,
       "margin": null,
       "max_height": null,
       "max_width": null,
       "min_height": null,
       "min_width": null,
       "object_fit": null,
       "object_position": null,
       "order": null,
       "overflow": null,
       "overflow_x": null,
       "overflow_y": null,
       "padding": null,
       "right": null,
       "top": null,
       "visibility": null,
       "width": null
      }
     },
     "68edba74971943dc860e260207ecbb7c": {
      "model_module": "@jupyter-widgets/controls",
      "model_module_version": "1.5.0",
      "model_name": "ProgressStyleModel",
      "state": {
       "_model_module": "@jupyter-widgets/controls",
       "_model_module_version": "1.5.0",
       "_model_name": "ProgressStyleModel",
       "_view_count": null,
       "_view_module": "@jupyter-widgets/base",
       "_view_module_version": "1.2.0",
       "_view_name": "StyleView",
       "bar_color": null,
       "description_width": ""
      }
     },
     "6e71df3699824ba5b653ecd3e0505b23": {
      "model_module": "@jupyter-widgets/base",
      "model_module_version": "1.2.0",
      "model_name": "LayoutModel",
      "state": {
       "_model_module": "@jupyter-widgets/base",
       "_model_module_version": "1.2.0",
       "_model_name": "LayoutModel",
       "_view_count": null,
       "_view_module": "@jupyter-widgets/base",
       "_view_module_version": "1.2.0",
       "_view_name": "LayoutView",
       "align_content": null,
       "align_items": null,
       "align_self": null,
       "border": null,
       "bottom": null,
       "display": null,
       "flex": null,
       "flex_flow": null,
       "grid_area": null,
       "grid_auto_columns": null,
       "grid_auto_flow": null,
       "grid_auto_rows": null,
       "grid_column": null,
       "grid_gap": null,
       "grid_row": null,
       "grid_template_areas": null,
       "grid_template_columns": null,
       "grid_template_rows": null,
       "height": null,
       "justify_content": null,
       "justify_items": null,
       "left": null,
       "margin": null,
       "max_height": null,
       "max_width": null,
       "min_height": null,
       "min_width": null,
       "object_fit": null,
       "object_position": null,
       "order": null,
       "overflow": null,
       "overflow_x": null,
       "overflow_y": null,
       "padding": null,
       "right": null,
       "top": null,
       "visibility": null,
       "width": null
      }
     },
     "7191555275c14bf8917b6039b9fd1263": {
      "model_module": "@jupyter-widgets/base",
      "model_module_version": "1.2.0",
      "model_name": "LayoutModel",
      "state": {
       "_model_module": "@jupyter-widgets/base",
       "_model_module_version": "1.2.0",
       "_model_name": "LayoutModel",
       "_view_count": null,
       "_view_module": "@jupyter-widgets/base",
       "_view_module_version": "1.2.0",
       "_view_name": "LayoutView",
       "align_content": null,
       "align_items": null,
       "align_self": null,
       "border": null,
       "bottom": null,
       "display": null,
       "flex": null,
       "flex_flow": null,
       "grid_area": null,
       "grid_auto_columns": null,
       "grid_auto_flow": null,
       "grid_auto_rows": null,
       "grid_column": null,
       "grid_gap": null,
       "grid_row": null,
       "grid_template_areas": null,
       "grid_template_columns": null,
       "grid_template_rows": null,
       "height": null,
       "justify_content": null,
       "justify_items": null,
       "left": null,
       "margin": null,
       "max_height": null,
       "max_width": null,
       "min_height": null,
       "min_width": null,
       "object_fit": null,
       "object_position": null,
       "order": null,
       "overflow": null,
       "overflow_x": null,
       "overflow_y": null,
       "padding": null,
       "right": null,
       "top": null,
       "visibility": null,
       "width": null
      }
     },
     "73c78a0f79894733b160e28d82b02666": {
      "model_module": "@jupyter-widgets/base",
      "model_module_version": "1.2.0",
      "model_name": "LayoutModel",
      "state": {
       "_model_module": "@jupyter-widgets/base",
       "_model_module_version": "1.2.0",
       "_model_name": "LayoutModel",
       "_view_count": null,
       "_view_module": "@jupyter-widgets/base",
       "_view_module_version": "1.2.0",
       "_view_name": "LayoutView",
       "align_content": null,
       "align_items": null,
       "align_self": null,
       "border": null,
       "bottom": null,
       "display": null,
       "flex": null,
       "flex_flow": null,
       "grid_area": null,
       "grid_auto_columns": null,
       "grid_auto_flow": null,
       "grid_auto_rows": null,
       "grid_column": null,
       "grid_gap": null,
       "grid_row": null,
       "grid_template_areas": null,
       "grid_template_columns": null,
       "grid_template_rows": null,
       "height": null,
       "justify_content": null,
       "justify_items": null,
       "left": null,
       "margin": null,
       "max_height": null,
       "max_width": null,
       "min_height": null,
       "min_width": null,
       "object_fit": null,
       "object_position": null,
       "order": null,
       "overflow": null,
       "overflow_x": null,
       "overflow_y": null,
       "padding": null,
       "right": null,
       "top": null,
       "visibility": null,
       "width": null
      }
     },
     "77a69538f2d944b89b827647daf3e502": {
      "model_module": "@jupyter-widgets/controls",
      "model_module_version": "1.5.0",
      "model_name": "ProgressStyleModel",
      "state": {
       "_model_module": "@jupyter-widgets/controls",
       "_model_module_version": "1.5.0",
       "_model_name": "ProgressStyleModel",
       "_view_count": null,
       "_view_module": "@jupyter-widgets/base",
       "_view_module_version": "1.2.0",
       "_view_name": "StyleView",
       "bar_color": null,
       "description_width": ""
      }
     },
     "78ad44c459104ad3b5665bb34af59785": {
      "model_module": "@jupyter-widgets/controls",
      "model_module_version": "1.5.0",
      "model_name": "DescriptionStyleModel",
      "state": {
       "_model_module": "@jupyter-widgets/controls",
       "_model_module_version": "1.5.0",
       "_model_name": "DescriptionStyleModel",
       "_view_count": null,
       "_view_module": "@jupyter-widgets/base",
       "_view_module_version": "1.2.0",
       "_view_name": "StyleView",
       "description_width": ""
      }
     },
     "7a1d6afa7f7b460f8213f891eea6cee0": {
      "model_module": "@jupyter-widgets/controls",
      "model_module_version": "1.5.0",
      "model_name": "ProgressStyleModel",
      "state": {
       "_model_module": "@jupyter-widgets/controls",
       "_model_module_version": "1.5.0",
       "_model_name": "ProgressStyleModel",
       "_view_count": null,
       "_view_module": "@jupyter-widgets/base",
       "_view_module_version": "1.2.0",
       "_view_name": "StyleView",
       "bar_color": null,
       "description_width": ""
      }
     },
     "7b4c8886b88d4fc08ecca85f2804edef": {
      "model_module": "@jupyter-widgets/controls",
      "model_module_version": "1.5.0",
      "model_name": "HBoxModel",
      "state": {
       "_dom_classes": [],
       "_model_module": "@jupyter-widgets/controls",
       "_model_module_version": "1.5.0",
       "_model_name": "HBoxModel",
       "_view_count": null,
       "_view_module": "@jupyter-widgets/controls",
       "_view_module_version": "1.5.0",
       "_view_name": "HBoxView",
       "box_style": "",
       "children": [
        "IPY_MODEL_f06de023a4a7460b9bce1eb9c5bebad1",
        "IPY_MODEL_5e55ad087a4342bd811c547402e7230d",
        "IPY_MODEL_a49e4b495fe446d589f9f1ad02b63f77"
       ],
       "layout": "IPY_MODEL_830866129fe04e0bb20c0243a19a4ee5"
      }
     },
     "7bd49b406347494cb3910829fdd7d2bc": {
      "model_module": "@jupyter-widgets/controls",
      "model_module_version": "1.5.0",
      "model_name": "DescriptionStyleModel",
      "state": {
       "_model_module": "@jupyter-widgets/controls",
       "_model_module_version": "1.5.0",
       "_model_name": "DescriptionStyleModel",
       "_view_count": null,
       "_view_module": "@jupyter-widgets/base",
       "_view_module_version": "1.2.0",
       "_view_name": "StyleView",
       "description_width": ""
      }
     },
     "7d8fb0cd662243e1b0d8a557c4affd46": {
      "model_module": "@jupyter-widgets/controls",
      "model_module_version": "1.5.0",
      "model_name": "HBoxModel",
      "state": {
       "_dom_classes": [],
       "_model_module": "@jupyter-widgets/controls",
       "_model_module_version": "1.5.0",
       "_model_name": "HBoxModel",
       "_view_count": null,
       "_view_module": "@jupyter-widgets/controls",
       "_view_module_version": "1.5.0",
       "_view_name": "HBoxView",
       "box_style": "",
       "children": [
        "IPY_MODEL_51700f82ba5d493586ecc1cd56e5b08a",
        "IPY_MODEL_7f84f6b5f22346d1814dec915dd8bcf7",
        "IPY_MODEL_49b25d0401b245788a71b08afc3699fc"
       ],
       "layout": "IPY_MODEL_1e6792ccdf74486a82d356c6f6c2d0b0"
      }
     },
     "7f84f6b5f22346d1814dec915dd8bcf7": {
      "model_module": "@jupyter-widgets/controls",
      "model_module_version": "1.5.0",
      "model_name": "FloatProgressModel",
      "state": {
       "_dom_classes": [],
       "_model_module": "@jupyter-widgets/controls",
       "_model_module_version": "1.5.0",
       "_model_name": "FloatProgressModel",
       "_view_count": null,
       "_view_module": "@jupyter-widgets/controls",
       "_view_module_version": "1.5.0",
       "_view_name": "ProgressView",
       "bar_style": "success",
       "description": "",
       "description_tooltip": null,
       "layout": "IPY_MODEL_95f61da19dcd4d1d91bd0628d9c7f2f6",
       "max": 7.0,
       "min": 0.0,
       "orientation": "horizontal",
       "style": "IPY_MODEL_7a1d6afa7f7b460f8213f891eea6cee0",
       "value": 7.0
      }
     },
     "826bb14f644d4c8c8dc5e09e1807f241": {
      "model_module": "@jupyter-widgets/base",
      "model_module_version": "1.2.0",
      "model_name": "LayoutModel",
      "state": {
       "_model_module": "@jupyter-widgets/base",
       "_model_module_version": "1.2.0",
       "_model_name": "LayoutModel",
       "_view_count": null,
       "_view_module": "@jupyter-widgets/base",
       "_view_module_version": "1.2.0",
       "_view_name": "LayoutView",
       "align_content": null,
       "align_items": null,
       "align_self": null,
       "border": null,
       "bottom": null,
       "display": null,
       "flex": null,
       "flex_flow": null,
       "grid_area": null,
       "grid_auto_columns": null,
       "grid_auto_flow": null,
       "grid_auto_rows": null,
       "grid_column": null,
       "grid_gap": null,
       "grid_row": null,
       "grid_template_areas": null,
       "grid_template_columns": null,
       "grid_template_rows": null,
       "height": null,
       "justify_content": null,
       "justify_items": null,
       "left": null,
       "margin": null,
       "max_height": null,
       "max_width": null,
       "min_height": null,
       "min_width": null,
       "object_fit": null,
       "object_position": null,
       "order": null,
       "overflow": null,
       "overflow_x": null,
       "overflow_y": null,
       "padding": null,
       "right": null,
       "top": null,
       "visibility": null,
       "width": null
      }
     },
     "82a69966c5134cd78dd3976d0ea9706f": {
      "model_module": "@jupyter-widgets/controls",
      "model_module_version": "1.5.0",
      "model_name": "HTMLModel",
      "state": {
       "_dom_classes": [],
       "_model_module": "@jupyter-widgets/controls",
       "_model_module_version": "1.5.0",
       "_model_name": "HTMLModel",
       "_view_count": null,
       "_view_module": "@jupyter-widgets/controls",
       "_view_module_version": "1.5.0",
       "_view_name": "HTMLView",
       "description": "",
       "description_tooltip": null,
       "layout": "IPY_MODEL_ffc83fe4097b412c8abff1b90184852f",
       "placeholder": "​",
       "style": "IPY_MODEL_eeaa6698ab104cb182307850df44e9bf",
       "value": "100%"
      }
     },
     "82bec11161de4bc0af8592f089a50c4f": {
      "model_module": "@jupyter-widgets/controls",
      "model_module_version": "1.5.0",
      "model_name": "HTMLModel",
      "state": {
       "_dom_classes": [],
       "_model_module": "@jupyter-widgets/controls",
       "_model_module_version": "1.5.0",
       "_model_name": "HTMLModel",
       "_view_count": null,
       "_view_module": "@jupyter-widgets/controls",
       "_view_module_version": "1.5.0",
       "_view_name": "HTMLView",
       "description": "",
       "description_tooltip": null,
       "layout": "IPY_MODEL_03164e1eef334965b6d114f18b2ae5d9",
       "placeholder": "​",
       "style": "IPY_MODEL_660d58f16638491c9ec315a275f8cef4",
       "value": " 2/2 [02:29&lt;00:00, 68.16s/it]"
      }
     },
     "830866129fe04e0bb20c0243a19a4ee5": {
      "model_module": "@jupyter-widgets/base",
      "model_module_version": "1.2.0",
      "model_name": "LayoutModel",
      "state": {
       "_model_module": "@jupyter-widgets/base",
       "_model_module_version": "1.2.0",
       "_model_name": "LayoutModel",
       "_view_count": null,
       "_view_module": "@jupyter-widgets/base",
       "_view_module_version": "1.2.0",
       "_view_name": "LayoutView",
       "align_content": null,
       "align_items": null,
       "align_self": null,
       "border": null,
       "bottom": null,
       "display": null,
       "flex": null,
       "flex_flow": null,
       "grid_area": null,
       "grid_auto_columns": null,
       "grid_auto_flow": null,
       "grid_auto_rows": null,
       "grid_column": null,
       "grid_gap": null,
       "grid_row": null,
       "grid_template_areas": null,
       "grid_template_columns": null,
       "grid_template_rows": null,
       "height": null,
       "justify_content": null,
       "justify_items": null,
       "left": null,
       "margin": null,
       "max_height": null,
       "max_width": null,
       "min_height": null,
       "min_width": null,
       "object_fit": null,
       "object_position": null,
       "order": null,
       "overflow": null,
       "overflow_x": null,
       "overflow_y": null,
       "padding": null,
       "right": null,
       "top": null,
       "visibility": null,
       "width": null
      }
     },
     "858f56a90e984797bab3b6fac43ef10f": {
      "model_module": "@jupyter-widgets/controls",
      "model_module_version": "1.5.0",
      "model_name": "HTMLModel",
      "state": {
       "_dom_classes": [],
       "_model_module": "@jupyter-widgets/controls",
       "_model_module_version": "1.5.0",
       "_model_name": "HTMLModel",
       "_view_count": null,
       "_view_module": "@jupyter-widgets/controls",
       "_view_module_version": "1.5.0",
       "_view_name": "HTMLView",
       "description": "",
       "description_tooltip": null,
       "layout": "IPY_MODEL_6e71df3699824ba5b653ecd3e0505b23",
       "placeholder": "​",
       "style": "IPY_MODEL_ddd73a84041948b89c44fadecae1d838",
       "value": " 27/27 [04:05&lt;00:00,  3.59s/it]"
      }
     },
     "85e5490ecf3e49459251492e41532667": {
      "model_module": "@jupyter-widgets/controls",
      "model_module_version": "1.5.0",
      "model_name": "HBoxModel",
      "state": {
       "_dom_classes": [],
       "_model_module": "@jupyter-widgets/controls",
       "_model_module_version": "1.5.0",
       "_model_name": "HBoxModel",
       "_view_count": null,
       "_view_module": "@jupyter-widgets/controls",
       "_view_module_version": "1.5.0",
       "_view_name": "HBoxView",
       "box_style": "",
       "children": [
        "IPY_MODEL_97b5973a1d0f4270b208b6d4b3de023f",
        "IPY_MODEL_94567e329c1646439970487079f6460b",
        "IPY_MODEL_d1e4d1d85f16440a92b64aacdde9d038"
       ],
       "layout": "IPY_MODEL_7191555275c14bf8917b6039b9fd1263"
      }
     },
     "8b40ca31b2bb487599f1b35da392fe08": {
      "model_module": "@jupyter-widgets/controls",
      "model_module_version": "1.5.0",
      "model_name": "HBoxModel",
      "state": {
       "_dom_classes": [],
       "_model_module": "@jupyter-widgets/controls",
       "_model_module_version": "1.5.0",
       "_model_name": "HBoxModel",
       "_view_count": null,
       "_view_module": "@jupyter-widgets/controls",
       "_view_module_version": "1.5.0",
       "_view_name": "HBoxView",
       "box_style": "",
       "children": [
        "IPY_MODEL_e3bbc4efb50340e5a775f9101e2f75eb",
        "IPY_MODEL_bf74cf39361b4935ae9d7a6cd7bc8059",
        "IPY_MODEL_4bceb88a39e246f98cfd014443f92e43"
       ],
       "layout": "IPY_MODEL_659b3518710d45a3a36afe0f0cf87478"
      }
     },
     "8bfdee8bd19248228c90a1ff2c0b21b8": {
      "model_module": "@jupyter-widgets/controls",
      "model_module_version": "1.5.0",
      "model_name": "FloatProgressModel",
      "state": {
       "_dom_classes": [],
       "_model_module": "@jupyter-widgets/controls",
       "_model_module_version": "1.5.0",
       "_model_name": "FloatProgressModel",
       "_view_count": null,
       "_view_module": "@jupyter-widgets/controls",
       "_view_module_version": "1.5.0",
       "_view_name": "ProgressView",
       "bar_style": "success",
       "description": "",
       "description_tooltip": null,
       "layout": "IPY_MODEL_73c78a0f79894733b160e28d82b02666",
       "max": 1120.0,
       "min": 0.0,
       "orientation": "horizontal",
       "style": "IPY_MODEL_68edba74971943dc860e260207ecbb7c",
       "value": 1120.0
      }
     },
     "8d42910adcfa4bf886926f5ec3923722": {
      "model_module": "@jupyter-widgets/controls",
      "model_module_version": "1.5.0",
      "model_name": "ProgressStyleModel",
      "state": {
       "_model_module": "@jupyter-widgets/controls",
       "_model_module_version": "1.5.0",
       "_model_name": "ProgressStyleModel",
       "_view_count": null,
       "_view_module": "@jupyter-widgets/base",
       "_view_module_version": "1.2.0",
       "_view_name": "StyleView",
       "bar_color": null,
       "description_width": ""
      }
     },
     "8d4b039c49d94fc2ba5c28ec757f5518": {
      "model_module": "@jupyter-widgets/controls",
      "model_module_version": "1.5.0",
      "model_name": "DescriptionStyleModel",
      "state": {
       "_model_module": "@jupyter-widgets/controls",
       "_model_module_version": "1.5.0",
       "_model_name": "DescriptionStyleModel",
       "_view_count": null,
       "_view_module": "@jupyter-widgets/base",
       "_view_module_version": "1.2.0",
       "_view_name": "StyleView",
       "description_width": ""
      }
     },
     "8ec0febb24fa480085ef1ca0de0e0b49": {
      "model_module": "@jupyter-widgets/controls",
      "model_module_version": "1.5.0",
      "model_name": "FloatProgressModel",
      "state": {
       "_dom_classes": [],
       "_model_module": "@jupyter-widgets/controls",
       "_model_module_version": "1.5.0",
       "_model_name": "FloatProgressModel",
       "_view_count": null,
       "_view_module": "@jupyter-widgets/controls",
       "_view_module_version": "1.5.0",
       "_view_name": "ProgressView",
       "bar_style": "success",
       "description": "",
       "description_tooltip": null,
       "layout": "IPY_MODEL_183bf21e84a44a41878b832d5b59c284",
       "max": 1120.0,
       "min": 0.0,
       "orientation": "horizontal",
       "style": "IPY_MODEL_77a69538f2d944b89b827647daf3e502",
       "value": 1120.0
      }
     },
     "94567e329c1646439970487079f6460b": {
      "model_module": "@jupyter-widgets/controls",
      "model_module_version": "1.5.0",
      "model_name": "FloatProgressModel",
      "state": {
       "_dom_classes": [],
       "_model_module": "@jupyter-widgets/controls",
       "_model_module_version": "1.5.0",
       "_model_name": "FloatProgressModel",
       "_view_count": null,
       "_view_module": "@jupyter-widgets/controls",
       "_view_module_version": "1.5.0",
       "_view_name": "ProgressView",
       "bar_style": "success",
       "description": "",
       "description_tooltip": null,
       "layout": "IPY_MODEL_3e0fc044fa4e4cf1839abb4ed494e53a",
       "max": 7.0,
       "min": 0.0,
       "orientation": "horizontal",
       "style": "IPY_MODEL_8d42910adcfa4bf886926f5ec3923722",
       "value": 7.0
      }
     },
     "95a9fbc872344b619e35deddfeafb2f1": {
      "model_module": "@jupyter-widgets/base",
      "model_module_version": "1.2.0",
      "model_name": "LayoutModel",
      "state": {
       "_model_module": "@jupyter-widgets/base",
       "_model_module_version": "1.2.0",
       "_model_name": "LayoutModel",
       "_view_count": null,
       "_view_module": "@jupyter-widgets/base",
       "_view_module_version": "1.2.0",
       "_view_name": "LayoutView",
       "align_content": null,
       "align_items": null,
       "align_self": null,
       "border": null,
       "bottom": null,
       "display": null,
       "flex": null,
       "flex_flow": null,
       "grid_area": null,
       "grid_auto_columns": null,
       "grid_auto_flow": null,
       "grid_auto_rows": null,
       "grid_column": null,
       "grid_gap": null,
       "grid_row": null,
       "grid_template_areas": null,
       "grid_template_columns": null,
       "grid_template_rows": null,
       "height": null,
       "justify_content": null,
       "justify_items": null,
       "left": null,
       "margin": null,
       "max_height": null,
       "max_width": null,
       "min_height": null,
       "min_width": null,
       "object_fit": null,
       "object_position": null,
       "order": null,
       "overflow": null,
       "overflow_x": null,
       "overflow_y": null,
       "padding": null,
       "right": null,
       "top": null,
       "visibility": null,
       "width": null
      }
     },
     "95f61da19dcd4d1d91bd0628d9c7f2f6": {
      "model_module": "@jupyter-widgets/base",
      "model_module_version": "1.2.0",
      "model_name": "LayoutModel",
      "state": {
       "_model_module": "@jupyter-widgets/base",
       "_model_module_version": "1.2.0",
       "_model_name": "LayoutModel",
       "_view_count": null,
       "_view_module": "@jupyter-widgets/base",
       "_view_module_version": "1.2.0",
       "_view_name": "LayoutView",
       "align_content": null,
       "align_items": null,
       "align_self": null,
       "border": null,
       "bottom": null,
       "display": null,
       "flex": null,
       "flex_flow": null,
       "grid_area": null,
       "grid_auto_columns": null,
       "grid_auto_flow": null,
       "grid_auto_rows": null,
       "grid_column": null,
       "grid_gap": null,
       "grid_row": null,
       "grid_template_areas": null,
       "grid_template_columns": null,
       "grid_template_rows": null,
       "height": null,
       "justify_content": null,
       "justify_items": null,
       "left": null,
       "margin": null,
       "max_height": null,
       "max_width": null,
       "min_height": null,
       "min_width": null,
       "object_fit": null,
       "object_position": null,
       "order": null,
       "overflow": null,
       "overflow_x": null,
       "overflow_y": null,
       "padding": null,
       "right": null,
       "top": null,
       "visibility": null,
       "width": null
      }
     },
     "97b5973a1d0f4270b208b6d4b3de023f": {
      "model_module": "@jupyter-widgets/controls",
      "model_module_version": "1.5.0",
      "model_name": "HTMLModel",
      "state": {
       "_dom_classes": [],
       "_model_module": "@jupyter-widgets/controls",
       "_model_module_version": "1.5.0",
       "_model_name": "HTMLModel",
       "_view_count": null,
       "_view_module": "@jupyter-widgets/controls",
       "_view_module_version": "1.5.0",
       "_view_name": "HTMLView",
       "description": "",
       "description_tooltip": null,
       "layout": "IPY_MODEL_95a9fbc872344b619e35deddfeafb2f1",
       "placeholder": "​",
       "style": "IPY_MODEL_169cf63252c149f2b6b47f93c6423fe4",
       "value": "Batches: 100%"
      }
     },
     "9f89bcccd2b24f9fb6427ee553469bc2": {
      "model_module": "@jupyter-widgets/base",
      "model_module_version": "1.2.0",
      "model_name": "LayoutModel",
      "state": {
       "_model_module": "@jupyter-widgets/base",
       "_model_module_version": "1.2.0",
       "_model_name": "LayoutModel",
       "_view_count": null,
       "_view_module": "@jupyter-widgets/base",
       "_view_module_version": "1.2.0",
       "_view_name": "LayoutView",
       "align_content": null,
       "align_items": null,
       "align_self": null,
       "border": null,
       "bottom": null,
       "display": null,
       "flex": null,
       "flex_flow": null,
       "grid_area": null,
       "grid_auto_columns": null,
       "grid_auto_flow": null,
       "grid_auto_rows": null,
       "grid_column": null,
       "grid_gap": null,
       "grid_row": null,
       "grid_template_areas": null,
       "grid_template_columns": null,
       "grid_template_rows": null,
       "height": null,
       "justify_content": null,
       "justify_items": null,
       "left": null,
       "margin": null,
       "max_height": null,
       "max_width": null,
       "min_height": null,
       "min_width": null,
       "object_fit": null,
       "object_position": null,
       "order": null,
       "overflow": null,
       "overflow_x": null,
       "overflow_y": null,
       "padding": null,
       "right": null,
       "top": null,
       "visibility": null,
       "width": null
      }
     },
     "a078127a5caa47a9b408637384fc948e": {
      "model_module": "@jupyter-widgets/controls",
      "model_module_version": "1.5.0",
      "model_name": "DescriptionStyleModel",
      "state": {
       "_model_module": "@jupyter-widgets/controls",
       "_model_module_version": "1.5.0",
       "_model_name": "DescriptionStyleModel",
       "_view_count": null,
       "_view_module": "@jupyter-widgets/base",
       "_view_module_version": "1.2.0",
       "_view_name": "StyleView",
       "description_width": ""
      }
     },
     "a49e4b495fe446d589f9f1ad02b63f77": {
      "model_module": "@jupyter-widgets/controls",
      "model_module_version": "1.5.0",
      "model_name": "HTMLModel",
      "state": {
       "_dom_classes": [],
       "_model_module": "@jupyter-widgets/controls",
       "_model_module_version": "1.5.0",
       "_model_name": "HTMLModel",
       "_view_count": null,
       "_view_module": "@jupyter-widgets/controls",
       "_view_module_version": "1.5.0",
       "_view_name": "HTMLView",
       "description": "",
       "description_tooltip": null,
       "layout": "IPY_MODEL_c620e0a191ca4f62875098095853bd87",
       "placeholder": "​",
       "style": "IPY_MODEL_3704d86dc2814449a1327b7c785fe7b9",
       "value": " 1991/1991 [00:31&lt;00:00, 118.63it/s]"
      }
     },
     "a59e8794a52147afa058660afc606f02": {
      "model_module": "@jupyter-widgets/controls",
      "model_module_version": "1.5.0",
      "model_name": "DescriptionStyleModel",
      "state": {
       "_model_module": "@jupyter-widgets/controls",
       "_model_module_version": "1.5.0",
       "_model_name": "DescriptionStyleModel",
       "_view_count": null,
       "_view_module": "@jupyter-widgets/base",
       "_view_module_version": "1.2.0",
       "_view_name": "StyleView",
       "description_width": ""
      }
     },
     "a840b31efb374d81afc7deec5f58df3f": {
      "model_module": "@jupyter-widgets/base",
      "model_module_version": "1.2.0",
      "model_name": "LayoutModel",
      "state": {
       "_model_module": "@jupyter-widgets/base",
       "_model_module_version": "1.2.0",
       "_model_name": "LayoutModel",
       "_view_count": null,
       "_view_module": "@jupyter-widgets/base",
       "_view_module_version": "1.2.0",
       "_view_name": "LayoutView",
       "align_content": null,
       "align_items": null,
       "align_self": null,
       "border": null,
       "bottom": null,
       "display": null,
       "flex": null,
       "flex_flow": null,
       "grid_area": null,
       "grid_auto_columns": null,
       "grid_auto_flow": null,
       "grid_auto_rows": null,
       "grid_column": null,
       "grid_gap": null,
       "grid_row": null,
       "grid_template_areas": null,
       "grid_template_columns": null,
       "grid_template_rows": null,
       "height": null,
       "justify_content": null,
       "justify_items": null,
       "left": null,
       "margin": null,
       "max_height": null,
       "max_width": null,
       "min_height": null,
       "min_width": null,
       "object_fit": null,
       "object_position": null,
       "order": null,
       "overflow": null,
       "overflow_x": null,
       "overflow_y": null,
       "padding": null,
       "right": null,
       "top": null,
       "visibility": null,
       "width": null
      }
     },
     "a97873918be84567b9489fd863726565": {
      "model_module": "@jupyter-widgets/controls",
      "model_module_version": "1.5.0",
      "model_name": "HTMLModel",
      "state": {
       "_dom_classes": [],
       "_model_module": "@jupyter-widgets/controls",
       "_model_module_version": "1.5.0",
       "_model_name": "HTMLModel",
       "_view_count": null,
       "_view_module": "@jupyter-widgets/controls",
       "_view_module_version": "1.5.0",
       "_view_name": "HTMLView",
       "description": "",
       "description_tooltip": null,
       "layout": "IPY_MODEL_5fe50fecfc9940ffb10c18e4efc23089",
       "placeholder": "​",
       "style": "IPY_MODEL_fdd5626cfd8a41a280151a706110421a",
       "value": " 1120/1120 [00:00&lt;00:00, 65391.86it/s]"
      }
     },
     "ab2d5ad5f73a4762a9334e22b0561ca1": {
      "model_module": "@jupyter-widgets/base",
      "model_module_version": "1.2.0",
      "model_name": "LayoutModel",
      "state": {
       "_model_module": "@jupyter-widgets/base",
       "_model_module_version": "1.2.0",
       "_model_name": "LayoutModel",
       "_view_count": null,
       "_view_module": "@jupyter-widgets/base",
       "_view_module_version": "1.2.0",
       "_view_name": "LayoutView",
       "align_content": null,
       "align_items": null,
       "align_self": null,
       "border": null,
       "bottom": null,
       "display": null,
       "flex": null,
       "flex_flow": null,
       "grid_area": null,
       "grid_auto_columns": null,
       "grid_auto_flow": null,
       "grid_auto_rows": null,
       "grid_column": null,
       "grid_gap": null,
       "grid_row": null,
       "grid_template_areas": null,
       "grid_template_columns": null,
       "grid_template_rows": null,
       "height": null,
       "justify_content": null,
       "justify_items": null,
       "left": null,
       "margin": null,
       "max_height": null,
       "max_width": null,
       "min_height": null,
       "min_width": null,
       "object_fit": null,
       "object_position": null,
       "order": null,
       "overflow": null,
       "overflow_x": null,
       "overflow_y": null,
       "padding": null,
       "right": null,
       "top": null,
       "visibility": null,
       "width": null
      }
     },
     "b773cb14175e40129da2339217bab625": {
      "model_module": "@jupyter-widgets/base",
      "model_module_version": "1.2.0",
      "model_name": "LayoutModel",
      "state": {
       "_model_module": "@jupyter-widgets/base",
       "_model_module_version": "1.2.0",
       "_model_name": "LayoutModel",
       "_view_count": null,
       "_view_module": "@jupyter-widgets/base",
       "_view_module_version": "1.2.0",
       "_view_name": "LayoutView",
       "align_content": null,
       "align_items": null,
       "align_self": null,
       "border": null,
       "bottom": null,
       "display": null,
       "flex": null,
       "flex_flow": null,
       "grid_area": null,
       "grid_auto_columns": null,
       "grid_auto_flow": null,
       "grid_auto_rows": null,
       "grid_column": null,
       "grid_gap": null,
       "grid_row": null,
       "grid_template_areas": null,
       "grid_template_columns": null,
       "grid_template_rows": null,
       "height": null,
       "justify_content": null,
       "justify_items": null,
       "left": null,
       "margin": null,
       "max_height": null,
       "max_width": null,
       "min_height": null,
       "min_width": null,
       "object_fit": null,
       "object_position": null,
       "order": null,
       "overflow": null,
       "overflow_x": null,
       "overflow_y": null,
       "padding": null,
       "right": null,
       "top": null,
       "visibility": null,
       "width": null
      }
     },
     "bb08d0898fa84f66b0c929b116f8556f": {
      "model_module": "@jupyter-widgets/controls",
      "model_module_version": "1.5.0",
      "model_name": "ProgressStyleModel",
      "state": {
       "_model_module": "@jupyter-widgets/controls",
       "_model_module_version": "1.5.0",
       "_model_name": "ProgressStyleModel",
       "_view_count": null,
       "_view_module": "@jupyter-widgets/base",
       "_view_module_version": "1.2.0",
       "_view_name": "StyleView",
       "bar_color": null,
       "description_width": ""
      }
     },
     "bd6647fd4aeb48d7bda7751ba66a2133": {
      "model_module": "@jupyter-widgets/base",
      "model_module_version": "1.2.0",
      "model_name": "LayoutModel",
      "state": {
       "_model_module": "@jupyter-widgets/base",
       "_model_module_version": "1.2.0",
       "_model_name": "LayoutModel",
       "_view_count": null,
       "_view_module": "@jupyter-widgets/base",
       "_view_module_version": "1.2.0",
       "_view_name": "LayoutView",
       "align_content": null,
       "align_items": null,
       "align_self": null,
       "border": null,
       "bottom": null,
       "display": null,
       "flex": null,
       "flex_flow": null,
       "grid_area": null,
       "grid_auto_columns": null,
       "grid_auto_flow": null,
       "grid_auto_rows": null,
       "grid_column": null,
       "grid_gap": null,
       "grid_row": null,
       "grid_template_areas": null,
       "grid_template_columns": null,
       "grid_template_rows": null,
       "height": null,
       "justify_content": null,
       "justify_items": null,
       "left": null,
       "margin": null,
       "max_height": null,
       "max_width": null,
       "min_height": null,
       "min_width": null,
       "object_fit": null,
       "object_position": null,
       "order": null,
       "overflow": null,
       "overflow_x": null,
       "overflow_y": null,
       "padding": null,
       "right": null,
       "top": null,
       "visibility": null,
       "width": null
      }
     },
     "bf74cf39361b4935ae9d7a6cd7bc8059": {
      "model_module": "@jupyter-widgets/controls",
      "model_module_version": "1.5.0",
      "model_name": "FloatProgressModel",
      "state": {
       "_dom_classes": [],
       "_model_module": "@jupyter-widgets/controls",
       "_model_module_version": "1.5.0",
       "_model_name": "FloatProgressModel",
       "_view_count": null,
       "_view_module": "@jupyter-widgets/controls",
       "_view_module_version": "1.5.0",
       "_view_name": "ProgressView",
       "bar_style": "success",
       "description": "",
       "description_tooltip": null,
       "layout": "IPY_MODEL_ab2d5ad5f73a4762a9334e22b0561ca1",
       "max": 200.0,
       "min": 0.0,
       "orientation": "horizontal",
       "style": "IPY_MODEL_467a0a3dad274a8e8bbd8a007aef077d",
       "value": 200.0
      }
     },
     "c093c73053514678b344435f888cc381": {
      "model_module": "@jupyter-widgets/controls",
      "model_module_version": "1.5.0",
      "model_name": "HTMLModel",
      "state": {
       "_dom_classes": [],
       "_model_module": "@jupyter-widgets/controls",
       "_model_module_version": "1.5.0",
       "_model_name": "HTMLModel",
       "_view_count": null,
       "_view_module": "@jupyter-widgets/controls",
       "_view_module_version": "1.5.0",
       "_view_name": "HTMLView",
       "description": "",
       "description_tooltip": null,
       "layout": "IPY_MODEL_4a214eb3882f43bbb8738d82c92c2bd9",
       "placeholder": "​",
       "style": "IPY_MODEL_60a8412fd70843e185665d8a43488ba6",
       "value": "100%"
      }
     },
     "c0d257ed44b34623a47ad0325e859e58": {
      "model_module": "@jupyter-widgets/controls",
      "model_module_version": "1.5.0",
      "model_name": "DescriptionStyleModel",
      "state": {
       "_model_module": "@jupyter-widgets/controls",
       "_model_module_version": "1.5.0",
       "_model_name": "DescriptionStyleModel",
       "_view_count": null,
       "_view_module": "@jupyter-widgets/base",
       "_view_module_version": "1.2.0",
       "_view_name": "StyleView",
       "description_width": ""
      }
     },
     "c10c9258c2ea4f6ba5f7d6330fb4ec7f": {
      "model_module": "@jupyter-widgets/base",
      "model_module_version": "1.2.0",
      "model_name": "LayoutModel",
      "state": {
       "_model_module": "@jupyter-widgets/base",
       "_model_module_version": "1.2.0",
       "_model_name": "LayoutModel",
       "_view_count": null,
       "_view_module": "@jupyter-widgets/base",
       "_view_module_version": "1.2.0",
       "_view_name": "LayoutView",
       "align_content": null,
       "align_items": null,
       "align_self": null,
       "border": null,
       "bottom": null,
       "display": null,
       "flex": null,
       "flex_flow": null,
       "grid_area": null,
       "grid_auto_columns": null,
       "grid_auto_flow": null,
       "grid_auto_rows": null,
       "grid_column": null,
       "grid_gap": null,
       "grid_row": null,
       "grid_template_areas": null,
       "grid_template_columns": null,
       "grid_template_rows": null,
       "height": null,
       "justify_content": null,
       "justify_items": null,
       "left": null,
       "margin": null,
       "max_height": null,
       "max_width": null,
       "min_height": null,
       "min_width": null,
       "object_fit": null,
       "object_position": null,
       "order": null,
       "overflow": null,
       "overflow_x": null,
       "overflow_y": null,
       "padding": null,
       "right": null,
       "top": null,
       "visibility": null,
       "width": null
      }
     },
     "c5dc379f95fb4ef584be68c759c71500": {
      "model_module": "@jupyter-widgets/base",
      "model_module_version": "1.2.0",
      "model_name": "LayoutModel",
      "state": {
       "_model_module": "@jupyter-widgets/base",
       "_model_module_version": "1.2.0",
       "_model_name": "LayoutModel",
       "_view_count": null,
       "_view_module": "@jupyter-widgets/base",
       "_view_module_version": "1.2.0",
       "_view_name": "LayoutView",
       "align_content": null,
       "align_items": null,
       "align_self": null,
       "border": null,
       "bottom": null,
       "display": null,
       "flex": null,
       "flex_flow": null,
       "grid_area": null,
       "grid_auto_columns": null,
       "grid_auto_flow": null,
       "grid_auto_rows": null,
       "grid_column": null,
       "grid_gap": null,
       "grid_row": null,
       "grid_template_areas": null,
       "grid_template_columns": null,
       "grid_template_rows": null,
       "height": null,
       "justify_content": null,
       "justify_items": null,
       "left": null,
       "margin": null,
       "max_height": null,
       "max_width": null,
       "min_height": null,
       "min_width": null,
       "object_fit": null,
       "object_position": null,
       "order": null,
       "overflow": null,
       "overflow_x": null,
       "overflow_y": null,
       "padding": null,
       "right": null,
       "top": null,
       "visibility": null,
       "width": null
      }
     },
     "c620e0a191ca4f62875098095853bd87": {
      "model_module": "@jupyter-widgets/base",
      "model_module_version": "1.2.0",
      "model_name": "LayoutModel",
      "state": {
       "_model_module": "@jupyter-widgets/base",
       "_model_module_version": "1.2.0",
       "_model_name": "LayoutModel",
       "_view_count": null,
       "_view_module": "@jupyter-widgets/base",
       "_view_module_version": "1.2.0",
       "_view_name": "LayoutView",
       "align_content": null,
       "align_items": null,
       "align_self": null,
       "border": null,
       "bottom": null,
       "display": null,
       "flex": null,
       "flex_flow": null,
       "grid_area": null,
       "grid_auto_columns": null,
       "grid_auto_flow": null,
       "grid_auto_rows": null,
       "grid_column": null,
       "grid_gap": null,
       "grid_row": null,
       "grid_template_areas": null,
       "grid_template_columns": null,
       "grid_template_rows": null,
       "height": null,
       "justify_content": null,
       "justify_items": null,
       "left": null,
       "margin": null,
       "max_height": null,
       "max_width": null,
       "min_height": null,
       "min_width": null,
       "object_fit": null,
       "object_position": null,
       "order": null,
       "overflow": null,
       "overflow_x": null,
       "overflow_y": null,
       "padding": null,
       "right": null,
       "top": null,
       "visibility": null,
       "width": null
      }
     },
     "c6d24e07089947aca773aa5d7a3ec9dd": {
      "model_module": "@jupyter-widgets/controls",
      "model_module_version": "1.5.0",
      "model_name": "DescriptionStyleModel",
      "state": {
       "_model_module": "@jupyter-widgets/controls",
       "_model_module_version": "1.5.0",
       "_model_name": "DescriptionStyleModel",
       "_view_count": null,
       "_view_module": "@jupyter-widgets/base",
       "_view_module_version": "1.2.0",
       "_view_name": "StyleView",
       "description_width": ""
      }
     },
     "c8e6be8b30214863b22642095efa5c9c": {
      "model_module": "@jupyter-widgets/controls",
      "model_module_version": "1.5.0",
      "model_name": "HTMLModel",
      "state": {
       "_dom_classes": [],
       "_model_module": "@jupyter-widgets/controls",
       "_model_module_version": "1.5.0",
       "_model_name": "HTMLModel",
       "_view_count": null,
       "_view_module": "@jupyter-widgets/controls",
       "_view_module_version": "1.5.0",
       "_view_name": "HTMLView",
       "description": "",
       "description_tooltip": null,
       "layout": "IPY_MODEL_9f89bcccd2b24f9fb6427ee553469bc2",
       "placeholder": "​",
       "style": "IPY_MODEL_8d4b039c49d94fc2ba5c28ec757f5518",
       "value": " 200/200 [00:01&lt;00:00, 87.60 examples/s]"
      }
     },
     "cb91539463e444fb8905159c667db468": {
      "model_module": "@jupyter-widgets/controls",
      "model_module_version": "1.5.0",
      "model_name": "HBoxModel",
      "state": {
       "_dom_classes": [],
       "_model_module": "@jupyter-widgets/controls",
       "_model_module_version": "1.5.0",
       "_model_name": "HBoxModel",
       "_view_count": null,
       "_view_module": "@jupyter-widgets/controls",
       "_view_module_version": "1.5.0",
       "_view_name": "HBoxView",
       "box_style": "",
       "children": [
        "IPY_MODEL_c093c73053514678b344435f888cc381",
        "IPY_MODEL_8bfdee8bd19248228c90a1ff2c0b21b8",
        "IPY_MODEL_6676411c124248e6bea76a5e93b4c32e"
       ],
       "layout": "IPY_MODEL_826bb14f644d4c8c8dc5e09e1807f241"
      }
     },
     "cbc87fd5d77641728278573232d95ecc": {
      "model_module": "@jupyter-widgets/controls",
      "model_module_version": "1.5.0",
      "model_name": "HTMLModel",
      "state": {
       "_dom_classes": [],
       "_model_module": "@jupyter-widgets/controls",
       "_model_module_version": "1.5.0",
       "_model_name": "HTMLModel",
       "_view_count": null,
       "_view_module": "@jupyter-widgets/controls",
       "_view_module_version": "1.5.0",
       "_view_name": "HTMLView",
       "description": "",
       "description_tooltip": null,
       "layout": "IPY_MODEL_0f13847396614bdd80695df220cee232",
       "placeholder": "​",
       "style": "IPY_MODEL_2f525235b6bf4ac2965a6eb30a4680c8",
       "value": "100%"
      }
     },
     "d1cfb9e2fabf4cda9a9d4630fb204829": {
      "model_module": "@jupyter-widgets/base",
      "model_module_version": "1.2.0",
      "model_name": "LayoutModel",
      "state": {
       "_model_module": "@jupyter-widgets/base",
       "_model_module_version": "1.2.0",
       "_model_name": "LayoutModel",
       "_view_count": null,
       "_view_module": "@jupyter-widgets/base",
       "_view_module_version": "1.2.0",
       "_view_name": "LayoutView",
       "align_content": null,
       "align_items": null,
       "align_self": null,
       "border": null,
       "bottom": null,
       "display": null,
       "flex": null,
       "flex_flow": null,
       "grid_area": null,
       "grid_auto_columns": null,
       "grid_auto_flow": null,
       "grid_auto_rows": null,
       "grid_column": null,
       "grid_gap": null,
       "grid_row": null,
       "grid_template_areas": null,
       "grid_template_columns": null,
       "grid_template_rows": null,
       "height": null,
       "justify_content": null,
       "justify_items": null,
       "left": null,
       "margin": null,
       "max_height": null,
       "max_width": null,
       "min_height": null,
       "min_width": null,
       "object_fit": null,
       "object_position": null,
       "order": null,
       "overflow": null,
       "overflow_x": null,
       "overflow_y": null,
       "padding": null,
       "right": null,
       "top": null,
       "visibility": null,
       "width": null
      }
     },
     "d1e4d1d85f16440a92b64aacdde9d038": {
      "model_module": "@jupyter-widgets/controls",
      "model_module_version": "1.5.0",
      "model_name": "HTMLModel",
      "state": {
       "_dom_classes": [],
       "_model_module": "@jupyter-widgets/controls",
       "_model_module_version": "1.5.0",
       "_model_name": "HTMLModel",
       "_view_count": null,
       "_view_module": "@jupyter-widgets/controls",
       "_view_module_version": "1.5.0",
       "_view_name": "HTMLView",
       "description": "",
       "description_tooltip": null,
       "layout": "IPY_MODEL_1f8ae3b7bdc44caaa18a253c2dfc21c6",
       "placeholder": "​",
       "style": "IPY_MODEL_a078127a5caa47a9b408637384fc948e",
       "value": " 7/7 [00:01&lt;00:00,  5.70it/s]"
      }
     },
     "d842dbfffd404d539722e71ac875eda3": {
      "model_module": "@jupyter-widgets/controls",
      "model_module_version": "1.5.0",
      "model_name": "HTMLModel",
      "state": {
       "_dom_classes": [],
       "_model_module": "@jupyter-widgets/controls",
       "_model_module_version": "1.5.0",
       "_model_name": "HTMLModel",
       "_view_count": null,
       "_view_module": "@jupyter-widgets/controls",
       "_view_module_version": "1.5.0",
       "_view_name": "HTMLView",
       "description": "",
       "description_tooltip": null,
       "layout": "IPY_MODEL_c5dc379f95fb4ef584be68c759c71500",
       "placeholder": "​",
       "style": "IPY_MODEL_679ffd38d5954f5695dc5345f2b7751b",
       "value": "100%"
      }
     },
     "ddd73a84041948b89c44fadecae1d838": {
      "model_module": "@jupyter-widgets/controls",
      "model_module_version": "1.5.0",
      "model_name": "DescriptionStyleModel",
      "state": {
       "_model_module": "@jupyter-widgets/controls",
       "_model_module_version": "1.5.0",
       "_model_name": "DescriptionStyleModel",
       "_view_count": null,
       "_view_module": "@jupyter-widgets/base",
       "_view_module_version": "1.2.0",
       "_view_name": "StyleView",
       "description_width": ""
      }
     },
     "df6ad3d1f2e649eda116fce045ac0398": {
      "model_module": "@jupyter-widgets/controls",
      "model_module_version": "1.5.0",
      "model_name": "ProgressStyleModel",
      "state": {
       "_model_module": "@jupyter-widgets/controls",
       "_model_module_version": "1.5.0",
       "_model_name": "ProgressStyleModel",
       "_view_count": null,
       "_view_module": "@jupyter-widgets/base",
       "_view_module_version": "1.2.0",
       "_view_name": "StyleView",
       "bar_color": null,
       "description_width": ""
      }
     },
     "e32dd0bb687c49a6b898a9134cd70e5e": {
      "model_module": "@jupyter-widgets/base",
      "model_module_version": "1.2.0",
      "model_name": "LayoutModel",
      "state": {
       "_model_module": "@jupyter-widgets/base",
       "_model_module_version": "1.2.0",
       "_model_name": "LayoutModel",
       "_view_count": null,
       "_view_module": "@jupyter-widgets/base",
       "_view_module_version": "1.2.0",
       "_view_name": "LayoutView",
       "align_content": null,
       "align_items": null,
       "align_self": null,
       "border": null,
       "bottom": null,
       "display": null,
       "flex": null,
       "flex_flow": null,
       "grid_area": null,
       "grid_auto_columns": null,
       "grid_auto_flow": null,
       "grid_auto_rows": null,
       "grid_column": null,
       "grid_gap": null,
       "grid_row": null,
       "grid_template_areas": null,
       "grid_template_columns": null,
       "grid_template_rows": null,
       "height": null,
       "justify_content": null,
       "justify_items": null,
       "left": null,
       "margin": null,
       "max_height": null,
       "max_width": null,
       "min_height": null,
       "min_width": null,
       "object_fit": null,
       "object_position": null,
       "order": null,
       "overflow": null,
       "overflow_x": null,
       "overflow_y": null,
       "padding": null,
       "right": null,
       "top": null,
       "visibility": null,
       "width": null
      }
     },
     "e356a079a5354f979a8a8ee308f20149": {
      "model_module": "@jupyter-widgets/controls",
      "model_module_version": "1.5.0",
      "model_name": "HBoxModel",
      "state": {
       "_dom_classes": [],
       "_model_module": "@jupyter-widgets/controls",
       "_model_module_version": "1.5.0",
       "_model_name": "HBoxModel",
       "_view_count": null,
       "_view_module": "@jupyter-widgets/controls",
       "_view_module_version": "1.5.0",
       "_view_name": "HBoxView",
       "box_style": "",
       "children": [
        "IPY_MODEL_cbc87fd5d77641728278573232d95ecc",
        "IPY_MODEL_0d265edef74343a78987bf8a78ad8051",
        "IPY_MODEL_858f56a90e984797bab3b6fac43ef10f"
       ],
       "layout": "IPY_MODEL_c10c9258c2ea4f6ba5f7d6330fb4ec7f"
      }
     },
     "e3bbc4efb50340e5a775f9101e2f75eb": {
      "model_module": "@jupyter-widgets/controls",
      "model_module_version": "1.5.0",
      "model_name": "HTMLModel",
      "state": {
       "_dom_classes": [],
       "_model_module": "@jupyter-widgets/controls",
       "_model_module_version": "1.5.0",
       "_model_name": "HTMLModel",
       "_view_count": null,
       "_view_module": "@jupyter-widgets/controls",
       "_view_module_version": "1.5.0",
       "_view_name": "HTMLView",
       "description": "",
       "description_tooltip": null,
       "layout": "IPY_MODEL_5a5d10eb97c846358f81afda27d4ef19",
       "placeholder": "​",
       "style": "IPY_MODEL_e94b298b42be4462bbc323134bd57135",
       "value": "100%"
      }
     },
     "e8c6c7f5196c4d6f975c1db0eeb31117": {
      "model_module": "@jupyter-widgets/controls",
      "model_module_version": "1.5.0",
      "model_name": "HBoxModel",
      "state": {
       "_dom_classes": [],
       "_model_module": "@jupyter-widgets/controls",
       "_model_module_version": "1.5.0",
       "_model_name": "HBoxModel",
       "_view_count": null,
       "_view_module": "@jupyter-widgets/controls",
       "_view_module_version": "1.5.0",
       "_view_name": "HBoxView",
       "box_style": "",
       "children": [
        "IPY_MODEL_82a69966c5134cd78dd3976d0ea9706f",
        "IPY_MODEL_8ec0febb24fa480085ef1ca0de0e0b49",
        "IPY_MODEL_a97873918be84567b9489fd863726565"
       ],
       "layout": "IPY_MODEL_e32dd0bb687c49a6b898a9134cd70e5e"
      }
     },
     "e94b298b42be4462bbc323134bd57135": {
      "model_module": "@jupyter-widgets/controls",
      "model_module_version": "1.5.0",
      "model_name": "DescriptionStyleModel",
      "state": {
       "_model_module": "@jupyter-widgets/controls",
       "_model_module_version": "1.5.0",
       "_model_name": "DescriptionStyleModel",
       "_view_count": null,
       "_view_module": "@jupyter-widgets/base",
       "_view_module_version": "1.2.0",
       "_view_name": "StyleView",
       "description_width": ""
      }
     },
     "eeaa6698ab104cb182307850df44e9bf": {
      "model_module": "@jupyter-widgets/controls",
      "model_module_version": "1.5.0",
      "model_name": "DescriptionStyleModel",
      "state": {
       "_model_module": "@jupyter-widgets/controls",
       "_model_module_version": "1.5.0",
       "_model_name": "DescriptionStyleModel",
       "_view_count": null,
       "_view_module": "@jupyter-widgets/base",
       "_view_module_version": "1.2.0",
       "_view_name": "StyleView",
       "description_width": ""
      }
     },
     "f06de023a4a7460b9bce1eb9c5bebad1": {
      "model_module": "@jupyter-widgets/controls",
      "model_module_version": "1.5.0",
      "model_name": "HTMLModel",
      "state": {
       "_dom_classes": [],
       "_model_module": "@jupyter-widgets/controls",
       "_model_module_version": "1.5.0",
       "_model_name": "HTMLModel",
       "_view_count": null,
       "_view_module": "@jupyter-widgets/controls",
       "_view_module_version": "1.5.0",
       "_view_name": "HTMLView",
       "description": "",
       "description_tooltip": null,
       "layout": "IPY_MODEL_5e973087a7684eb2aa9f9603dc08809f",
       "placeholder": "​",
       "style": "IPY_MODEL_4dad6d479be74deda25abfcbb53962f0",
       "value": "Batches: 100%"
      }
     },
     "fdd5626cfd8a41a280151a706110421a": {
      "model_module": "@jupyter-widgets/controls",
      "model_module_version": "1.5.0",
      "model_name": "DescriptionStyleModel",
      "state": {
       "_model_module": "@jupyter-widgets/controls",
       "_model_module_version": "1.5.0",
       "_model_name": "DescriptionStyleModel",
       "_view_count": null,
       "_view_module": "@jupyter-widgets/base",
       "_view_module_version": "1.2.0",
       "_view_name": "StyleView",
       "description_width": ""
      }
     },
     "ffc83fe4097b412c8abff1b90184852f": {
      "model_module": "@jupyter-widgets/base",
      "model_module_version": "1.2.0",
      "model_name": "LayoutModel",
      "state": {
       "_model_module": "@jupyter-widgets/base",
       "_model_module_version": "1.2.0",
       "_model_name": "LayoutModel",
       "_view_count": null,
       "_view_module": "@jupyter-widgets/base",
       "_view_module_version": "1.2.0",
       "_view_name": "LayoutView",
       "align_content": null,
       "align_items": null,
       "align_self": null,
       "border": null,
       "bottom": null,
       "display": null,
       "flex": null,
       "flex_flow": null,
       "grid_area": null,
       "grid_auto_columns": null,
       "grid_auto_flow": null,
       "grid_auto_rows": null,
       "grid_column": null,
       "grid_gap": null,
       "grid_row": null,
       "grid_template_areas": null,
       "grid_template_columns": null,
       "grid_template_rows": null,
       "height": null,
       "justify_content": null,
       "justify_items": null,
       "left": null,
       "margin": null,
       "max_height": null,
       "max_width": null,
       "min_height": null,
       "min_width": null,
       "object_fit": null,
       "object_position": null,
       "order": null,
       "overflow": null,
       "overflow_x": null,
       "overflow_y": null,
       "padding": null,
       "right": null,
       "top": null,
       "visibility": null,
       "width": null
      }
     }
    },
    "version_major": 2,
    "version_minor": 0
   }
  }
 },
 "nbformat": 4,
 "nbformat_minor": 5
}
