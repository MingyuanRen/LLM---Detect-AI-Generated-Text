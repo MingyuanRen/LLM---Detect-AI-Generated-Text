{
 "cells": [
  {
   "cell_type": "markdown",
   "id": "50f8a78d",
   "metadata": {
    "papermill": {
     "duration": 0.005203,
     "end_time": "2023-12-01T18:40:42.136850",
     "exception": false,
     "start_time": "2023-12-01T18:40:42.131647",
     "status": "completed"
    },
    "tags": []
   },
   "source": [
    "## EDLD 654: Machine Learning for Educational Data Science "
   ]
  },
  {
   "cell_type": "code",
   "execution_count": 1,
   "id": "e430f997",
   "metadata": {
    "execution": {
     "iopub.execute_input": "2023-12-01T18:40:42.149673Z",
     "iopub.status.busy": "2023-12-01T18:40:42.147510Z",
     "iopub.status.idle": "2023-12-01T18:40:47.210810Z",
     "shell.execute_reply": "2023-12-01T18:40:47.208887Z"
    },
    "papermill": {
     "duration": 5.071938,
     "end_time": "2023-12-01T18:40:47.213159",
     "exception": false,
     "start_time": "2023-12-01T18:40:42.141221",
     "status": "completed"
    },
    "tags": []
   },
   "outputs": [],
   "source": [
    "dat1 <- read.csv('../input/llm-detect-ai-generated-text/train_essays.csv')\n",
    "test <- read.csv('../input/augmented-data-for-llm-detect-ai-generated-text/final_test.csv')\n",
    "\n",
    "set.seed(12345)\n",
    "\n",
    "test <- test[sample(1:nrow(test), round(nrow(test) * 0.2)),]\n"
   ]
  },
  {
   "cell_type": "code",
   "execution_count": 2,
   "id": "1dfdcabd",
   "metadata": {
    "execution": {
     "iopub.execute_input": "2023-12-01T18:40:47.254294Z",
     "iopub.status.busy": "2023-12-01T18:40:47.224577Z",
     "iopub.status.idle": "2023-12-01T18:40:47.267505Z",
     "shell.execute_reply": "2023-12-01T18:40:47.265950Z"
    },
    "papermill": {
     "duration": 0.051979,
     "end_time": "2023-12-01T18:40:47.269757",
     "exception": false,
     "start_time": "2023-12-01T18:40:47.217778",
     "status": "completed"
    },
    "tags": []
   },
   "outputs": [],
   "source": [
    "dat1 <- dat1[, !names(dat1) %in% c('id', 'prompt_id')]\n",
    "colnames(dat1)[colnames(dat1) == \"generated\"] <- \"label\""
   ]
  },
  {
   "cell_type": "code",
   "execution_count": 3,
   "id": "24808072",
   "metadata": {
    "execution": {
     "iopub.execute_input": "2023-12-01T18:40:47.281736Z",
     "iopub.status.busy": "2023-12-01T18:40:47.280260Z",
     "iopub.status.idle": "2023-12-01T18:43:15.501525Z",
     "shell.execute_reply": "2023-12-01T18:43:15.499736Z"
    },
    "papermill": {
     "duration": 148.23624,
     "end_time": "2023-12-01T18:43:15.510093",
     "exception": false,
     "start_time": "2023-12-01T18:40:47.273853",
     "status": "completed"
    },
    "tags": []
   },
   "outputs": [
    {
     "name": "stderr",
     "output_type": "stream",
     "text": [
      "Loading required package: reticulate\n",
      "\n"
     ]
    },
    {
     "data": {
      "text/html": [
       "<table class=\"dataframe\">\n",
       "<caption>A data.frame: 2 × 2</caption>\n",
       "<thead>\n",
       "\t<tr><th scope=col>name</th><th scope=col>python</th></tr>\n",
       "\t<tr><th scope=col>&lt;chr&gt;</th><th scope=col>&lt;chr&gt;</th></tr>\n",
       "</thead>\n",
       "<tbody>\n",
       "\t<tr><td>base        </td><td>/root/.local/share/r-miniconda/bin/python                  </td></tr>\n",
       "\t<tr><td>r-reticulate</td><td>/root/.local/share/r-miniconda/envs/r-reticulate/bin/python</td></tr>\n",
       "</tbody>\n",
       "</table>\n"
      ],
      "text/latex": [
       "A data.frame: 2 × 2\n",
       "\\begin{tabular}{ll}\n",
       " name & python\\\\\n",
       " <chr> & <chr>\\\\\n",
       "\\hline\n",
       "\t base         & /root/.local/share/r-miniconda/bin/python                  \\\\\n",
       "\t r-reticulate & /root/.local/share/r-miniconda/envs/r-reticulate/bin/python\\\\\n",
       "\\end{tabular}\n"
      ],
      "text/markdown": [
       "\n",
       "A data.frame: 2 × 2\n",
       "\n",
       "| name &lt;chr&gt; | python &lt;chr&gt; |\n",
       "|---|---|\n",
       "| base         | /root/.local/share/r-miniconda/bin/python                   |\n",
       "| r-reticulate | /root/.local/share/r-miniconda/envs/r-reticulate/bin/python |\n",
       "\n"
      ],
      "text/plain": [
       "  name         python                                                     \n",
       "1 base         /root/.local/share/r-miniconda/bin/python                  \n",
       "2 r-reticulate /root/.local/share/r-miniconda/envs/r-reticulate/bin/python"
      ]
     },
     "metadata": {},
     "output_type": "display_data"
    },
    {
     "data": {
      "text/html": [
       "'sentence_transformers'"
      ],
      "text/latex": [
       "'sentence\\_transformers'"
      ],
      "text/markdown": [
       "'sentence_transformers'"
      ],
      "text/plain": [
       "[1] \"sentence_transformers\""
      ]
     },
     "metadata": {},
     "output_type": "display_data"
    }
   ],
   "source": [
    "require(reticulate)\n",
    "conda_list()\n",
    "use_condaenv(\"r-reticulate\")\n",
    "reticulate::conda_install(envname  = 'r-reticulate',\n",
    "                          packages = 'sentence_transformers',\n",
    "                          pip      = TRUE)"
   ]
  },
  {
   "cell_type": "code",
   "execution_count": 4,
   "id": "b3f1a461",
   "metadata": {
    "execution": {
     "iopub.execute_input": "2023-12-01T18:43:15.526191Z",
     "iopub.status.busy": "2023-12-01T18:43:15.524595Z",
     "iopub.status.idle": "2023-12-01T18:43:43.510007Z",
     "shell.execute_reply": "2023-12-01T18:43:43.508068Z"
    },
    "papermill": {
     "duration": 27.996041,
     "end_time": "2023-12-01T18:43:43.513116",
     "exception": false,
     "start_time": "2023-12-01T18:43:15.517075",
     "status": "completed"
    },
    "tags": []
   },
   "outputs": [],
   "source": [
    "st <- import('sentence_transformers')\n",
    "model.name <- 'allenai/longformer-base-4096'\n",
    "longformer      <- st$models$Transformer(model.name)\n",
    "pooling_model   <- st$models$Pooling(longformer$get_word_embedding_dimension())\n",
    "LFmodel <- st$SentenceTransformer(modules = list(longformer,pooling_model))"
   ]
  },
  {
   "cell_type": "code",
   "execution_count": 5,
   "id": "5dfb2394",
   "metadata": {
    "execution": {
     "iopub.execute_input": "2023-12-01T18:43:43.528083Z",
     "iopub.status.busy": "2023-12-01T18:43:43.526519Z",
     "iopub.status.idle": "2023-12-01T18:43:43.549922Z",
     "shell.execute_reply": "2023-12-01T18:43:43.548187Z"
    },
    "papermill": {
     "duration": 0.033255,
     "end_time": "2023-12-01T18:43:43.552303",
     "exception": false,
     "start_time": "2023-12-01T18:43:43.519048",
     "status": "completed"
    },
    "tags": []
   },
   "outputs": [
    {
     "data": {
      "text/html": [
       "4096"
      ],
      "text/latex": [
       "4096"
      ],
      "text/markdown": [
       "4096"
      ],
      "text/plain": [
       "[1] 4096"
      ]
     },
     "metadata": {},
     "output_type": "display_data"
    },
    {
     "data": {
      "text/html": [
       "768"
      ],
      "text/latex": [
       "768"
      ],
      "text/markdown": [
       "768"
      ],
      "text/plain": [
       "[1] 768"
      ]
     },
     "metadata": {},
     "output_type": "display_data"
    }
   ],
   "source": [
    "LFmodel$get_max_seq_length()\n",
    "LFmodel$get_sentence_embedding_dimension()"
   ]
  },
  {
   "cell_type": "code",
   "execution_count": 6,
   "id": "138cb650",
   "metadata": {
    "execution": {
     "iopub.execute_input": "2023-12-01T18:43:43.567723Z",
     "iopub.status.busy": "2023-12-01T18:43:43.566066Z",
     "iopub.status.idle": "2023-12-01T20:14:09.199518Z",
     "shell.execute_reply": "2023-12-01T20:14:09.196328Z"
    },
    "papermill": {
     "duration": 5425.656274,
     "end_time": "2023-12-01T20:14:09.214531",
     "exception": false,
     "start_time": "2023-12-01T18:43:43.558257",
     "status": "completed"
    },
    "tags": []
   },
   "outputs": [
    {
     "data": {
      "text/plain": [
       "[1] \"2023-12-01 18:43:43 UTC\""
      ]
     },
     "metadata": {},
     "output_type": "display_data"
    },
    {
     "data": {
      "text/plain": [
       "[1] \"2023-12-01 20:14:09 UTC\""
      ]
     },
     "metadata": {},
     "output_type": "display_data"
    }
   ],
   "source": [
    "Sys.time()\n",
    "embeddings <- LFmodel$encode(dat1$text,\n",
    "                            show_progress_bar = TRUE)\n",
    "Sys.time()"
   ]
  },
  {
   "cell_type": "code",
   "execution_count": 7,
   "id": "3aea13ed",
   "metadata": {
    "execution": {
     "iopub.execute_input": "2023-12-01T20:14:09.697127Z",
     "iopub.status.busy": "2023-12-01T20:14:09.694676Z",
     "iopub.status.idle": "2023-12-01T20:14:09.809925Z",
     "shell.execute_reply": "2023-12-01T20:14:09.807977Z"
    },
    "papermill": {
     "duration": 0.570644,
     "end_time": "2023-12-01T20:14:09.812452",
     "exception": false,
     "start_time": "2023-12-01T20:14:09.241808",
     "status": "completed"
    },
    "tags": []
   },
   "outputs": [],
   "source": [
    "dat2 <- read.csv('../input/daigt-data-llama-70b-and-falcon180b/llama_70b_v2.csv')\n",
    "dat2 <- dat2[, !names(dat2) %in% c('X', 'writing_prompt')]\n",
    "colnames(dat2)[colnames(dat2) == \"generated_text\"] <- \"text\"\n",
    "colnames(dat2)[colnames(dat2) == \"generated\"] <- \"label\""
   ]
  },
  {
   "cell_type": "code",
   "execution_count": 8,
   "id": "6c73a404",
   "metadata": {
    "execution": {
     "iopub.execute_input": "2023-12-01T20:14:09.828865Z",
     "iopub.status.busy": "2023-12-01T20:14:09.827319Z",
     "iopub.status.idle": "2023-12-01T21:11:36.619783Z",
     "shell.execute_reply": "2023-12-01T21:11:36.615360Z"
    },
    "papermill": {
     "duration": 3446.810523,
     "end_time": "2023-12-01T21:11:36.629331",
     "exception": false,
     "start_time": "2023-12-01T20:14:09.818808",
     "status": "completed"
    },
    "tags": []
   },
   "outputs": [
    {
     "data": {
      "text/plain": [
       "[1] \"2023-12-01 20:14:09 UTC\""
      ]
     },
     "metadata": {},
     "output_type": "display_data"
    },
    {
     "data": {
      "text/plain": [
       "[1] \"2023-12-01 21:11:36 UTC\""
      ]
     },
     "metadata": {},
     "output_type": "display_data"
    }
   ],
   "source": [
    "Sys.time()\n",
    "embeddings2 <- LFmodel$encode(dat2$text,\n",
    "                            show_progress_bar = TRUE)\n",
    "Sys.time()"
   ]
  },
  {
   "cell_type": "code",
   "execution_count": 9,
   "id": "40fbeda7",
   "metadata": {
    "execution": {
     "iopub.execute_input": "2023-12-01T21:11:37.041605Z",
     "iopub.status.busy": "2023-12-01T21:11:37.039184Z",
     "iopub.status.idle": "2023-12-01T21:11:37.086737Z",
     "shell.execute_reply": "2023-12-01T21:11:37.084793Z"
    },
    "papermill": {
     "duration": 0.452932,
     "end_time": "2023-12-01T21:11:37.089157",
     "exception": false,
     "start_time": "2023-12-01T21:11:36.636225",
     "status": "completed"
    },
    "tags": []
   },
   "outputs": [],
   "source": [
    "dat <- rbind(dat1, dat2)\n",
    "train_data <- rbind(embeddings, embeddings2)\n",
    "df <- as.data.frame(train_data)"
   ]
  },
  {
   "cell_type": "code",
   "execution_count": 10,
   "id": "81acfb7a",
   "metadata": {
    "execution": {
     "iopub.execute_input": "2023-12-01T21:11:37.105962Z",
     "iopub.status.busy": "2023-12-01T21:11:37.104382Z",
     "iopub.status.idle": "2023-12-01T21:11:37.460793Z",
     "shell.execute_reply": "2023-12-01T21:11:37.459053Z"
    },
    "papermill": {
     "duration": 0.367441,
     "end_time": "2023-12-01T21:11:37.463180",
     "exception": false,
     "start_time": "2023-12-01T21:11:37.095739",
     "status": "completed"
    },
    "tags": []
   },
   "outputs": [
    {
     "data": {
      "text/html": [
       "<style>\n",
       ".list-inline {list-style: none; margin:0; padding: 0}\n",
       ".list-inline>li {display: inline-block}\n",
       ".list-inline>li:not(:last-child)::after {content: \"\\00b7\"; padding: 0 .5ex}\n",
       "</style>\n",
       "<ol class=list-inline><li>2550</li><li>768</li></ol>\n"
      ],
      "text/latex": [
       "\\begin{enumerate*}\n",
       "\\item 2550\n",
       "\\item 768\n",
       "\\end{enumerate*}\n"
      ],
      "text/markdown": [
       "1. 2550\n",
       "2. 768\n",
       "\n",
       "\n"
      ],
      "text/plain": [
       "[1] 2550  768"
      ]
     },
     "metadata": {},
     "output_type": "display_data"
    },
    {
     "data": {
      "text/html": [
       "<table class=\"dataframe\">\n",
       "<caption>A data.frame: 6 × 768</caption>\n",
       "<thead>\n",
       "\t<tr><th></th><th scope=col>V1</th><th scope=col>V2</th><th scope=col>V3</th><th scope=col>V4</th><th scope=col>V5</th><th scope=col>V6</th><th scope=col>V7</th><th scope=col>V8</th><th scope=col>V9</th><th scope=col>V10</th><th scope=col>⋯</th><th scope=col>V759</th><th scope=col>V760</th><th scope=col>V761</th><th scope=col>V762</th><th scope=col>V763</th><th scope=col>V764</th><th scope=col>V765</th><th scope=col>V766</th><th scope=col>V767</th><th scope=col>V768</th></tr>\n",
       "\t<tr><th></th><th scope=col>&lt;dbl&gt;</th><th scope=col>&lt;dbl&gt;</th><th scope=col>&lt;dbl&gt;</th><th scope=col>&lt;dbl&gt;</th><th scope=col>&lt;dbl&gt;</th><th scope=col>&lt;dbl&gt;</th><th scope=col>&lt;dbl&gt;</th><th scope=col>&lt;dbl&gt;</th><th scope=col>&lt;dbl&gt;</th><th scope=col>&lt;dbl&gt;</th><th scope=col>⋯</th><th scope=col>&lt;dbl&gt;</th><th scope=col>&lt;dbl&gt;</th><th scope=col>&lt;dbl&gt;</th><th scope=col>&lt;dbl&gt;</th><th scope=col>&lt;dbl&gt;</th><th scope=col>&lt;dbl&gt;</th><th scope=col>&lt;dbl&gt;</th><th scope=col>&lt;dbl&gt;</th><th scope=col>&lt;dbl&gt;</th><th scope=col>&lt;dbl&gt;</th></tr>\n",
       "</thead>\n",
       "<tbody>\n",
       "\t<tr><th scope=row>1</th><td>-0.01065577</td><td>0.17162082</td><td>0.07070802</td><td>-0.14250818</td><td> 0.09401490</td><td>0.2281031</td><td>0.03847460</td><td>0.0101683084</td><td> 0.007156015</td><td> 0.00809270</td><td>⋯</td><td>-0.0008820345</td><td>-0.05510386</td><td> 0.02274735</td><td>0.0130305253</td><td> 0.079225592</td><td>0.08573294</td><td> 0.02887944</td><td> 0.068842202</td><td> 0.015631704</td><td>-0.03130931</td></tr>\n",
       "\t<tr><th scope=row>2</th><td> 0.01087508</td><td>0.21920277</td><td>0.07373214</td><td>-0.13705434</td><td> 0.12080667</td><td>0.2224719</td><td>0.03767246</td><td>0.0205100421</td><td>-0.033579458</td><td>-0.02234134</td><td>⋯</td><td>-0.0103599159</td><td>-0.01774607</td><td>-0.00597649</td><td>0.0008034957</td><td> 0.081369951</td><td>0.09313472</td><td> 0.03644373</td><td> 0.046994265</td><td>-0.002939301</td><td>-0.03359382</td></tr>\n",
       "\t<tr><th scope=row>3</th><td> 0.02878954</td><td>0.15941419</td><td>0.11170983</td><td>-0.13862039</td><td> 0.09010795</td><td>0.2698942</td><td>0.01351254</td><td>0.0578485802</td><td>-0.019821843</td><td>-0.04821220</td><td>⋯</td><td>-0.0156438090</td><td>-0.05600847</td><td> 0.04371329</td><td>0.0443126149</td><td> 0.138328880</td><td>0.07420971</td><td> 0.02502623</td><td>-0.006326944</td><td> 0.041711487</td><td>-0.02182001</td></tr>\n",
       "\t<tr><th scope=row>4</th><td> 0.03325859</td><td>0.23046023</td><td>0.10813868</td><td>-0.12438165</td><td> 0.10976613</td><td>0.2397555</td><td>0.02504187</td><td>0.0008743505</td><td> 0.022798153</td><td> 0.02452957</td><td>⋯</td><td>-0.0514836572</td><td>-0.01167708</td><td> 0.07093766</td><td>0.0241212081</td><td> 0.120546617</td><td>0.06744061</td><td>-0.02056895</td><td> 0.064800523</td><td> 0.032108698</td><td>-0.01556792</td></tr>\n",
       "\t<tr><th scope=row>5</th><td> 0.06590359</td><td>0.11440850</td><td>0.07370606</td><td>-0.13567548</td><td> 0.01663973</td><td>0.1234191</td><td>0.00533645</td><td>0.0252679978</td><td> 0.039820533</td><td>-0.03309957</td><td>⋯</td><td> 0.0130621456</td><td>-0.07256314</td><td> 0.02431746</td><td>0.0094972663</td><td> 0.092259914</td><td>0.06140486</td><td> 0.14072876</td><td> 0.024600221</td><td>-0.010641599</td><td> 0.01302812</td></tr>\n",
       "\t<tr><th scope=row>6</th><td> 0.01830397</td><td>0.07895082</td><td>0.15187693</td><td>-0.04768516</td><td>-0.23255850</td><td>0.1464310</td><td>0.03889984</td><td>0.2115037888</td><td> 0.135829598</td><td>-0.04959927</td><td>⋯</td><td> 0.0304254126</td><td>-0.11539210</td><td>-0.08152495</td><td>0.0051791477</td><td>-0.002064273</td><td>0.03301026</td><td> 0.14738438</td><td> 0.086929388</td><td> 0.003801686</td><td> 0.06784646</td></tr>\n",
       "</tbody>\n",
       "</table>\n"
      ],
      "text/latex": [
       "A data.frame: 6 × 768\n",
       "\\begin{tabular}{r|lllllllllllllllllllll}\n",
       "  & V1 & V2 & V3 & V4 & V5 & V6 & V7 & V8 & V9 & V10 & ⋯ & V759 & V760 & V761 & V762 & V763 & V764 & V765 & V766 & V767 & V768\\\\\n",
       "  & <dbl> & <dbl> & <dbl> & <dbl> & <dbl> & <dbl> & <dbl> & <dbl> & <dbl> & <dbl> & ⋯ & <dbl> & <dbl> & <dbl> & <dbl> & <dbl> & <dbl> & <dbl> & <dbl> & <dbl> & <dbl>\\\\\n",
       "\\hline\n",
       "\t1 & -0.01065577 & 0.17162082 & 0.07070802 & -0.14250818 &  0.09401490 & 0.2281031 & 0.03847460 & 0.0101683084 &  0.007156015 &  0.00809270 & ⋯ & -0.0008820345 & -0.05510386 &  0.02274735 & 0.0130305253 &  0.079225592 & 0.08573294 &  0.02887944 &  0.068842202 &  0.015631704 & -0.03130931\\\\\n",
       "\t2 &  0.01087508 & 0.21920277 & 0.07373214 & -0.13705434 &  0.12080667 & 0.2224719 & 0.03767246 & 0.0205100421 & -0.033579458 & -0.02234134 & ⋯ & -0.0103599159 & -0.01774607 & -0.00597649 & 0.0008034957 &  0.081369951 & 0.09313472 &  0.03644373 &  0.046994265 & -0.002939301 & -0.03359382\\\\\n",
       "\t3 &  0.02878954 & 0.15941419 & 0.11170983 & -0.13862039 &  0.09010795 & 0.2698942 & 0.01351254 & 0.0578485802 & -0.019821843 & -0.04821220 & ⋯ & -0.0156438090 & -0.05600847 &  0.04371329 & 0.0443126149 &  0.138328880 & 0.07420971 &  0.02502623 & -0.006326944 &  0.041711487 & -0.02182001\\\\\n",
       "\t4 &  0.03325859 & 0.23046023 & 0.10813868 & -0.12438165 &  0.10976613 & 0.2397555 & 0.02504187 & 0.0008743505 &  0.022798153 &  0.02452957 & ⋯ & -0.0514836572 & -0.01167708 &  0.07093766 & 0.0241212081 &  0.120546617 & 0.06744061 & -0.02056895 &  0.064800523 &  0.032108698 & -0.01556792\\\\\n",
       "\t5 &  0.06590359 & 0.11440850 & 0.07370606 & -0.13567548 &  0.01663973 & 0.1234191 & 0.00533645 & 0.0252679978 &  0.039820533 & -0.03309957 & ⋯ &  0.0130621456 & -0.07256314 &  0.02431746 & 0.0094972663 &  0.092259914 & 0.06140486 &  0.14072876 &  0.024600221 & -0.010641599 &  0.01302812\\\\\n",
       "\t6 &  0.01830397 & 0.07895082 & 0.15187693 & -0.04768516 & -0.23255850 & 0.1464310 & 0.03889984 & 0.2115037888 &  0.135829598 & -0.04959927 & ⋯ &  0.0304254126 & -0.11539210 & -0.08152495 & 0.0051791477 & -0.002064273 & 0.03301026 &  0.14738438 &  0.086929388 &  0.003801686 &  0.06784646\\\\\n",
       "\\end{tabular}\n"
      ],
      "text/markdown": [
       "\n",
       "A data.frame: 6 × 768\n",
       "\n",
       "| <!--/--> | V1 &lt;dbl&gt; | V2 &lt;dbl&gt; | V3 &lt;dbl&gt; | V4 &lt;dbl&gt; | V5 &lt;dbl&gt; | V6 &lt;dbl&gt; | V7 &lt;dbl&gt; | V8 &lt;dbl&gt; | V9 &lt;dbl&gt; | V10 &lt;dbl&gt; | ⋯ ⋯ | V759 &lt;dbl&gt; | V760 &lt;dbl&gt; | V761 &lt;dbl&gt; | V762 &lt;dbl&gt; | V763 &lt;dbl&gt; | V764 &lt;dbl&gt; | V765 &lt;dbl&gt; | V766 &lt;dbl&gt; | V767 &lt;dbl&gt; | V768 &lt;dbl&gt; |\n",
       "|---|---|---|---|---|---|---|---|---|---|---|---|---|---|---|---|---|---|---|---|---|---|\n",
       "| 1 | -0.01065577 | 0.17162082 | 0.07070802 | -0.14250818 |  0.09401490 | 0.2281031 | 0.03847460 | 0.0101683084 |  0.007156015 |  0.00809270 | ⋯ | -0.0008820345 | -0.05510386 |  0.02274735 | 0.0130305253 |  0.079225592 | 0.08573294 |  0.02887944 |  0.068842202 |  0.015631704 | -0.03130931 |\n",
       "| 2 |  0.01087508 | 0.21920277 | 0.07373214 | -0.13705434 |  0.12080667 | 0.2224719 | 0.03767246 | 0.0205100421 | -0.033579458 | -0.02234134 | ⋯ | -0.0103599159 | -0.01774607 | -0.00597649 | 0.0008034957 |  0.081369951 | 0.09313472 |  0.03644373 |  0.046994265 | -0.002939301 | -0.03359382 |\n",
       "| 3 |  0.02878954 | 0.15941419 | 0.11170983 | -0.13862039 |  0.09010795 | 0.2698942 | 0.01351254 | 0.0578485802 | -0.019821843 | -0.04821220 | ⋯ | -0.0156438090 | -0.05600847 |  0.04371329 | 0.0443126149 |  0.138328880 | 0.07420971 |  0.02502623 | -0.006326944 |  0.041711487 | -0.02182001 |\n",
       "| 4 |  0.03325859 | 0.23046023 | 0.10813868 | -0.12438165 |  0.10976613 | 0.2397555 | 0.02504187 | 0.0008743505 |  0.022798153 |  0.02452957 | ⋯ | -0.0514836572 | -0.01167708 |  0.07093766 | 0.0241212081 |  0.120546617 | 0.06744061 | -0.02056895 |  0.064800523 |  0.032108698 | -0.01556792 |\n",
       "| 5 |  0.06590359 | 0.11440850 | 0.07370606 | -0.13567548 |  0.01663973 | 0.1234191 | 0.00533645 | 0.0252679978 |  0.039820533 | -0.03309957 | ⋯ |  0.0130621456 | -0.07256314 |  0.02431746 | 0.0094972663 |  0.092259914 | 0.06140486 |  0.14072876 |  0.024600221 | -0.010641599 |  0.01302812 |\n",
       "| 6 |  0.01830397 | 0.07895082 | 0.15187693 | -0.04768516 | -0.23255850 | 0.1464310 | 0.03889984 | 0.2115037888 |  0.135829598 | -0.04959927 | ⋯ |  0.0304254126 | -0.11539210 | -0.08152495 | 0.0051791477 | -0.002064273 | 0.03301026 |  0.14738438 |  0.086929388 |  0.003801686 |  0.06784646 |\n",
       "\n"
      ],
      "text/plain": [
       "  V1          V2         V3         V4          V5          V6       \n",
       "1 -0.01065577 0.17162082 0.07070802 -0.14250818  0.09401490 0.2281031\n",
       "2  0.01087508 0.21920277 0.07373214 -0.13705434  0.12080667 0.2224719\n",
       "3  0.02878954 0.15941419 0.11170983 -0.13862039  0.09010795 0.2698942\n",
       "4  0.03325859 0.23046023 0.10813868 -0.12438165  0.10976613 0.2397555\n",
       "5  0.06590359 0.11440850 0.07370606 -0.13567548  0.01663973 0.1234191\n",
       "6  0.01830397 0.07895082 0.15187693 -0.04768516 -0.23255850 0.1464310\n",
       "  V7         V8           V9           V10         ⋯ V759          V760       \n",
       "1 0.03847460 0.0101683084  0.007156015  0.00809270 ⋯ -0.0008820345 -0.05510386\n",
       "2 0.03767246 0.0205100421 -0.033579458 -0.02234134 ⋯ -0.0103599159 -0.01774607\n",
       "3 0.01351254 0.0578485802 -0.019821843 -0.04821220 ⋯ -0.0156438090 -0.05600847\n",
       "4 0.02504187 0.0008743505  0.022798153  0.02452957 ⋯ -0.0514836572 -0.01167708\n",
       "5 0.00533645 0.0252679978  0.039820533 -0.03309957 ⋯  0.0130621456 -0.07256314\n",
       "6 0.03889984 0.2115037888  0.135829598 -0.04959927 ⋯  0.0304254126 -0.11539210\n",
       "  V761        V762         V763         V764       V765        V766        \n",
       "1  0.02274735 0.0130305253  0.079225592 0.08573294  0.02887944  0.068842202\n",
       "2 -0.00597649 0.0008034957  0.081369951 0.09313472  0.03644373  0.046994265\n",
       "3  0.04371329 0.0443126149  0.138328880 0.07420971  0.02502623 -0.006326944\n",
       "4  0.07093766 0.0241212081  0.120546617 0.06744061 -0.02056895  0.064800523\n",
       "5  0.02431746 0.0094972663  0.092259914 0.06140486  0.14072876  0.024600221\n",
       "6 -0.08152495 0.0051791477 -0.002064273 0.03301026  0.14738438  0.086929388\n",
       "  V767         V768       \n",
       "1  0.015631704 -0.03130931\n",
       "2 -0.002939301 -0.03359382\n",
       "3  0.041711487 -0.02182001\n",
       "4  0.032108698 -0.01556792\n",
       "5 -0.010641599  0.01302812\n",
       "6  0.003801686  0.06784646"
      ]
     },
     "metadata": {},
     "output_type": "display_data"
    }
   ],
   "source": [
    "dim(df)\n",
    "head(df)"
   ]
  },
  {
   "cell_type": "code",
   "execution_count": 11,
   "id": "85d2a9aa",
   "metadata": {
    "execution": {
     "iopub.execute_input": "2023-12-01T21:11:37.481239Z",
     "iopub.status.busy": "2023-12-01T21:11:37.479735Z",
     "iopub.status.idle": "2023-12-01T21:11:37.495542Z",
     "shell.execute_reply": "2023-12-01T21:11:37.493754Z"
    },
    "papermill": {
     "duration": 0.027391,
     "end_time": "2023-12-01T21:11:37.497959",
     "exception": false,
     "start_time": "2023-12-01T21:11:37.470568",
     "status": "completed"
    },
    "tags": []
   },
   "outputs": [],
   "source": [
    "df$text <- dat$text\n",
    "df$label <- as.factor(dat$label)"
   ]
  },
  {
   "cell_type": "code",
   "execution_count": 12,
   "id": "7b794015",
   "metadata": {
    "execution": {
     "iopub.execute_input": "2023-12-01T21:11:37.516698Z",
     "iopub.status.busy": "2023-12-01T21:11:37.515063Z",
     "iopub.status.idle": "2023-12-01T21:11:40.539903Z",
     "shell.execute_reply": "2023-12-01T21:11:40.537907Z"
    },
    "papermill": {
     "duration": 3.037245,
     "end_time": "2023-12-01T21:11:40.542631",
     "exception": false,
     "start_time": "2023-12-01T21:11:37.505386",
     "status": "completed"
    },
    "tags": []
   },
   "outputs": [],
   "source": [
    "write.csv(df, 'df.csv')"
   ]
  },
  {
   "cell_type": "code",
   "execution_count": 13,
   "id": "3a7ed205",
   "metadata": {
    "execution": {
     "iopub.execute_input": "2023-12-01T21:11:40.561184Z",
     "iopub.status.busy": "2023-12-01T21:11:40.559585Z",
     "iopub.status.idle": "2023-12-01T21:11:41.805203Z",
     "shell.execute_reply": "2023-12-01T21:11:41.803025Z"
    },
    "papermill": {
     "duration": 1.258461,
     "end_time": "2023-12-01T21:11:41.808710",
     "exception": false,
     "start_time": "2023-12-01T21:11:40.550249",
     "status": "completed"
    },
    "tags": []
   },
   "outputs": [
    {
     "name": "stderr",
     "output_type": "stream",
     "text": [
      "Loading required package: recipes\n",
      "\n",
      "Loading required package: dplyr\n",
      "\n",
      "\n",
      "Attaching package: ‘dplyr’\n",
      "\n",
      "\n",
      "The following objects are masked from ‘package:stats’:\n",
      "\n",
      "    filter, lag\n",
      "\n",
      "\n",
      "The following objects are masked from ‘package:base’:\n",
      "\n",
      "    intersect, setdiff, setequal, union\n",
      "\n",
      "\n",
      "\n",
      "Attaching package: ‘recipes’\n",
      "\n",
      "\n",
      "The following object is masked from ‘package:stats’:\n",
      "\n",
      "    step\n",
      "\n",
      "\n",
      "\n",
      "\n",
      "\u001b[36m──\u001b[39m \u001b[1mRecipe\u001b[22m \u001b[36m──────────────────────────────────────────────────────────────────────\u001b[39m\n",
      "\n",
      "\n",
      "\n",
      "── Inputs \n",
      "\n",
      "Number of variables by role\n",
      "\n",
      "outcome:     1\n",
      "predictor: 769\n",
      "\n",
      "\n",
      "\n",
      "── Operations \n",
      "\n",
      "\u001b[36m•\u001b[39m Centering and scaling for: \u001b[34mall_of(embed_names)\u001b[39m\n",
      "\n",
      "\u001b[36m•\u001b[39m Scaling for: \u001b[34mall_of(setdiff(embed_names, non_numeric_cols))\u001b[39m\n",
      "\n",
      "\u001b[36m•\u001b[39m Mean imputation for: \u001b[34mall_predictors()\u001b[39m, \u001b[34m-all_of(non_numeric_cols)\u001b[39m\n",
      "\n"
     ]
    }
   ],
   "source": [
    "require(recipes)\n",
    "require(dplyr)\n",
    "\n",
    "predictor_names <- as.character(colnames(df))\n",
    "\n",
    "embed_names <- colnames(df)[1:768]\n",
    "\n",
    "non_numeric_cols <- c('text', 'label')\n",
    "\n",
    "blueprint <- recipe(x = df,\n",
    "                    vars = c(paste(predictor_names)),\n",
    "                    roles = c(rep('predictor',769),'outcome')) %>%\n",
    "                    step_normalize(all_of(embed_names)) %>%\n",
    "                    step_scale(all_of(setdiff(embed_names, non_numeric_cols))) %>%\n",
    "                    step_impute_mean(all_predictors(), -all_of(non_numeric_cols))\n",
    "\n",
    "blueprint"
   ]
  },
  {
   "cell_type": "code",
   "execution_count": 14,
   "id": "f9edfd1b",
   "metadata": {
    "execution": {
     "iopub.execute_input": "2023-12-01T21:11:41.837027Z",
     "iopub.status.busy": "2023-12-01T21:11:41.835381Z",
     "iopub.status.idle": "2023-12-01T21:11:42.894972Z",
     "shell.execute_reply": "2023-12-01T21:11:42.893123Z"
    },
    "papermill": {
     "duration": 1.073309,
     "end_time": "2023-12-01T21:11:42.897628",
     "exception": false,
     "start_time": "2023-12-01T21:11:41.824319",
     "status": "completed"
    },
    "tags": []
   },
   "outputs": [
    {
     "name": "stderr",
     "output_type": "stream",
     "text": [
      "\n",
      "\n",
      "\u001b[36m──\u001b[39m \u001b[1mRecipe\u001b[22m \u001b[36m──────────────────────────────────────────────────────────────────────\u001b[39m\n",
      "\n",
      "\n",
      "\n",
      "── Inputs \n",
      "\n",
      "Number of variables by role\n",
      "\n",
      "outcome:     1\n",
      "predictor: 769\n",
      "\n",
      "\n",
      "\n",
      "── Training information \n",
      "\n",
      "Training data contained 2550 data points and no incomplete rows.\n",
      "\n",
      "\n",
      "\n",
      "── Operations \n",
      "\n",
      "\u001b[36m•\u001b[39m Centering and scaling for: \u001b[34mV1\u001b[39m, \u001b[34mV2\u001b[39m, \u001b[34mV3\u001b[39m, \u001b[34mV4\u001b[39m, \u001b[34mV5\u001b[39m, \u001b[34mV6\u001b[39m, \u001b[34mV7\u001b[39m, \u001b[34mV8\u001b[39m, \u001b[34mV9\u001b[39m, ... | \u001b[3mTrained\u001b[23m\n",
      "\n",
      "\u001b[36m•\u001b[39m Scaling for: \u001b[34mV1\u001b[39m, \u001b[34mV2\u001b[39m, \u001b[34mV3\u001b[39m, \u001b[34mV4\u001b[39m, \u001b[34mV5\u001b[39m, \u001b[34mV6\u001b[39m, \u001b[34mV7\u001b[39m, \u001b[34mV8\u001b[39m, \u001b[34mV9\u001b[39m, \u001b[34mV10\u001b[39m, \u001b[34mV11\u001b[39m, \u001b[34mV12\u001b[39m, ... | \u001b[3mTrained\u001b[23m\n",
      "\n",
      "\u001b[36m•\u001b[39m Mean imputation for: \u001b[34mV1\u001b[39m, \u001b[34mV2\u001b[39m, \u001b[34mV3\u001b[39m, \u001b[34mV4\u001b[39m, \u001b[34mV5\u001b[39m, \u001b[34mV6\u001b[39m, \u001b[34mV7\u001b[39m, \u001b[34mV8\u001b[39m, \u001b[34mV9\u001b[39m, \u001b[34mV10\u001b[39m, ... | \u001b[3mTrained\u001b[23m\n",
      "\n"
     ]
    }
   ],
   "source": [
    "prepare <- prep(blueprint,\n",
    "                training = df)\n",
    "\n",
    "prepare"
   ]
  },
  {
   "cell_type": "code",
   "execution_count": 15,
   "id": "d88af940",
   "metadata": {
    "execution": {
     "iopub.execute_input": "2023-12-01T21:11:42.921857Z",
     "iopub.status.busy": "2023-12-01T21:11:42.920295Z",
     "iopub.status.idle": "2023-12-01T21:11:43.365967Z",
     "shell.execute_reply": "2023-12-01T21:11:43.364277Z"
    },
    "papermill": {
     "duration": 0.460453,
     "end_time": "2023-12-01T21:11:43.368410",
     "exception": false,
     "start_time": "2023-12-01T21:11:42.907957",
     "status": "completed"
    },
    "tags": []
   },
   "outputs": [
    {
     "data": {
      "text/html": [
       "<style>\n",
       ".list-inline {list-style: none; margin:0; padding: 0}\n",
       ".list-inline>li {display: inline-block}\n",
       ".list-inline>li:not(:last-child)::after {content: \"\\00b7\"; padding: 0 .5ex}\n",
       "</style>\n",
       "<ol class=list-inline><li>2550</li><li>770</li></ol>\n"
      ],
      "text/latex": [
       "\\begin{enumerate*}\n",
       "\\item 2550\n",
       "\\item 770\n",
       "\\end{enumerate*}\n"
      ],
      "text/markdown": [
       "1. 2550\n",
       "2. 770\n",
       "\n",
       "\n"
      ],
      "text/plain": [
       "[1] 2550  770"
      ]
     },
     "metadata": {},
     "output_type": "display_data"
    }
   ],
   "source": [
    "baked <- bake(prepare, new_data = df)\n",
    "dim(baked)"
   ]
  },
  {
   "cell_type": "code",
   "execution_count": 16,
   "id": "6672aac0",
   "metadata": {
    "execution": {
     "iopub.execute_input": "2023-12-01T21:11:43.394478Z",
     "iopub.status.busy": "2023-12-01T21:11:43.392947Z",
     "iopub.status.idle": "2023-12-01T21:11:46.309263Z",
     "shell.execute_reply": "2023-12-01T21:11:46.307305Z"
    },
    "papermill": {
     "duration": 2.930981,
     "end_time": "2023-12-01T21:11:46.311763",
     "exception": false,
     "start_time": "2023-12-01T21:11:43.380782",
     "status": "completed"
    },
    "tags": []
   },
   "outputs": [],
   "source": [
    "write.csv(baked, 'baked.csv')"
   ]
  }
 ],
 "metadata": {
  "kaggle": {
   "accelerator": "gpu",
   "dataSources": [
    {
     "databundleVersionId": 6888007,
     "sourceId": 61542,
     "sourceType": "competition"
    },
    {
     "datasetId": 4035516,
     "sourceId": 7018354,
     "sourceType": "datasetVersion"
    },
    {
     "datasetId": 3944051,
     "sourceId": 7060310,
     "sourceType": "datasetVersion"
    }
   ],
   "isGpuEnabled": true,
   "isInternetEnabled": true,
   "language": "r",
   "sourceType": "notebook"
  },
  "kernelspec": {
   "display_name": "R",
   "language": "R",
   "name": "ir"
  },
  "language_info": {
   "codemirror_mode": "r",
   "file_extension": ".r",
   "mimetype": "text/x-r-source",
   "name": "R",
   "pygments_lexer": "r",
   "version": "4.0.5"
  },
  "papermill": {
   "default_parameters": {},
   "duration": 9067.564325,
   "end_time": "2023-12-01T21:11:46.746195",
   "environment_variables": {},
   "exception": null,
   "input_path": "__notebook__.ipynb",
   "output_path": "__notebook__.ipynb",
   "parameters": {},
   "start_time": "2023-12-01T18:40:39.181870",
   "version": "2.4.0"
  }
 },
 "nbformat": 4,
 "nbformat_minor": 5
}
